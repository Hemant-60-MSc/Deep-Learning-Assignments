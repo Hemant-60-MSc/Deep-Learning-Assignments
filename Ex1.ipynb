{
  "nbformat": 4,
  "nbformat_minor": 0,
  "metadata": {
    "accelerator": "GPU",
    "colab": {
      "name": "Ex1_2021.ipynb",
      "provenance": [],
      "collapsed_sections": []
    },
    "interpreter": {
      "hash": "55afd582f26a0ea093c7e935c8b892d8066f76338b0d849fee432a1ca460624e"
    },
    "kernelspec": {
      "display_name": "Python 3",
      "language": "python",
      "name": "python3"
    },
    "language_info": {
      "codemirror_mode": {
        "name": "ipython",
        "version": 3
      },
      "file_extension": ".py",
      "mimetype": "text/x-python",
      "name": "python",
      "nbconvert_exporter": "python",
      "pygments_lexer": "ipython3",
      "version": "3.9.4"
    },
    "nteract": {
      "version": "0.15.0"
    },
    "widgets": {
      "application/vnd.jupyter.widget-state+json": {
        "7297192f9d654919a2a23bb045c50aa8": {
          "model_module": "@jupyter-widgets/controls",
          "model_name": "HBoxModel",
          "model_module_version": "1.5.0",
          "state": {
            "_view_name": "HBoxView",
            "_dom_classes": [],
            "_model_name": "HBoxModel",
            "_view_module": "@jupyter-widgets/controls",
            "_model_module_version": "1.5.0",
            "_view_count": null,
            "_view_module_version": "1.5.0",
            "box_style": "",
            "layout": "IPY_MODEL_40fcd3e207964eb6b9ea57d132a7b6e9",
            "_model_module": "@jupyter-widgets/controls",
            "children": [
              "IPY_MODEL_6555ab8bf5184e00a736e7b270f89a32",
              "IPY_MODEL_d194184572b34861b6d7396b491425f3",
              "IPY_MODEL_c905e2d154ee402d910cdf8144fb9b47"
            ]
          }
        },
        "40fcd3e207964eb6b9ea57d132a7b6e9": {
          "model_module": "@jupyter-widgets/base",
          "model_name": "LayoutModel",
          "model_module_version": "1.2.0",
          "state": {
            "_view_name": "LayoutView",
            "grid_template_rows": null,
            "right": null,
            "justify_content": null,
            "_view_module": "@jupyter-widgets/base",
            "overflow": null,
            "_model_module_version": "1.2.0",
            "_view_count": null,
            "flex_flow": null,
            "width": null,
            "min_width": null,
            "border": null,
            "align_items": null,
            "bottom": null,
            "_model_module": "@jupyter-widgets/base",
            "top": null,
            "grid_column": null,
            "overflow_y": null,
            "overflow_x": null,
            "grid_auto_flow": null,
            "grid_area": null,
            "grid_template_columns": null,
            "flex": null,
            "_model_name": "LayoutModel",
            "justify_items": null,
            "grid_row": null,
            "max_height": null,
            "align_content": null,
            "visibility": null,
            "align_self": null,
            "height": null,
            "min_height": null,
            "padding": null,
            "grid_auto_rows": null,
            "grid_gap": null,
            "max_width": null,
            "order": null,
            "_view_module_version": "1.2.0",
            "grid_template_areas": null,
            "object_position": null,
            "object_fit": null,
            "grid_auto_columns": null,
            "margin": null,
            "display": null,
            "left": null
          }
        },
        "6555ab8bf5184e00a736e7b270f89a32": {
          "model_module": "@jupyter-widgets/controls",
          "model_name": "HTMLModel",
          "model_module_version": "1.5.0",
          "state": {
            "_view_name": "HTMLView",
            "style": "IPY_MODEL_27576faafc6943aba7def2b1a7d901e0",
            "_dom_classes": [],
            "description": "",
            "_model_name": "HTMLModel",
            "placeholder": "​",
            "_view_module": "@jupyter-widgets/controls",
            "_model_module_version": "1.5.0",
            "value": "",
            "_view_count": null,
            "_view_module_version": "1.5.0",
            "description_tooltip": null,
            "_model_module": "@jupyter-widgets/controls",
            "layout": "IPY_MODEL_b0180a93f9e544bdae774dd77f368648"
          }
        },
        "d194184572b34861b6d7396b491425f3": {
          "model_module": "@jupyter-widgets/controls",
          "model_name": "FloatProgressModel",
          "model_module_version": "1.5.0",
          "state": {
            "_view_name": "ProgressView",
            "style": "IPY_MODEL_a8ab874f60514e708d88210078284e06",
            "_dom_classes": [],
            "description": "",
            "_model_name": "FloatProgressModel",
            "bar_style": "success",
            "max": 9912422,
            "_view_module": "@jupyter-widgets/controls",
            "_model_module_version": "1.5.0",
            "value": 9912422,
            "_view_count": null,
            "_view_module_version": "1.5.0",
            "orientation": "horizontal",
            "min": 0,
            "description_tooltip": null,
            "_model_module": "@jupyter-widgets/controls",
            "layout": "IPY_MODEL_2f96307ada554bf3a921834270cacf99"
          }
        },
        "c905e2d154ee402d910cdf8144fb9b47": {
          "model_module": "@jupyter-widgets/controls",
          "model_name": "HTMLModel",
          "model_module_version": "1.5.0",
          "state": {
            "_view_name": "HTMLView",
            "style": "IPY_MODEL_ad40dd6bbf5649569ff1cb122c7bae4b",
            "_dom_classes": [],
            "description": "",
            "_model_name": "HTMLModel",
            "placeholder": "​",
            "_view_module": "@jupyter-widgets/controls",
            "_model_module_version": "1.5.0",
            "value": " 9913344/? [00:00&lt;00:00, 19380102.25it/s]",
            "_view_count": null,
            "_view_module_version": "1.5.0",
            "description_tooltip": null,
            "_model_module": "@jupyter-widgets/controls",
            "layout": "IPY_MODEL_dc4f46ee97ac41a79b79bb92a17f57b6"
          }
        },
        "27576faafc6943aba7def2b1a7d901e0": {
          "model_module": "@jupyter-widgets/controls",
          "model_name": "DescriptionStyleModel",
          "model_module_version": "1.5.0",
          "state": {
            "_view_name": "StyleView",
            "_model_name": "DescriptionStyleModel",
            "description_width": "",
            "_view_module": "@jupyter-widgets/base",
            "_model_module_version": "1.5.0",
            "_view_count": null,
            "_view_module_version": "1.2.0",
            "_model_module": "@jupyter-widgets/controls"
          }
        },
        "b0180a93f9e544bdae774dd77f368648": {
          "model_module": "@jupyter-widgets/base",
          "model_name": "LayoutModel",
          "model_module_version": "1.2.0",
          "state": {
            "_view_name": "LayoutView",
            "grid_template_rows": null,
            "right": null,
            "justify_content": null,
            "_view_module": "@jupyter-widgets/base",
            "overflow": null,
            "_model_module_version": "1.2.0",
            "_view_count": null,
            "flex_flow": null,
            "width": null,
            "min_width": null,
            "border": null,
            "align_items": null,
            "bottom": null,
            "_model_module": "@jupyter-widgets/base",
            "top": null,
            "grid_column": null,
            "overflow_y": null,
            "overflow_x": null,
            "grid_auto_flow": null,
            "grid_area": null,
            "grid_template_columns": null,
            "flex": null,
            "_model_name": "LayoutModel",
            "justify_items": null,
            "grid_row": null,
            "max_height": null,
            "align_content": null,
            "visibility": null,
            "align_self": null,
            "height": null,
            "min_height": null,
            "padding": null,
            "grid_auto_rows": null,
            "grid_gap": null,
            "max_width": null,
            "order": null,
            "_view_module_version": "1.2.0",
            "grid_template_areas": null,
            "object_position": null,
            "object_fit": null,
            "grid_auto_columns": null,
            "margin": null,
            "display": null,
            "left": null
          }
        },
        "a8ab874f60514e708d88210078284e06": {
          "model_module": "@jupyter-widgets/controls",
          "model_name": "ProgressStyleModel",
          "model_module_version": "1.5.0",
          "state": {
            "_view_name": "StyleView",
            "_model_name": "ProgressStyleModel",
            "description_width": "",
            "_view_module": "@jupyter-widgets/base",
            "_model_module_version": "1.5.0",
            "_view_count": null,
            "_view_module_version": "1.2.0",
            "bar_color": null,
            "_model_module": "@jupyter-widgets/controls"
          }
        },
        "2f96307ada554bf3a921834270cacf99": {
          "model_module": "@jupyter-widgets/base",
          "model_name": "LayoutModel",
          "model_module_version": "1.2.0",
          "state": {
            "_view_name": "LayoutView",
            "grid_template_rows": null,
            "right": null,
            "justify_content": null,
            "_view_module": "@jupyter-widgets/base",
            "overflow": null,
            "_model_module_version": "1.2.0",
            "_view_count": null,
            "flex_flow": null,
            "width": null,
            "min_width": null,
            "border": null,
            "align_items": null,
            "bottom": null,
            "_model_module": "@jupyter-widgets/base",
            "top": null,
            "grid_column": null,
            "overflow_y": null,
            "overflow_x": null,
            "grid_auto_flow": null,
            "grid_area": null,
            "grid_template_columns": null,
            "flex": null,
            "_model_name": "LayoutModel",
            "justify_items": null,
            "grid_row": null,
            "max_height": null,
            "align_content": null,
            "visibility": null,
            "align_self": null,
            "height": null,
            "min_height": null,
            "padding": null,
            "grid_auto_rows": null,
            "grid_gap": null,
            "max_width": null,
            "order": null,
            "_view_module_version": "1.2.0",
            "grid_template_areas": null,
            "object_position": null,
            "object_fit": null,
            "grid_auto_columns": null,
            "margin": null,
            "display": null,
            "left": null
          }
        },
        "ad40dd6bbf5649569ff1cb122c7bae4b": {
          "model_module": "@jupyter-widgets/controls",
          "model_name": "DescriptionStyleModel",
          "model_module_version": "1.5.0",
          "state": {
            "_view_name": "StyleView",
            "_model_name": "DescriptionStyleModel",
            "description_width": "",
            "_view_module": "@jupyter-widgets/base",
            "_model_module_version": "1.5.0",
            "_view_count": null,
            "_view_module_version": "1.2.0",
            "_model_module": "@jupyter-widgets/controls"
          }
        },
        "dc4f46ee97ac41a79b79bb92a17f57b6": {
          "model_module": "@jupyter-widgets/base",
          "model_name": "LayoutModel",
          "model_module_version": "1.2.0",
          "state": {
            "_view_name": "LayoutView",
            "grid_template_rows": null,
            "right": null,
            "justify_content": null,
            "_view_module": "@jupyter-widgets/base",
            "overflow": null,
            "_model_module_version": "1.2.0",
            "_view_count": null,
            "flex_flow": null,
            "width": null,
            "min_width": null,
            "border": null,
            "align_items": null,
            "bottom": null,
            "_model_module": "@jupyter-widgets/base",
            "top": null,
            "grid_column": null,
            "overflow_y": null,
            "overflow_x": null,
            "grid_auto_flow": null,
            "grid_area": null,
            "grid_template_columns": null,
            "flex": null,
            "_model_name": "LayoutModel",
            "justify_items": null,
            "grid_row": null,
            "max_height": null,
            "align_content": null,
            "visibility": null,
            "align_self": null,
            "height": null,
            "min_height": null,
            "padding": null,
            "grid_auto_rows": null,
            "grid_gap": null,
            "max_width": null,
            "order": null,
            "_view_module_version": "1.2.0",
            "grid_template_areas": null,
            "object_position": null,
            "object_fit": null,
            "grid_auto_columns": null,
            "margin": null,
            "display": null,
            "left": null
          }
        },
        "a92ce00a1d3e4b85b9089bbe40abbc03": {
          "model_module": "@jupyter-widgets/controls",
          "model_name": "HBoxModel",
          "model_module_version": "1.5.0",
          "state": {
            "_view_name": "HBoxView",
            "_dom_classes": [],
            "_model_name": "HBoxModel",
            "_view_module": "@jupyter-widgets/controls",
            "_model_module_version": "1.5.0",
            "_view_count": null,
            "_view_module_version": "1.5.0",
            "box_style": "",
            "layout": "IPY_MODEL_b7af5e4986e8410c8828c7de5333b179",
            "_model_module": "@jupyter-widgets/controls",
            "children": [
              "IPY_MODEL_1fe50efe495a4e369b2c7617afad1d51",
              "IPY_MODEL_26f75f27c72549ed9baacc596d1a0ca7",
              "IPY_MODEL_a86b62bc2ca04539a8b4ffd2713c55c3"
            ]
          }
        },
        "b7af5e4986e8410c8828c7de5333b179": {
          "model_module": "@jupyter-widgets/base",
          "model_name": "LayoutModel",
          "model_module_version": "1.2.0",
          "state": {
            "_view_name": "LayoutView",
            "grid_template_rows": null,
            "right": null,
            "justify_content": null,
            "_view_module": "@jupyter-widgets/base",
            "overflow": null,
            "_model_module_version": "1.2.0",
            "_view_count": null,
            "flex_flow": null,
            "width": null,
            "min_width": null,
            "border": null,
            "align_items": null,
            "bottom": null,
            "_model_module": "@jupyter-widgets/base",
            "top": null,
            "grid_column": null,
            "overflow_y": null,
            "overflow_x": null,
            "grid_auto_flow": null,
            "grid_area": null,
            "grid_template_columns": null,
            "flex": null,
            "_model_name": "LayoutModel",
            "justify_items": null,
            "grid_row": null,
            "max_height": null,
            "align_content": null,
            "visibility": null,
            "align_self": null,
            "height": null,
            "min_height": null,
            "padding": null,
            "grid_auto_rows": null,
            "grid_gap": null,
            "max_width": null,
            "order": null,
            "_view_module_version": "1.2.0",
            "grid_template_areas": null,
            "object_position": null,
            "object_fit": null,
            "grid_auto_columns": null,
            "margin": null,
            "display": null,
            "left": null
          }
        },
        "1fe50efe495a4e369b2c7617afad1d51": {
          "model_module": "@jupyter-widgets/controls",
          "model_name": "HTMLModel",
          "model_module_version": "1.5.0",
          "state": {
            "_view_name": "HTMLView",
            "style": "IPY_MODEL_b7d6058ad86043e2a2264d15b4ea7022",
            "_dom_classes": [],
            "description": "",
            "_model_name": "HTMLModel",
            "placeholder": "​",
            "_view_module": "@jupyter-widgets/controls",
            "_model_module_version": "1.5.0",
            "value": "",
            "_view_count": null,
            "_view_module_version": "1.5.0",
            "description_tooltip": null,
            "_model_module": "@jupyter-widgets/controls",
            "layout": "IPY_MODEL_0a8d9a5dcc15415f819e529b740ad66d"
          }
        },
        "26f75f27c72549ed9baacc596d1a0ca7": {
          "model_module": "@jupyter-widgets/controls",
          "model_name": "FloatProgressModel",
          "model_module_version": "1.5.0",
          "state": {
            "_view_name": "ProgressView",
            "style": "IPY_MODEL_da39ae4369e0440f928fca02d298d175",
            "_dom_classes": [],
            "description": "",
            "_model_name": "FloatProgressModel",
            "bar_style": "success",
            "max": 28881,
            "_view_module": "@jupyter-widgets/controls",
            "_model_module_version": "1.5.0",
            "value": 28881,
            "_view_count": null,
            "_view_module_version": "1.5.0",
            "orientation": "horizontal",
            "min": 0,
            "description_tooltip": null,
            "_model_module": "@jupyter-widgets/controls",
            "layout": "IPY_MODEL_19fd5ce97073478f97a62d3abc1f8a30"
          }
        },
        "a86b62bc2ca04539a8b4ffd2713c55c3": {
          "model_module": "@jupyter-widgets/controls",
          "model_name": "HTMLModel",
          "model_module_version": "1.5.0",
          "state": {
            "_view_name": "HTMLView",
            "style": "IPY_MODEL_153296ae58c342be8d2cf3db7f9cfaaa",
            "_dom_classes": [],
            "description": "",
            "_model_name": "HTMLModel",
            "placeholder": "​",
            "_view_module": "@jupyter-widgets/controls",
            "_model_module_version": "1.5.0",
            "value": " 29696/? [00:00&lt;00:00, 686558.40it/s]",
            "_view_count": null,
            "_view_module_version": "1.5.0",
            "description_tooltip": null,
            "_model_module": "@jupyter-widgets/controls",
            "layout": "IPY_MODEL_27814c5051f34ea89bdcf14edc686600"
          }
        },
        "b7d6058ad86043e2a2264d15b4ea7022": {
          "model_module": "@jupyter-widgets/controls",
          "model_name": "DescriptionStyleModel",
          "model_module_version": "1.5.0",
          "state": {
            "_view_name": "StyleView",
            "_model_name": "DescriptionStyleModel",
            "description_width": "",
            "_view_module": "@jupyter-widgets/base",
            "_model_module_version": "1.5.0",
            "_view_count": null,
            "_view_module_version": "1.2.0",
            "_model_module": "@jupyter-widgets/controls"
          }
        },
        "0a8d9a5dcc15415f819e529b740ad66d": {
          "model_module": "@jupyter-widgets/base",
          "model_name": "LayoutModel",
          "model_module_version": "1.2.0",
          "state": {
            "_view_name": "LayoutView",
            "grid_template_rows": null,
            "right": null,
            "justify_content": null,
            "_view_module": "@jupyter-widgets/base",
            "overflow": null,
            "_model_module_version": "1.2.0",
            "_view_count": null,
            "flex_flow": null,
            "width": null,
            "min_width": null,
            "border": null,
            "align_items": null,
            "bottom": null,
            "_model_module": "@jupyter-widgets/base",
            "top": null,
            "grid_column": null,
            "overflow_y": null,
            "overflow_x": null,
            "grid_auto_flow": null,
            "grid_area": null,
            "grid_template_columns": null,
            "flex": null,
            "_model_name": "LayoutModel",
            "justify_items": null,
            "grid_row": null,
            "max_height": null,
            "align_content": null,
            "visibility": null,
            "align_self": null,
            "height": null,
            "min_height": null,
            "padding": null,
            "grid_auto_rows": null,
            "grid_gap": null,
            "max_width": null,
            "order": null,
            "_view_module_version": "1.2.0",
            "grid_template_areas": null,
            "object_position": null,
            "object_fit": null,
            "grid_auto_columns": null,
            "margin": null,
            "display": null,
            "left": null
          }
        },
        "da39ae4369e0440f928fca02d298d175": {
          "model_module": "@jupyter-widgets/controls",
          "model_name": "ProgressStyleModel",
          "model_module_version": "1.5.0",
          "state": {
            "_view_name": "StyleView",
            "_model_name": "ProgressStyleModel",
            "description_width": "",
            "_view_module": "@jupyter-widgets/base",
            "_model_module_version": "1.5.0",
            "_view_count": null,
            "_view_module_version": "1.2.0",
            "bar_color": null,
            "_model_module": "@jupyter-widgets/controls"
          }
        },
        "19fd5ce97073478f97a62d3abc1f8a30": {
          "model_module": "@jupyter-widgets/base",
          "model_name": "LayoutModel",
          "model_module_version": "1.2.0",
          "state": {
            "_view_name": "LayoutView",
            "grid_template_rows": null,
            "right": null,
            "justify_content": null,
            "_view_module": "@jupyter-widgets/base",
            "overflow": null,
            "_model_module_version": "1.2.0",
            "_view_count": null,
            "flex_flow": null,
            "width": null,
            "min_width": null,
            "border": null,
            "align_items": null,
            "bottom": null,
            "_model_module": "@jupyter-widgets/base",
            "top": null,
            "grid_column": null,
            "overflow_y": null,
            "overflow_x": null,
            "grid_auto_flow": null,
            "grid_area": null,
            "grid_template_columns": null,
            "flex": null,
            "_model_name": "LayoutModel",
            "justify_items": null,
            "grid_row": null,
            "max_height": null,
            "align_content": null,
            "visibility": null,
            "align_self": null,
            "height": null,
            "min_height": null,
            "padding": null,
            "grid_auto_rows": null,
            "grid_gap": null,
            "max_width": null,
            "order": null,
            "_view_module_version": "1.2.0",
            "grid_template_areas": null,
            "object_position": null,
            "object_fit": null,
            "grid_auto_columns": null,
            "margin": null,
            "display": null,
            "left": null
          }
        },
        "153296ae58c342be8d2cf3db7f9cfaaa": {
          "model_module": "@jupyter-widgets/controls",
          "model_name": "DescriptionStyleModel",
          "model_module_version": "1.5.0",
          "state": {
            "_view_name": "StyleView",
            "_model_name": "DescriptionStyleModel",
            "description_width": "",
            "_view_module": "@jupyter-widgets/base",
            "_model_module_version": "1.5.0",
            "_view_count": null,
            "_view_module_version": "1.2.0",
            "_model_module": "@jupyter-widgets/controls"
          }
        },
        "27814c5051f34ea89bdcf14edc686600": {
          "model_module": "@jupyter-widgets/base",
          "model_name": "LayoutModel",
          "model_module_version": "1.2.0",
          "state": {
            "_view_name": "LayoutView",
            "grid_template_rows": null,
            "right": null,
            "justify_content": null,
            "_view_module": "@jupyter-widgets/base",
            "overflow": null,
            "_model_module_version": "1.2.0",
            "_view_count": null,
            "flex_flow": null,
            "width": null,
            "min_width": null,
            "border": null,
            "align_items": null,
            "bottom": null,
            "_model_module": "@jupyter-widgets/base",
            "top": null,
            "grid_column": null,
            "overflow_y": null,
            "overflow_x": null,
            "grid_auto_flow": null,
            "grid_area": null,
            "grid_template_columns": null,
            "flex": null,
            "_model_name": "LayoutModel",
            "justify_items": null,
            "grid_row": null,
            "max_height": null,
            "align_content": null,
            "visibility": null,
            "align_self": null,
            "height": null,
            "min_height": null,
            "padding": null,
            "grid_auto_rows": null,
            "grid_gap": null,
            "max_width": null,
            "order": null,
            "_view_module_version": "1.2.0",
            "grid_template_areas": null,
            "object_position": null,
            "object_fit": null,
            "grid_auto_columns": null,
            "margin": null,
            "display": null,
            "left": null
          }
        },
        "5e12a5fa52a946aba26015d45b723494": {
          "model_module": "@jupyter-widgets/controls",
          "model_name": "HBoxModel",
          "model_module_version": "1.5.0",
          "state": {
            "_view_name": "HBoxView",
            "_dom_classes": [],
            "_model_name": "HBoxModel",
            "_view_module": "@jupyter-widgets/controls",
            "_model_module_version": "1.5.0",
            "_view_count": null,
            "_view_module_version": "1.5.0",
            "box_style": "",
            "layout": "IPY_MODEL_c97d1272c32d4c438d1df10842ef7240",
            "_model_module": "@jupyter-widgets/controls",
            "children": [
              "IPY_MODEL_4766945c8fb040c78124fe56f25dd858",
              "IPY_MODEL_d40d73c0da7f427881e16f234b4177f4",
              "IPY_MODEL_8672b7697bbc4a60a80dfbe8f07ae2f7"
            ]
          }
        },
        "c97d1272c32d4c438d1df10842ef7240": {
          "model_module": "@jupyter-widgets/base",
          "model_name": "LayoutModel",
          "model_module_version": "1.2.0",
          "state": {
            "_view_name": "LayoutView",
            "grid_template_rows": null,
            "right": null,
            "justify_content": null,
            "_view_module": "@jupyter-widgets/base",
            "overflow": null,
            "_model_module_version": "1.2.0",
            "_view_count": null,
            "flex_flow": null,
            "width": null,
            "min_width": null,
            "border": null,
            "align_items": null,
            "bottom": null,
            "_model_module": "@jupyter-widgets/base",
            "top": null,
            "grid_column": null,
            "overflow_y": null,
            "overflow_x": null,
            "grid_auto_flow": null,
            "grid_area": null,
            "grid_template_columns": null,
            "flex": null,
            "_model_name": "LayoutModel",
            "justify_items": null,
            "grid_row": null,
            "max_height": null,
            "align_content": null,
            "visibility": null,
            "align_self": null,
            "height": null,
            "min_height": null,
            "padding": null,
            "grid_auto_rows": null,
            "grid_gap": null,
            "max_width": null,
            "order": null,
            "_view_module_version": "1.2.0",
            "grid_template_areas": null,
            "object_position": null,
            "object_fit": null,
            "grid_auto_columns": null,
            "margin": null,
            "display": null,
            "left": null
          }
        },
        "4766945c8fb040c78124fe56f25dd858": {
          "model_module": "@jupyter-widgets/controls",
          "model_name": "HTMLModel",
          "model_module_version": "1.5.0",
          "state": {
            "_view_name": "HTMLView",
            "style": "IPY_MODEL_64a98e9cfd0e4cec902ce89e02b48c73",
            "_dom_classes": [],
            "description": "",
            "_model_name": "HTMLModel",
            "placeholder": "​",
            "_view_module": "@jupyter-widgets/controls",
            "_model_module_version": "1.5.0",
            "value": "",
            "_view_count": null,
            "_view_module_version": "1.5.0",
            "description_tooltip": null,
            "_model_module": "@jupyter-widgets/controls",
            "layout": "IPY_MODEL_4f24431f78c144199f5a83c617812de6"
          }
        },
        "d40d73c0da7f427881e16f234b4177f4": {
          "model_module": "@jupyter-widgets/controls",
          "model_name": "FloatProgressModel",
          "model_module_version": "1.5.0",
          "state": {
            "_view_name": "ProgressView",
            "style": "IPY_MODEL_6a968780eeff4bc48406c7e20c5d6316",
            "_dom_classes": [],
            "description": "",
            "_model_name": "FloatProgressModel",
            "bar_style": "success",
            "max": 1648877,
            "_view_module": "@jupyter-widgets/controls",
            "_model_module_version": "1.5.0",
            "value": 1648877,
            "_view_count": null,
            "_view_module_version": "1.5.0",
            "orientation": "horizontal",
            "min": 0,
            "description_tooltip": null,
            "_model_module": "@jupyter-widgets/controls",
            "layout": "IPY_MODEL_6eb602639fb049419a09a27844a6e16c"
          }
        },
        "8672b7697bbc4a60a80dfbe8f07ae2f7": {
          "model_module": "@jupyter-widgets/controls",
          "model_name": "HTMLModel",
          "model_module_version": "1.5.0",
          "state": {
            "_view_name": "HTMLView",
            "style": "IPY_MODEL_ba7c4dbe684644e89983eae3debbd62c",
            "_dom_classes": [],
            "description": "",
            "_model_name": "HTMLModel",
            "placeholder": "​",
            "_view_module": "@jupyter-widgets/controls",
            "_model_module_version": "1.5.0",
            "value": " 1649664/? [00:00&lt;00:00, 10970542.26it/s]",
            "_view_count": null,
            "_view_module_version": "1.5.0",
            "description_tooltip": null,
            "_model_module": "@jupyter-widgets/controls",
            "layout": "IPY_MODEL_3011dbb08d804154a17ffa03d860e6e1"
          }
        },
        "64a98e9cfd0e4cec902ce89e02b48c73": {
          "model_module": "@jupyter-widgets/controls",
          "model_name": "DescriptionStyleModel",
          "model_module_version": "1.5.0",
          "state": {
            "_view_name": "StyleView",
            "_model_name": "DescriptionStyleModel",
            "description_width": "",
            "_view_module": "@jupyter-widgets/base",
            "_model_module_version": "1.5.0",
            "_view_count": null,
            "_view_module_version": "1.2.0",
            "_model_module": "@jupyter-widgets/controls"
          }
        },
        "4f24431f78c144199f5a83c617812de6": {
          "model_module": "@jupyter-widgets/base",
          "model_name": "LayoutModel",
          "model_module_version": "1.2.0",
          "state": {
            "_view_name": "LayoutView",
            "grid_template_rows": null,
            "right": null,
            "justify_content": null,
            "_view_module": "@jupyter-widgets/base",
            "overflow": null,
            "_model_module_version": "1.2.0",
            "_view_count": null,
            "flex_flow": null,
            "width": null,
            "min_width": null,
            "border": null,
            "align_items": null,
            "bottom": null,
            "_model_module": "@jupyter-widgets/base",
            "top": null,
            "grid_column": null,
            "overflow_y": null,
            "overflow_x": null,
            "grid_auto_flow": null,
            "grid_area": null,
            "grid_template_columns": null,
            "flex": null,
            "_model_name": "LayoutModel",
            "justify_items": null,
            "grid_row": null,
            "max_height": null,
            "align_content": null,
            "visibility": null,
            "align_self": null,
            "height": null,
            "min_height": null,
            "padding": null,
            "grid_auto_rows": null,
            "grid_gap": null,
            "max_width": null,
            "order": null,
            "_view_module_version": "1.2.0",
            "grid_template_areas": null,
            "object_position": null,
            "object_fit": null,
            "grid_auto_columns": null,
            "margin": null,
            "display": null,
            "left": null
          }
        },
        "6a968780eeff4bc48406c7e20c5d6316": {
          "model_module": "@jupyter-widgets/controls",
          "model_name": "ProgressStyleModel",
          "model_module_version": "1.5.0",
          "state": {
            "_view_name": "StyleView",
            "_model_name": "ProgressStyleModel",
            "description_width": "",
            "_view_module": "@jupyter-widgets/base",
            "_model_module_version": "1.5.0",
            "_view_count": null,
            "_view_module_version": "1.2.0",
            "bar_color": null,
            "_model_module": "@jupyter-widgets/controls"
          }
        },
        "6eb602639fb049419a09a27844a6e16c": {
          "model_module": "@jupyter-widgets/base",
          "model_name": "LayoutModel",
          "model_module_version": "1.2.0",
          "state": {
            "_view_name": "LayoutView",
            "grid_template_rows": null,
            "right": null,
            "justify_content": null,
            "_view_module": "@jupyter-widgets/base",
            "overflow": null,
            "_model_module_version": "1.2.0",
            "_view_count": null,
            "flex_flow": null,
            "width": null,
            "min_width": null,
            "border": null,
            "align_items": null,
            "bottom": null,
            "_model_module": "@jupyter-widgets/base",
            "top": null,
            "grid_column": null,
            "overflow_y": null,
            "overflow_x": null,
            "grid_auto_flow": null,
            "grid_area": null,
            "grid_template_columns": null,
            "flex": null,
            "_model_name": "LayoutModel",
            "justify_items": null,
            "grid_row": null,
            "max_height": null,
            "align_content": null,
            "visibility": null,
            "align_self": null,
            "height": null,
            "min_height": null,
            "padding": null,
            "grid_auto_rows": null,
            "grid_gap": null,
            "max_width": null,
            "order": null,
            "_view_module_version": "1.2.0",
            "grid_template_areas": null,
            "object_position": null,
            "object_fit": null,
            "grid_auto_columns": null,
            "margin": null,
            "display": null,
            "left": null
          }
        },
        "ba7c4dbe684644e89983eae3debbd62c": {
          "model_module": "@jupyter-widgets/controls",
          "model_name": "DescriptionStyleModel",
          "model_module_version": "1.5.0",
          "state": {
            "_view_name": "StyleView",
            "_model_name": "DescriptionStyleModel",
            "description_width": "",
            "_view_module": "@jupyter-widgets/base",
            "_model_module_version": "1.5.0",
            "_view_count": null,
            "_view_module_version": "1.2.0",
            "_model_module": "@jupyter-widgets/controls"
          }
        },
        "3011dbb08d804154a17ffa03d860e6e1": {
          "model_module": "@jupyter-widgets/base",
          "model_name": "LayoutModel",
          "model_module_version": "1.2.0",
          "state": {
            "_view_name": "LayoutView",
            "grid_template_rows": null,
            "right": null,
            "justify_content": null,
            "_view_module": "@jupyter-widgets/base",
            "overflow": null,
            "_model_module_version": "1.2.0",
            "_view_count": null,
            "flex_flow": null,
            "width": null,
            "min_width": null,
            "border": null,
            "align_items": null,
            "bottom": null,
            "_model_module": "@jupyter-widgets/base",
            "top": null,
            "grid_column": null,
            "overflow_y": null,
            "overflow_x": null,
            "grid_auto_flow": null,
            "grid_area": null,
            "grid_template_columns": null,
            "flex": null,
            "_model_name": "LayoutModel",
            "justify_items": null,
            "grid_row": null,
            "max_height": null,
            "align_content": null,
            "visibility": null,
            "align_self": null,
            "height": null,
            "min_height": null,
            "padding": null,
            "grid_auto_rows": null,
            "grid_gap": null,
            "max_width": null,
            "order": null,
            "_view_module_version": "1.2.0",
            "grid_template_areas": null,
            "object_position": null,
            "object_fit": null,
            "grid_auto_columns": null,
            "margin": null,
            "display": null,
            "left": null
          }
        },
        "a37cd4454f1e4caf9bac0dd3c59d7b57": {
          "model_module": "@jupyter-widgets/controls",
          "model_name": "HBoxModel",
          "model_module_version": "1.5.0",
          "state": {
            "_view_name": "HBoxView",
            "_dom_classes": [],
            "_model_name": "HBoxModel",
            "_view_module": "@jupyter-widgets/controls",
            "_model_module_version": "1.5.0",
            "_view_count": null,
            "_view_module_version": "1.5.0",
            "box_style": "",
            "layout": "IPY_MODEL_bc8d981ff9064ea5a50a86deda4585b2",
            "_model_module": "@jupyter-widgets/controls",
            "children": [
              "IPY_MODEL_f1c2cc6f48724ab4a6ee17b165c5fb22",
              "IPY_MODEL_099bb04a73db45fba61051b47320070c",
              "IPY_MODEL_4022e5ff84f04eb6a3650a040fd4681e"
            ]
          }
        },
        "bc8d981ff9064ea5a50a86deda4585b2": {
          "model_module": "@jupyter-widgets/base",
          "model_name": "LayoutModel",
          "model_module_version": "1.2.0",
          "state": {
            "_view_name": "LayoutView",
            "grid_template_rows": null,
            "right": null,
            "justify_content": null,
            "_view_module": "@jupyter-widgets/base",
            "overflow": null,
            "_model_module_version": "1.2.0",
            "_view_count": null,
            "flex_flow": null,
            "width": null,
            "min_width": null,
            "border": null,
            "align_items": null,
            "bottom": null,
            "_model_module": "@jupyter-widgets/base",
            "top": null,
            "grid_column": null,
            "overflow_y": null,
            "overflow_x": null,
            "grid_auto_flow": null,
            "grid_area": null,
            "grid_template_columns": null,
            "flex": null,
            "_model_name": "LayoutModel",
            "justify_items": null,
            "grid_row": null,
            "max_height": null,
            "align_content": null,
            "visibility": null,
            "align_self": null,
            "height": null,
            "min_height": null,
            "padding": null,
            "grid_auto_rows": null,
            "grid_gap": null,
            "max_width": null,
            "order": null,
            "_view_module_version": "1.2.0",
            "grid_template_areas": null,
            "object_position": null,
            "object_fit": null,
            "grid_auto_columns": null,
            "margin": null,
            "display": null,
            "left": null
          }
        },
        "f1c2cc6f48724ab4a6ee17b165c5fb22": {
          "model_module": "@jupyter-widgets/controls",
          "model_name": "HTMLModel",
          "model_module_version": "1.5.0",
          "state": {
            "_view_name": "HTMLView",
            "style": "IPY_MODEL_dca6b79f881640a8adda2bc79f83e881",
            "_dom_classes": [],
            "description": "",
            "_model_name": "HTMLModel",
            "placeholder": "​",
            "_view_module": "@jupyter-widgets/controls",
            "_model_module_version": "1.5.0",
            "value": "",
            "_view_count": null,
            "_view_module_version": "1.5.0",
            "description_tooltip": null,
            "_model_module": "@jupyter-widgets/controls",
            "layout": "IPY_MODEL_e0e540fbb4de493db694636b85dab169"
          }
        },
        "099bb04a73db45fba61051b47320070c": {
          "model_module": "@jupyter-widgets/controls",
          "model_name": "FloatProgressModel",
          "model_module_version": "1.5.0",
          "state": {
            "_view_name": "ProgressView",
            "style": "IPY_MODEL_df5dbbbfc59c486db7cf041c24616290",
            "_dom_classes": [],
            "description": "",
            "_model_name": "FloatProgressModel",
            "bar_style": "success",
            "max": 4542,
            "_view_module": "@jupyter-widgets/controls",
            "_model_module_version": "1.5.0",
            "value": 4542,
            "_view_count": null,
            "_view_module_version": "1.5.0",
            "orientation": "horizontal",
            "min": 0,
            "description_tooltip": null,
            "_model_module": "@jupyter-widgets/controls",
            "layout": "IPY_MODEL_eef289d315564d1f95df8c755350fd14"
          }
        },
        "4022e5ff84f04eb6a3650a040fd4681e": {
          "model_module": "@jupyter-widgets/controls",
          "model_name": "HTMLModel",
          "model_module_version": "1.5.0",
          "state": {
            "_view_name": "HTMLView",
            "style": "IPY_MODEL_54f21fd96eaf427da155996c6ca549b4",
            "_dom_classes": [],
            "description": "",
            "_model_name": "HTMLModel",
            "placeholder": "​",
            "_view_module": "@jupyter-widgets/controls",
            "_model_module_version": "1.5.0",
            "value": " 5120/? [00:00&lt;00:00, 104291.33it/s]",
            "_view_count": null,
            "_view_module_version": "1.5.0",
            "description_tooltip": null,
            "_model_module": "@jupyter-widgets/controls",
            "layout": "IPY_MODEL_6f025bd50a224112b225be4b3391e94b"
          }
        },
        "dca6b79f881640a8adda2bc79f83e881": {
          "model_module": "@jupyter-widgets/controls",
          "model_name": "DescriptionStyleModel",
          "model_module_version": "1.5.0",
          "state": {
            "_view_name": "StyleView",
            "_model_name": "DescriptionStyleModel",
            "description_width": "",
            "_view_module": "@jupyter-widgets/base",
            "_model_module_version": "1.5.0",
            "_view_count": null,
            "_view_module_version": "1.2.0",
            "_model_module": "@jupyter-widgets/controls"
          }
        },
        "e0e540fbb4de493db694636b85dab169": {
          "model_module": "@jupyter-widgets/base",
          "model_name": "LayoutModel",
          "model_module_version": "1.2.0",
          "state": {
            "_view_name": "LayoutView",
            "grid_template_rows": null,
            "right": null,
            "justify_content": null,
            "_view_module": "@jupyter-widgets/base",
            "overflow": null,
            "_model_module_version": "1.2.0",
            "_view_count": null,
            "flex_flow": null,
            "width": null,
            "min_width": null,
            "border": null,
            "align_items": null,
            "bottom": null,
            "_model_module": "@jupyter-widgets/base",
            "top": null,
            "grid_column": null,
            "overflow_y": null,
            "overflow_x": null,
            "grid_auto_flow": null,
            "grid_area": null,
            "grid_template_columns": null,
            "flex": null,
            "_model_name": "LayoutModel",
            "justify_items": null,
            "grid_row": null,
            "max_height": null,
            "align_content": null,
            "visibility": null,
            "align_self": null,
            "height": null,
            "min_height": null,
            "padding": null,
            "grid_auto_rows": null,
            "grid_gap": null,
            "max_width": null,
            "order": null,
            "_view_module_version": "1.2.0",
            "grid_template_areas": null,
            "object_position": null,
            "object_fit": null,
            "grid_auto_columns": null,
            "margin": null,
            "display": null,
            "left": null
          }
        },
        "df5dbbbfc59c486db7cf041c24616290": {
          "model_module": "@jupyter-widgets/controls",
          "model_name": "ProgressStyleModel",
          "model_module_version": "1.5.0",
          "state": {
            "_view_name": "StyleView",
            "_model_name": "ProgressStyleModel",
            "description_width": "",
            "_view_module": "@jupyter-widgets/base",
            "_model_module_version": "1.5.0",
            "_view_count": null,
            "_view_module_version": "1.2.0",
            "bar_color": null,
            "_model_module": "@jupyter-widgets/controls"
          }
        },
        "eef289d315564d1f95df8c755350fd14": {
          "model_module": "@jupyter-widgets/base",
          "model_name": "LayoutModel",
          "model_module_version": "1.2.0",
          "state": {
            "_view_name": "LayoutView",
            "grid_template_rows": null,
            "right": null,
            "justify_content": null,
            "_view_module": "@jupyter-widgets/base",
            "overflow": null,
            "_model_module_version": "1.2.0",
            "_view_count": null,
            "flex_flow": null,
            "width": null,
            "min_width": null,
            "border": null,
            "align_items": null,
            "bottom": null,
            "_model_module": "@jupyter-widgets/base",
            "top": null,
            "grid_column": null,
            "overflow_y": null,
            "overflow_x": null,
            "grid_auto_flow": null,
            "grid_area": null,
            "grid_template_columns": null,
            "flex": null,
            "_model_name": "LayoutModel",
            "justify_items": null,
            "grid_row": null,
            "max_height": null,
            "align_content": null,
            "visibility": null,
            "align_self": null,
            "height": null,
            "min_height": null,
            "padding": null,
            "grid_auto_rows": null,
            "grid_gap": null,
            "max_width": null,
            "order": null,
            "_view_module_version": "1.2.0",
            "grid_template_areas": null,
            "object_position": null,
            "object_fit": null,
            "grid_auto_columns": null,
            "margin": null,
            "display": null,
            "left": null
          }
        },
        "54f21fd96eaf427da155996c6ca549b4": {
          "model_module": "@jupyter-widgets/controls",
          "model_name": "DescriptionStyleModel",
          "model_module_version": "1.5.0",
          "state": {
            "_view_name": "StyleView",
            "_model_name": "DescriptionStyleModel",
            "description_width": "",
            "_view_module": "@jupyter-widgets/base",
            "_model_module_version": "1.5.0",
            "_view_count": null,
            "_view_module_version": "1.2.0",
            "_model_module": "@jupyter-widgets/controls"
          }
        },
        "6f025bd50a224112b225be4b3391e94b": {
          "model_module": "@jupyter-widgets/base",
          "model_name": "LayoutModel",
          "model_module_version": "1.2.0",
          "state": {
            "_view_name": "LayoutView",
            "grid_template_rows": null,
            "right": null,
            "justify_content": null,
            "_view_module": "@jupyter-widgets/base",
            "overflow": null,
            "_model_module_version": "1.2.0",
            "_view_count": null,
            "flex_flow": null,
            "width": null,
            "min_width": null,
            "border": null,
            "align_items": null,
            "bottom": null,
            "_model_module": "@jupyter-widgets/base",
            "top": null,
            "grid_column": null,
            "overflow_y": null,
            "overflow_x": null,
            "grid_auto_flow": null,
            "grid_area": null,
            "grid_template_columns": null,
            "flex": null,
            "_model_name": "LayoutModel",
            "justify_items": null,
            "grid_row": null,
            "max_height": null,
            "align_content": null,
            "visibility": null,
            "align_self": null,
            "height": null,
            "min_height": null,
            "padding": null,
            "grid_auto_rows": null,
            "grid_gap": null,
            "max_width": null,
            "order": null,
            "_view_module_version": "1.2.0",
            "grid_template_areas": null,
            "object_position": null,
            "object_fit": null,
            "grid_auto_columns": null,
            "margin": null,
            "display": null,
            "left": null
          }
        }
      }
    }
  },
  "cells": [
    {
      "cell_type": "markdown",
      "metadata": {
        "id": "gsqKM5DLlLRm"
      },
      "source": [
        "# Exercise Sheet 1 – Deep Learning with PyTorch\n",
        "\n",
        " * Deep Learning – Winter term 2021/22\n",
        " * Instructor: Alexander Ecker\n",
        " * Tutors: Max Burg, Laura Pede\n",
        " * Due date: Nov 9, 2021 at noon\n"
      ]
    },
    {
      "cell_type": "markdown",
      "metadata": {
        "id": "eaoMWjbZdCLf"
      },
      "source": [
        "# IMPORTANT SUBMISSION INSTRUCTIONS\n",
        "\n",
        "- When you're done, download the notebook and rename it to ```<surname1>_<surname2>_<surname3>.ipynb```\n",
        "- Only submit the ipynb file, no other file is required\n",
        "- Submit only once\n",
        "- The deadline is strict\n",
        "- You are required to present your solution in the tutorial; submission of the notebook alone is not sufficient\n",
        "\n",
        "Implementation\n",
        "- Do not change the cells which are marked as \"Do not change\", similarly write your solution to the marked cells.\n"
      ]
    },
    {
      "cell_type": "markdown",
      "metadata": {
        "id": "A8RW2QHHFQYe"
      },
      "source": [
        "# Introduction\n",
        "\n",
        "In this task you will get to know the basic tools used by the machine learning community.\n",
        "Later, we will build a logistic regression model with PyTorch and perform training and prediction on the MNIST dataset."
      ]
    },
    {
      "cell_type": "markdown",
      "metadata": {
        "id": "Dhw-7EA-10Xm"
      },
      "source": [
        "## Tutorials\n",
        "\n",
        "Some python libraries are required to accomplish the tasks assigned in this homework. If you feel like you need to follow a tutorial before, feel free to do so:"
      ]
    },
    {
      "cell_type": "markdown",
      "metadata": {
        "id": "VMyEloGz__BZ"
      },
      "source": [
        "*   [Pytorch Tutorial](https://pytorch.org/tutorials/)\n",
        "*   [Seaborn Tutorial](https://seaborn.pydata.org/tutorial.html)\n"
      ]
    },
    {
      "cell_type": "markdown",
      "metadata": {
        "id": "ActTWMg4XZ5v"
      },
      "source": [
        "## Imports\n",
        "\n",
        "Jupyter notebook provides the possibility of using libraries, functions and variables globally. This means, once you import the libraries, functions, etc. you won't have to import them again in the next cell. However, if for any reason you end the session (crash, timeout, etc.), then you'll have to run this cell to have your libraries imported again. So, let's go ahead and import whatever we need in this homework assignment."
      ]
    },
    {
      "cell_type": "code",
      "metadata": {
        "id": "LArjND15dGNh"
      },
      "source": [
        "import random\n",
        "import numpy as np\n",
        "from sklearn.datasets import fetch_openml\n",
        "import seaborn as sb\n",
        "import matplotlib as mpl\n",
        "import matplotlib.pyplot as plt\n",
        "import seaborn as sn\n",
        "import pandas as pd\n",
        "import torch\n",
        "import pathlib\n",
        "from torchvision import datasets, transforms\n",
        "from torch.utils.data import DataLoader\n",
        "from torch.utils.data import sampler\n",
        "import fastprogress"
      ],
      "execution_count": null,
      "outputs": []
    },
    {
      "cell_type": "markdown",
      "metadata": {
        "id": "gpqN-O0F_atv"
      },
      "source": [
        "## System checks\n",
        "\n",
        "Perform some rudimentary system checks. Do we have a CUDA-capable device? Multiple? Is CuDNN active (huge speedups for some networks)?"
      ]
    },
    {
      "cell_type": "code",
      "metadata": {
        "id": "b1r5yPHY_hsl",
        "colab": {
          "base_uri": "https://localhost:8080/"
        },
        "outputId": "7714d221-117f-4233-eb84-6451bbceb32d"
      },
      "source": [
        "torch.cuda.is_available(), torch.backends.cudnn.is_available(), torch.cuda.device_count()"
      ],
      "execution_count": null,
      "outputs": [
        {
          "output_type": "execute_result",
          "data": {
            "text/plain": [
              "(True, True, 1)"
            ]
          },
          "metadata": {},
          "execution_count": 2
        }
      ]
    },
    {
      "cell_type": "markdown",
      "metadata": {
        "id": "UZD5IRFWZX5u"
      },
      "source": [
        "If you see now that now that there is no CUDA-capable device available, you have to activate the GPU.\n",
        "\n",
        "Go to Edit -> Notebook settings -> Select GPU as Hardware accelerator.\n",
        "\n",
        "![notebooksettings.png](data:image/png;base64,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)"
      ]
    },
    {
      "cell_type": "markdown",
      "metadata": {
        "id": "olx30IjdagoU"
      },
      "source": [
        "Now check the availability again."
      ]
    },
    {
      "cell_type": "code",
      "metadata": {
        "id": "MMCbCpAFao6q",
        "colab": {
          "base_uri": "https://localhost:8080/"
        },
        "outputId": "b64c1112-4aeb-4b8e-d992-1d3db075187c"
      },
      "source": [
        "torch.cuda.is_available(), torch.backends.cudnn.is_available(), torch.cuda.device_count(), torch.cuda.current_device()"
      ],
      "execution_count": null,
      "outputs": [
        {
          "output_type": "execute_result",
          "data": {
            "text/plain": [
              "(True, True, 1, 0)"
            ]
          },
          "metadata": {},
          "execution_count": 3
        }
      ]
    },
    {
      "cell_type": "markdown",
      "metadata": {
        "id": "zbFbqGzT_ksO"
      },
      "source": [
        "Choose your device for computation. CPU or one of your CUDA devices?"
      ]
    },
    {
      "cell_type": "code",
      "metadata": {
        "id": "dk3DvooB_nFx",
        "colab": {
          "base_uri": "https://localhost:8080/"
        },
        "outputId": "460ff32a-48d8-4615-abb4-b832724a37c0"
      },
      "source": [
        "use_cuda = True\n",
        "use_cuda = False if not use_cuda else torch.cuda.is_available()\n",
        "device = torch.device('cuda:0' if use_cuda else 'cpu')\n",
        "torch.cuda.get_device_name(device) if use_cuda else 'cpu'\n",
        "print('Using device', device)"
      ],
      "execution_count": null,
      "outputs": [
        {
          "output_type": "stream",
          "name": "stdout",
          "text": [
            "Using device cuda:0\n"
          ]
        }
      ]
    },
    {
      "cell_type": "markdown",
      "metadata": {
        "id": "kGmTWnQYq2Ug"
      },
      "source": [
        "# PyTorch: getting to know tensors\n",
        "\n",
        "PyTorch is a library for deep learning on arbitray datasets, including irregular input data such as graphs, point clouds and manifolds. \n",
        "\n",
        "In this short tutorial we will explore some of its features to handle data in tensors. \n",
        "If you want to, you can look into more [detailed PyTorch tutorials](https://pytorch.org/tutorials/) online."
      ]
    },
    {
      "cell_type": "code",
      "metadata": {
        "id": "gadPm82Ce7NA"
      },
      "source": [
        "# create numpy array\n",
        "numpyarray = np.arange(10).reshape(2, 5)\n",
        "# convert to pytorch tensor\n",
        "a = torch.from_numpy(numpyarray)"
      ],
      "execution_count": null,
      "outputs": []
    },
    {
      "cell_type": "markdown",
      "metadata": {
        "id": "aUpPhyFZfMWM"
      },
      "source": [
        "Let us find out what the properties of this tensor 'a' are."
      ]
    },
    {
      "cell_type": "code",
      "metadata": {
        "id": "DbD1a1PEfu-5",
        "colab": {
          "base_uri": "https://localhost:8080/"
        },
        "outputId": "c1828f5a-9290-4581-8a96-3fd246b19086"
      },
      "source": [
        "# TODO print the tensor\n",
        "a"
      ],
      "execution_count": null,
      "outputs": [
        {
          "output_type": "execute_result",
          "data": {
            "text/plain": [
              "tensor([[0, 1, 2, 3, 4],\n",
              "        [5, 6, 7, 8, 9]])"
            ]
          },
          "metadata": {},
          "execution_count": 6
        }
      ]
    },
    {
      "cell_type": "code",
      "metadata": {
        "id": "2SK56a7Rf7w1",
        "colab": {
          "base_uri": "https://localhost:8080/"
        },
        "outputId": "96b0ecef-5d24-4ca7-eeea-e6591df8ecc1"
      },
      "source": [
        "# TODO print its type\n",
        "type(a)"
      ],
      "execution_count": null,
      "outputs": [
        {
          "output_type": "execute_result",
          "data": {
            "text/plain": [
              "torch.Tensor"
            ]
          },
          "metadata": {},
          "execution_count": 7
        }
      ]
    },
    {
      "cell_type": "code",
      "metadata": {
        "id": "Q4pQdKBEf-fq",
        "colab": {
          "base_uri": "https://localhost:8080/"
        },
        "outputId": "6b559e7d-4fc0-4c34-bae5-b03d64f9e622"
      },
      "source": [
        "# TODO print its shape\n",
        "a.shape"
      ],
      "execution_count": null,
      "outputs": [
        {
          "output_type": "execute_result",
          "data": {
            "text/plain": [
              "torch.Size([2, 5])"
            ]
          },
          "metadata": {},
          "execution_count": 8
        }
      ]
    },
    {
      "cell_type": "code",
      "metadata": {
        "id": "wpPKk4_jgFGK",
        "colab": {
          "base_uri": "https://localhost:8080/"
        },
        "outputId": "89b7ed18-5e43-4a43-df20-e8a15d074a9e"
      },
      "source": [
        "# TODO print its size\n",
        "a.size()"
      ],
      "execution_count": null,
      "outputs": [
        {
          "output_type": "execute_result",
          "data": {
            "text/plain": [
              "torch.Size([2, 5])"
            ]
          },
          "metadata": {},
          "execution_count": 9
        }
      ]
    },
    {
      "cell_type": "code",
      "metadata": {
        "id": "mA6fS0Bo0iWP",
        "colab": {
          "base_uri": "https://localhost:8080/"
        },
        "outputId": "2dcb21e5-5c3a-4571-b10c-55475bc772e7"
      },
      "source": [
        "# TODO create a new numpy array out of the tensor and print its size\n",
        "new_np_arr = a.cpu().detach().numpy()\n",
        "print(new_np_arr)"
      ],
      "execution_count": null,
      "outputs": [
        {
          "output_type": "stream",
          "name": "stdout",
          "text": [
            "[[0 1 2 3 4]\n",
            " [5 6 7 8 9]]\n"
          ]
        }
      ]
    },
    {
      "cell_type": "markdown",
      "metadata": {
        "id": "g48rvntriAwy"
      },
      "source": [
        "Let's create some new tensors."
      ]
    },
    {
      "cell_type": "code",
      "metadata": {
        "id": "IbJHIVPKic65",
        "colab": {
          "base_uri": "https://localhost:8080/"
        },
        "outputId": "c6830e9a-de5b-4b49-ddeb-10f3fdd0498e"
      },
      "source": [
        "# TODO create tensor (2,5) filled with ones of type int and print it\n",
        "ones_tensor = torch.ones([2,5], dtype = int)\n",
        "ones_tensor"
      ],
      "execution_count": null,
      "outputs": [
        {
          "output_type": "execute_result",
          "data": {
            "text/plain": [
              "tensor([[1, 1, 1, 1, 1],\n",
              "        [1, 1, 1, 1, 1]])"
            ]
          },
          "metadata": {},
          "execution_count": 11
        }
      ]
    },
    {
      "cell_type": "code",
      "metadata": {
        "id": "3GgCNZ3ei0J7",
        "colab": {
          "base_uri": "https://localhost:8080/"
        },
        "outputId": "7ae43bfc-ae2a-483b-a274-ff67c26d9d4a"
      },
      "source": [
        "# TODO create tensor (3,4) filled with zeros and print it\n",
        "zeros_tensor = torch.zeros([3,4])\n",
        "zeros_tensor"
      ],
      "execution_count": null,
      "outputs": [
        {
          "output_type": "execute_result",
          "data": {
            "text/plain": [
              "tensor([[0., 0., 0., 0.],\n",
              "        [0., 0., 0., 0.],\n",
              "        [0., 0., 0., 0.]])"
            ]
          },
          "metadata": {},
          "execution_count": 12
        }
      ]
    },
    {
      "cell_type": "code",
      "metadata": {
        "id": "y_G9-xG1jJE6",
        "colab": {
          "base_uri": "https://localhost:8080/"
        },
        "outputId": "ee829fd5-9d69-4ec5-ca13-b8a631a1eed5"
      },
      "source": [
        "# TODO transpose a\n",
        "torch.transpose(a,0,1)"
      ],
      "execution_count": null,
      "outputs": [
        {
          "output_type": "execute_result",
          "data": {
            "text/plain": [
              "tensor([[0, 5],\n",
              "        [1, 6],\n",
              "        [2, 7],\n",
              "        [3, 8],\n",
              "        [4, 9]])"
            ]
          },
          "metadata": {},
          "execution_count": 13
        }
      ]
    },
    {
      "cell_type": "markdown",
      "metadata": {
        "id": "NLMyDyWHWFWc"
      },
      "source": [
        "Now change a value in the numpy array. Does the corresponding tensor change?"
      ]
    },
    {
      "cell_type": "code",
      "metadata": {
        "id": "Ufbn0kQKVU2e",
        "colab": {
          "base_uri": "https://localhost:8080/"
        },
        "outputId": "dfa32455-3689-4521-e4de-fa1381b6ccca"
      },
      "source": [
        "# TODO change value in numpy array and inspect the tensor a\n",
        "numpyarray[0][1] = 11\n",
        "print(numpyarray, a)"
      ],
      "execution_count": null,
      "outputs": [
        {
          "output_type": "stream",
          "name": "stdout",
          "text": [
            "[[ 0 11  2  3  4]\n",
            " [ 5  6  7  8  9]] tensor([[ 0, 11,  2,  3,  4],\n",
            "        [ 5,  6,  7,  8,  9]])\n"
          ]
        }
      ]
    },
    {
      "cell_type": "code",
      "metadata": {
        "colab": {
          "base_uri": "https://localhost:8080/"
        },
        "id": "Bm8ENUTybWdS",
        "outputId": "78d045cd-347f-4e0d-bcf9-7462aa83f2bf"
      },
      "source": [
        "a[0][1] = 11\n",
        "print(numpyarray)\n",
        "print(a)"
      ],
      "execution_count": null,
      "outputs": [
        {
          "output_type": "stream",
          "name": "stdout",
          "text": [
            "[[ 0 11  2  3  4]\n",
            " [ 5  6  7  8  9]]\n",
            "tensor([[ 0, 11,  2,  3,  4],\n",
            "        [ 5,  6,  7,  8,  9]])\n"
          ]
        }
      ]
    },
    {
      "cell_type": "markdown",
      "metadata": {
        "id": "4eKP3jSR0iXA"
      },
      "source": [
        "_Yes,the tensor also reflects the changes_\n",
        "\n",
        "Does it work the other way round as well?\n",
        "\n",
        "_Yes_"
      ]
    },
    {
      "cell_type": "markdown",
      "metadata": {
        "id": "-6n92SYfyW9_"
      },
      "source": [
        "Now we want to make use of the different devices available, namely cpu and gpu. "
      ]
    },
    {
      "cell_type": "code",
      "metadata": {
        "id": "XrFr7fLfyyCB"
      },
      "source": [
        "# TODO move 'a' to the gpu\n",
        "a\n",
        "a_gpu = a.to(device = 'cuda')"
      ],
      "execution_count": null,
      "outputs": []
    },
    {
      "cell_type": "code",
      "metadata": {
        "colab": {
          "base_uri": "https://localhost:8080/"
        },
        "id": "j7h2T9CA14i1",
        "outputId": "75568f71-0ec6-4142-efa6-6fea810384a7"
      },
      "source": [
        "a[0][2] = 22\n",
        "print(a, a_gpu)"
      ],
      "execution_count": null,
      "outputs": [
        {
          "output_type": "stream",
          "name": "stdout",
          "text": [
            "tensor([[ 0, 11, 22,  3,  4],\n",
            "        [ 5,  6,  7,  8,  9]]) tensor([[ 0, 11,  2,  3,  4],\n",
            "        [ 5,  6,  7,  8,  9]], device='cuda:0')\n"
          ]
        }
      ]
    },
    {
      "cell_type": "markdown",
      "metadata": {
        "id": "kVOmKS1x0iXL"
      },
      "source": [
        "If you change a value in the tensor 'a' now, does the corresponding value in the tensor on the GPU change as well?\n",
        "\n",
        "_No_"
      ]
    },
    {
      "cell_type": "markdown",
      "metadata": {
        "id": "iaSG4VtTaNu6"
      },
      "source": [
        "# Deep Learning with Pytorch\n",
        "\n",
        "The process of training and evaluating a deep learning model begins with **data loading**.\n",
        "A dataset needs to be chosen on which the model should be trained.\n",
        "This data might need some preprocessing like resizing or normalizing of images.\n",
        "Splitting of the data in different sets is necessary. We need a set to train on, a set to validate the training progress and a set to test the model after training.\n",
        "\n",
        "The next step is to **specify the model and its optimizer**, as well as the loss function.\n",
        "An important hyperparameter is the learning rate which influences how big the changes of the parameters should be after calculating the loss.\n",
        "\n",
        "The **model fitting** is split into training and evaluation.\n",
        "In the training process the model does a forward pass which means the data is presented to the model and the model outputs a prediction.\n",
        "The loss compares the prediction with the ground truth.\n",
        "In the backward pass the gradient with regard to the parameter is calculated and the parameter are updated by the gradient step.\n",
        "In the evaluation process the loss is computed on the entire validation set.\n",
        "This is done to see how well the model operates on data for which the params were not optimized before in order to avoid overfitting.\n",
        "The model fitting process is repeated for `N` epochs which is another hyperparameter that needs to be chosen carefully.\n",
        "\n",
        "After the training we evaluate the final model on the test set.\n",
        "\n",
        "We'll go through the individual steps in the course of this notebook.\n"
      ]
    },
    {
      "cell_type": "markdown",
      "metadata": {
        "id": "wXtIXTEiRApP"
      },
      "source": [
        "![Screenshot_2020-10-05 Slides - Files - ownCloud Enterprise Edition.png](data:image/png;base64,iVBORw0KGgoAAAANSUhEUgAAApwAAAEWCAYAAADLiEeGAAAgAElEQVR4nOydd3Qb15m3sXbs9N39TrJpm3W8m40Tea1k0zZwiYvsOJZjO3bi3k1ZxbJly5btSJZkWpKtavVG9U6RElUogRQpUQR7J1gBgmDvvQBEIQkQv+8PCCOUAQiAKHeA9z3nORIIzGDufefOPHMxd64IFBQUFBQUFBQUFAEMUag3gIKCgoKCgoKCIryDhJOCgoKCgoKCgiKgQcJJQUFBQUFBQUER0CDhpKCgoKCgoKCgCGiQcFJQUFBQUFBQUAQ0SDgpKCgoKCgoKCgCGiScFBQUFBQUFBQUAQ2PhHP3oVP4YmMMEWSOxCUGOv82OT4d8vJGIkdOBi/H13NN7ZkgiMjg8MnzQT/GUvCHR8L5xcYYSKQyIsh8sTEm0PmnHEdQjinXBEFEGqE4xlLwBwknw5Bwhj8knARBEIGDhJOdIOFkGBLO8IeEkyAIInCQcLITJJwMQ8IZ/pBwEgRBBA4STnZCMMKZXaIEYEZlbavf1lmtagNgRlZxDXJKlRg3GiGTN4W8rKFoKKHKsWO9Z5coodHqMTExgeTMspDVve2+Ech9MtyF05N6nKwubfeJPFmtV+2UxXZNEETwIOFkJ3wWzoLyOgBmjrHxcbR29eFKbqVHO0FLZx9aO/s83mkCLZxFlfUAzJDXtYe8gYSiobiSkDJFE3R6A4wmE/oH1ZOKg7c41rt6RAe9YTTkghBpwnk1vxqAGcMardv6UDZ2+r0eJ6tL233CcX9xPI44vmaxXRMEETxIONmJKQtna2cfZPImqJo6YTKZoNMbkJJVPulOoNHqmRJOiVTmsSyHY0Phy3FGoQJmsxnt3QOoVLZgYHgExZUNfi+nbb2bzWY0tvWEvO4jVTgBs5Psp2SVY3zciFAJp+M+Ybu/OB5H+I4rrLVrgiCCBwknOzFl4bQ9QRRXNgAwo7bJclJSNnZCbxiFyWRCZ+8gLl0T0YFhDWx7RzOLFC4/a4XvhJQnU2FIo4XJZMKQRos8mcrt90qkMpRUN2J0bAxj4+MYGLJsR1Zxjd36c0ot/1c2dkJnGMX4uBHyujZuHU3tPRg3Gu3KkJzh/59/Qy2cFcoWLj+2f7fWj7yuDVqdAeNGI2oaOrj388tUGNHpYTKZ0NM/hMs510/4MnkTDKNjME2Y0NzRy62rsrYVOsOoXZ0Oj2hhGB3jlu3oGcDo2JjdtmQV1wAwo76lC6NjYzCMjiGruAZdvYMwTVj2i/QC+aT7jLt9w1V5wlE4rReNSRnX36tr7sTExAQchdNVXbqqR3f7hqu6dNwnbPcXx+PIsEYLx+MKi+2aIIjgQcLJTvhVOCVSGcaNRgyptUjJrsDg8AhqGzuhqG+H7cnKumz/kAYyeRPScqtcftaK4wkpLa8KExMTGFKPoFLZYjnxTZiQUSB3ua6redUwmy0npkplC9QjOrgTTr1hFFXXTmxmsxlpuVWQyZsAmFHX3Inmjl5YZUfoDcVdjnV6AyprWzlxt9aPYXQM1ao29A2qYTnB13B5GRweQYWyBVqdAV29g5BIZcgsUgAwo29QjaraVnT1DSG3tJard6s8WvcLa+9YnkyFpIwyGE0mNLR2222jdZkRnR6Vta0Y0Vnu9evuG0K1qg0TExPovPb9rvaZtNwql/tGYUWdy/KEo3A2tHYDMKNKZSnTldxKmEwmNLZ1w2y+3pZc1WVOidJlG3O3b7iqS8d9wvZzjseR4ms/n1tfp2SVM9muCYIIHiSc7ITfhVOj1UNnGLX7W3JmGXR6A3oHhrm/WX+Od1wv32clUucTklUms6/1nFjft71Xy3Fd1mVySpSQSO1/7uM7MVm/q7S6EYAZBeV1qKptBWBGfpkKZYpmy/pKawXfUFzdw9ncbjn5AmaMjo0js0hxvX6ULZa6vyYFNfUd1+u4tBapORVcHSdllKGuuROAGVfzq3nzmpRhv1+k5lTAbJ5AY1s38q/tb44/zVqFpFpl6alSNlq+w9orOzCsgVZnmHSfcbVvNLb1uCxPOApnmaLpWk/yOC5llqO5oxdGk+laLq4Lp6u67O4b5q3HrOIat/uGq7p03CccP+d4HHF8zWK7JggieJBwshMB6+GUSK/9tD16/SexgSEN9znHE4O7z0qkzieapnaLCFh/krucUwmLIHS7XJdVHqzLeCqcxVWWWwWKKutxKauc67UBzOgdGLb7+VGoDcXdyOW0vCpOFtu7B7j6qbgmnGl5VbD2jll7yBy5ml+Ntq5+WASDP6+OciGRytDVNwSdYRSNbd3QaPVO2+YonDUNHQDMkBZafkbvG1RDf+0CyN0+42rfaO/ud1mecBXO9PxqmM0TaGjthtk8gdprkmkrnK7qUj2i5a3HrOIat/tGKIQzVO2aIIjgQcLJTvhVOK0jQmubOlGmaIL1ZF5S1QC9YdSlcE72WYnU8x7O9u4Bl+uqvdb7lVFo6f3yRTjTC+SYME9A1dRpd/+f0BsKX46TMmR297/qDKPo6ht0Es48mQqAGdV1bVydlsobUVBeh4LyOuSXWerJKq3pHvZw2ta90WSyu0/UijfC6bqHs83lvlHf0u2yPOEqnBLpdaG09nRKpDKPejh7B9S89ZhVXON23wi1cAazXRMEETxIONkJv41Sr23shNFkglZvQEp2BXfir6nvgOraoANbiTQajdBo9Sipbpz0sxIp/z2cpgkThtSW+8Gsgxfqmrtdrst6v2DvwDAqlS3QXxuQ4JVw5ldzAygAM4xGo19HzoeqofDluK65E4axMcjr2jkhq1C2cPUzpNGi4tp9ehPmCaTlVeFyTiWMJhP6BtUor2mGqqkTrV0WAcgssshh36AaVapWqEd0KCyv5+qaTziTMmQYGx8HYEZaXpXTNnojnK72mSu5VS73jfwylcvyhLNwXs6phN4wioqaFu4zjvdw8tVl0bWBg3xtzN2+4atw2h5H+F6z2K4JgggeJJzshN+ewzluNKK1s497JNKV3CoMa7SYmJhAR88AGtu67SRSUd8Ok8kEjVaPrCKF289KpPwnpFxZrd0o2VxZ7aTfq2ruhNFoxIhOz9235Y1wVihboNUbkCdToaiyHsMaLXR6g+AbiqvHIvX0D8FkMmF0bAyqZotsWOtnYFiDcaMRhrExFFddf1xSbqklLxMTE9DpDVxPqERqGfluGB3DuNGIhtbuSXs4JVLLfZj9g2reOvJGOF3tM5PtG67KE87CyYetcLqrS1f16G7f8FU4bY8jV3IrnV6z2K4JgggeJJzshGBmGmKFtq5+jI6No7K2FZW1rdAbRtHRMyD4huJNjh1/Ug8k6QVyAGaU1zSHPPdCz7EvuY4UgtmuCYIIHiSc7AQJp5ek5VWhd2AYRpMJY+PjaOvqR2p2heAbCqvC2djWjXGj0aPJBIQICScbBLNdEwQRPEg42QkSToZhVTgJYeaYck0QRKRBwslOkHAyDAln+EPCSRAEEThIONkJEk6GIeEMf0g4CYIgAgcJJztBwskwrAhnYUU9RnR6GI1GtHcPcM9lDCQ5pUqMG42QyV2PmvbHMqGGhJMgCCJwkHCyEyScDMOCcF7JrYRpwoSe/iFUqVphNJlQ3+r/OaZbOvvsHodknUTAdqrSyfBlmVBDwkkQBBE4SDjZCRJOhmFBOEuqLPNNW2eOySquQXqB3O9l1Wj1Ts/fvJJb6fV6fFkmUnI8Wa4JgiDCDRJOdoKEk2FYEE5uClMPH4GUJ1PZPQzcOk2g9VFK8ro2aHUGjBuN3FSVA8Ma2E4ikFmksHtgt/Xh7vUtXRgdG4NhdAxZxTXo6h20zHaj0SK9QG63jKqp026d1nnY88tUGNHpYTJZem2tc34XVdbDbLZMyzo2Pu72AehCzfFkuSYIggg3SDjZCRJOhmFBOJMyyjA6Ng6TycTNFuOKtLwqTExMYEg9gkrrdIcTJqTlVnHCaRgdQ7WqDX2Dljm3M4tqOKntH9JAJm9CSlY5r3CO6PSorG3FiE6PiYkJdPcNoVrVhomJCXT2Dtotk1mkgEzexM081NTew23f4LBlOkatzoCu3kFIpNd/jtfqDChTNAetp5SEkyAIInCQcLITJJwMw4JwNrR2Y2JiAmbzBAyjY0jLrUJmkQKAmesdtKKobwdgRvY1MbUKoLyu/fq0gtapDK9JZE29pZfTcUpLPuG0Tl+pvDave2aR5Wf+gWENtDoD7/SIHT0DGDcakZpdwW1fTmktUnMqUK1qA2BGUkYZJ5zB6tkMRY4nyzVBEES4QcLJTpBwMkyohbNM0QTAjJLqRhRV1mNiYgLqER1UTZ0YHRt3+nxTew9sRfRyTiUAMxrbup1mJ0rLqwJgRkNrNyRS74TT1XzpjsKZW1prt1xDazdsf2a3cjW/mhNO2znhwy3H1qD2TBBEpEDCyU6QcDJMqIXTKmhpeVWQSGXIL6+DyWQCYObuv7TFdQ9nm5Nw5slUAMyorrPIYCCEc0ijxYhOj6QMyzqtPZql8kYUlNehoLwO+WWWe0xJOAmCIMIPEk52goSTYUItnFYJ6x9Uo7ymGarmTowbjbDeb5mcWWb3+bS8KssgHrXlHknr4KErNvdwDmm0qFC2QD2iw4R5gpNZo9EIjVaPkupGSKRTF06ZvAmAGc0dvZDJm1BQXofLOZUwmkzos5anqROtXX12ZSXhJAiCCB9IONkJEk6GCbVwSqQyVCpboDOMYsI8AY3WMminqLL+2rM5h7neQyu5slq7Ueq5slpIpNdHqQ8MazBuNMIwNmYnd4r6dphMJmi0elzJrZyycHb0DMD2Z/MhtdayfaWW7ZuYmIBOb+B6XEk4CYIgwg8STnaChJNhWBBOf+H4kzoR/BwHK9cEQRCsQMLJTpBwMgwJZ/hDwkkQBBE4SDjZCRJOhgkn4SRCn2PKNUEQkQYJJztBwskwJJzhDwknQRBE4CDhZCdIOBmGhDP8IeEkCIIIHCSc7AQJJ8OQcIY/JJwEQRCBg4STnSDhZBgSzvCHhJMgCCJwkHCyEyScDEPCGf6QcBIEQQQOEk52goSTYUg4wx8SToIgiMBBwslOkHAyDAln+EPCSRAEEThIONkJEk6GIeEMf0g4CYIgAgcJJztBwskwJJzhDwknQRBE4CDhZCdIOBmGhDP8IeEkCIIIHCSc7AQJJ8OQcIY/JJwEQRCBg4STnSDhZBgSzvCHhJMgCCJwkHCyE34RztsemQPRtJmEF/z04VlMNRSSkMg5GFKuCYKIFEg42Qm/CKdo2kyIxFGEN0ybyVRDmfSiYiZdVAj9osLTXBMEQYQLJJzsBAknCSflOEJy7GmuvWX6E/NDLvcE4U/++8+z/dI2/mPG6yEvC8v86P5XSTgjKEg4SUYoxxGSY09z7S20bxBhhwdtl9oGO/XM2jGWgj9IOBluaCScAoexHHuaazqpEhEPCaeg6pm1YywFf5BwMtzQSDgFDmM59jTXdFIlIh4STkHVM2vHWAr+IOFkuKGRcAocxnLsaa7ppEpEPCScgqpn1o6xFPxBwslwQyPhFDiM5djTXLN0UhXP+hyD6hG8sDzGL58jCI8QiHD+7vWVAMyYt+6o39YZ1LZEwhlRQcIZKhiTEcpx+OfY01z766Ta3jsAwOzE00t2elyHf/lgCwAzPtga55fPEYRHBFg475+/zqldtPcOeL2d/hLOveczsD8xEyJxkNsSCWdEBQlnqGBMRijH4Z9jT3Ptr5PqEx9uw/PLYpBeogBgxmsr9+P5ZTH48eOLvKrHH/7lfb9+jiAmJUjCefBiFp5fFoPnl8XgiQ+3eb2d/hLOyvpWTjhF4iC2JRLOiAoSzlDBmIxQjsM/x57m2l8nVSv7EzMBmPGtB97i/vbYoi0wmUyI3ncevYNqvPLZPiyLOYvmrj5o9QacSivEtx54y+mEKp71OSYmJrA05gwa2nvQP6zBws0nPf7cDXfOwo7TaRhUj8C2d+mrf5wT+v2FYIcgCec7Xx63+3teZR0a2nu418cu5aJ7YBhfufvNSdvH00t2AjDjsUVbIBJH4Z0vjwMw439ficaNd83iXV4kjkJWmdKuLTy3dLddW7p33loUyhswotOjUN6Ae+ethUjsuo2Fop5ZO8ZS8AcJJ8MHNBJOgcNYjj3NdbCEEzBD2dyJVz7bh9ueWYKcilp8uvccPtwWj4mJCSyLOcsrkoAZTZ29mL/+GLLKlDCZTJj5/iaPPvfW+qMAzPj80AXsPpMOwIy1RyWh31cItgiScP5jx2l898/v4rt/fhc33DkLi7bGATBj2vNLccOdszCgHsHuM+n414fenrR9uBNOV8uLxFH404IvAZiRXqLA88ticN9b67h1/scTi6AfHUV+VR3mrDmMQnkDdIZR/PvjH7hsY//++AdBr2fWjrEU/MGscD60YANS8iv9tr7hER1E4ij89rUV2BKXKogDWiQJ548fX4TRsXHc/vxSp/ekpQp8fuiC17l2xe9eX4m0InnE5djTXAdTOF+K3uv0+W/cNw/1bd1IzqtwKZzW1898sguAGfPXH/Poc1vjrwAw44H56/HKZ/sAmHHnm1+E/nhAsEUI7uG89amPcOtTHwEw4+0Nx/H7Nyz7/kMLNtgt66p9uBNOV8tb/waYuZ/Ubdf50fZTAMz47WsrIBJHcdv0/paTLtvYnxZ8GfR6Zu0YS8EfESeczMCYjLAgnH1DGlwpqrb7+3NLd6O9d4CEM4i5DqZwPvnxdu5vy2LOoqWrD9YTcIasZlLhfPLj7QDMWLg51qPPPb1kJ2TKZu47UvIr8ZW73wz98YBgiyAJ5/ZTV/DQgg14aMEGfO1ey20dJTWNOCMtxuKdCRhQj3D752TtYzLh5Fveuj2uhHPbKcsF2r898i5E4ih8b+Z7AMzYFJviso1Zvz+Y9czaMZaCPwQlnDfeNQvbT11Bdnkt8qvq8PaG4/jOwwsQm5qPy4VVyKusw61PfQSROAo33zMbh5OykVdZhxMpedCPjnKNKa1Ijvvnr8OFbBliU/NRqmzCmiOWn9W++sc5OJdRirzKOkxMTKB/WBOyA1qkCWeGrAaxqfncKOav3zcX5aoWvLcpFp8fusCbf3e5/srdb2LXmavILq9FdnktZry93m4fYOGkRcJpEc6XovcCMGPzyVQ89Y/taO7qC4hwzl59CGPj4/hs/3ncO28tbrhzVuD3A0J4hOgeTpE4Ckt2JaB3UI30EgUOXsyCSOxZ+3j8w60AzHjqH5Y2ZSucrpa3fqe3PZwLNzv3cJJwUkwWghLO11cdwNHkHIjEFskoq23Gr17+FN/9s+Xqa86aw5w4zl59mPvstx54C1q9gWtMVuEsVjTi5ntm46a7Z6NncBjfnjEfzy3djfXHkiESR2HbqSs+jRz0V0OLROH80WMfoLqhDV+/by6i953H+1tO4uXovfj80AXe/E9/abnLXM9efZg7YH/z/nkolDfY7QMsnLRIOC0nx8U7EwCY8fGOU1h5IBGjY+MBEc5ZXxyEYXQM1l6e4RGdX59hSIQJIRyl/rOnFwMwY2JiAn/5wCJvnrSP/3zqY5jNE0gvUWD++mNo6uyFVThdLW/dnuERHaob2vD3xTvt1vkfTyyCzmC5h3P2ass9nFq9AT967AMSTgqvQ1DCuTE2xe7ksD8xE698thfR+84jvUQBeWM7Ys6mQyS2yOLctUfsGpRIbC+ckpxy7n1lcyd+/Pgi/OWDLdw6jiTl4IH560N2QItE4RSJo/DR9lPYfSYdZbXNuOnu2Zxw8uX/heUxLnO9MTYFNU0dyJDVIENWg5qmDnz9vrkknAwK548e+wAlNY0wjI4h7koBNsWmBEQ4t59Kg6q1C/fOW4u/fLAFxYpG1Ld1B35fIIRFiJ/DWVnfCo1Ozz09wdP2sWRXAgbVI1A0dWBpzBmYzRP431eiXS5v/b5FW+MwotOjuqENf353o90675mzBkXXRqkXyRtwz5w1EIldtzESTgpXISjhfGPVARxOyoZIHIWb7p4NmbIZm06mYt2xJNx41yzM+uIQJ4uLtsZha/xliMSW+074flLnE85v3DcPpcomZMqUXE9nqA5okSqcN909G8WKRu7q3iqcfPn/5Uufusz1S9F7sSk2hfuOr983124fCGR5WMyxp7n2t3CyxCFJNroHhjF37RHMXXsETZ29OHm5IOTbRTCGQGYaEjwknBEVTAvn8IgOBdX1KKiux3NLd+PGu2Zh95l0ZJUpkV9Vh/c2xeLeeWtR09SBC9kyfLb/PHafsQjnvz70NtJLFLhaLMf6Y8lQNndCJJ5cOH/29GK0dPVBWqpApkyJt9YfDVlDi1ThdMQqnHz5d5frG+6chS1xqcgqU+JqsRzrjiXZ7QMsHExJOIPLfzyxCMl5FVBrdegb0uBIUg7+35/eCfl2EYxBwimoembtGEvBH8wKZ6jYFJuCh9/dCJE4Cj94dCGq6ttC1tAiSTjDEsZy7Gmu6aRKRDwknIKqZ9aOsRT8QcLpwL3z1iKnohZXi+VIL1HgvrfWhqyhkXAKHMZy7Gmu6aRKRDwknIKqZ9aOsRT8QcLJcEMj4RQ4jOXY01zTSZWIeEg4BVXPrB1jKfiDhJPhhkbCKXAYy7GnuaaTKhHxkHAKqp5ZO8ZS8AcJJ8MNjYRT4DCWY09zTSdVIuIh4RRUPbN2jKXgDxJOhhsaCafAYSzHnuaaTqpExEPCKah6Zu0YS8EfJJwMNzQSToHDWI49zTWdVImIh4RTUPXM2jGWgj9IOBluaCScAoexHHuaazqpEhEPCaeg6pm1YywFf5BwMtzQSDgFDmM59jTXdFIlIh4STkHVM2vHWAr+IOFkuKGRcAocxnLsaa7ppEpEPCScgqpn1o6xFPzhF+G87ZE5lobFFI9C9LuXLNzxVwa2x56fPvwmUw2FhDM0B1MSToJgEBJOQdUza8dYCv7wi3CySFxSHrdTL952KuTbw3pDmfSiYiaLFxUzIfr9qxamPxX6bWH8osLTXHsLnVSJsIOEU1D1zNoxloI/SDgZhiXhZBVrjt//Mjbk28J6jgOVazqpEmEHCaeg6pm1YywFf5BwMgwJ5+RYc0zCGbpce3NS/cHzO3HLqwcFxQ+e2+7VSfT7z24L+Tb7XNbnd3pX1me2hnybfeH7z2xlQji//+z2kNdFsPYVEk4KEk6GIeGcHBLO0OfaG+G85dWDmBYtFxS3vHrQq5OoEMsYaWWdtJxBEk6h1p8v+woJJwUJJ8OQcE4OCWfoc03CKfwyRlpZSTiDv6+QcFKQcDIMCefkkHCGPtcknMIvY6SVlYQz+PsKCScFCSfDkHBODgln6HNNwin8MkZaWUk4g7+vkHBSkHAyDAnn5JBwhj7XJJzCL2OklZWEM/j7CgknBQknw5BwTg4JZ+hzTcIp/DJGWllJOIO/r4STcB6KPYcvNsZELMfiL/hUbyScDEPCOTkknKHPNQmn8MsYaWUl4Qz+vhJOwinU82Wo65SEk2FIOCeHhDP0uSbhFH4ZI62sJJzB31dIOMMHEk4HSDi9CyHmWCIl4WQh1yScwi9jpJWVhDP4+woJZ/hAwukACad3IcQcS6QknCzkmoRT+GWMtLKScAZ/XyHhDB9IOB0g4fQuhJhjiZSEk4Vck3AKv4yRVlYSzuDvKySc4UPEC+eBsxmY/sIyTH9xOaa/uBy3P7cUIvEbEInfwC1//ZD7+/QXl2P2qoMh395AJtWXEEKO+SDhDH2uSTgDV8Y1l7rwwek2v5YnVT6MP26oZa6s3mxnwHNKwjn1OiThDFsiXjglUhmmv7DMo538wNmMkG9rIJPqSwghx44XFdNfXM5dVPz48UV0URGiXJNwelbGj8+0Q9aqw8niAWSqNLhrnXLS7w4X4VyW2IFVSV3c6wsVQ3h0e51P2yleq8Sxgv7A5pSE0+/tgoQzfCDhlMqw5sAFhx3aIiOiP1z/24Pz14d8OwOdVF9CKDmmiwr2ck3C6blwrrlkka4DuX147VATHt9Zj7Nlg0iRD+PjM+14dHsdkquGcTC3D68cbOKEc3dmL/5xth2ZKg1+v7oGrx1qQm79CKZFy3Ekvx/vnGy1W8+qpC4kyAYRWzSAadFy/HlrHS5VD2N3Zi+a+keZEM5NV7qRUDqILWk9uKJQ4zefK3i307GOdmb0oKpDj2XnO/DQZhVOlQxgX3Yv9uf0kXAy3C5IOMMHEs5rXBeSNxzEU1giMpWk+hJCyTFdVLCXaxJOz4Uzt34Eh/L6kNcwgt+vrsH0FXL8z2dy/PaLGuQ1jCBBNognd9Vzy6y51IWyVh2O5Ft69JYnduD9U204kt+PhNJB3LlOiaw6jdN6ViV14bOLndx6YosG8NzeRkyLZqeHc9OVbixP7MC0aDk2pHZjYXwb73Y6lu3pPQ04UdjPlWt/Th/Wp3bjdOkgxGsn7zX2qJwknH5vFySc4QMJ5zX4hUR4IjKVpPoSQsox/0XFdeiiIri5JuH0XDitPZyLTrdhfWo3Zm6rw6YrPVib0o2iJi0SZIP4q4NwfpjQjvzGEfxxQy3Ea5U4Xz6E2KIBvHygCUcL+rEzo8dpPauS7H+KP106iKd2N2BatByXFeqgC+fsYy2cNE+LlqOsVYcVFzux7Jpwbk/vxTsnW3m307Fsf4+5LpxH8vvx2qEm/+eUhNPv7YKEM3wg4bTBXkiE2bs5laT6EkLKsdNFxR/esEAXFSHJtZCF05OBKf6+hzOueABXlWo8srUOay51YX9OHz4+047LCjUe31mPKzVqHMnvx9zjLdxP6s/ubURy1TCmRcshrdVgwclWTIuWo21wDI/vqHdaj6NwPrOnAelKNTan9aC0RRuSQUNH8vshqRxCWo0aS893YMm5DmSqNDiU14fE8iFMX8G/nY5lu2udEuVtOnx6oRMzNqlwpUaN44X9OFHYj9s/I+Ek4Qz8MVZI50uW6jQshdO5l1N4IjKVpPoSQsuxq15OuqgIfq79JZzLEjtQ2qJFQukg9mX3hp1wCoFglnXJuQ6uh6fswlMAACAASURBVJO5cjIgnL9apUBc8QAuVAzhYuUQXtjfGJC68HUQFgln6M8fQjtvhaVwSqQy3P7cJ4IWkakk1ZcQWo7pooKdXPtTOG3vO3xwswqSyiEczuvDqZIB3LFCbjcYxtMBNNOi7ZfzdABNKCQs1ERKWYUgnJuu9GDZeXsh52sTH59pR2L5EPbn9OFwXh9isnpxVanG64ebseRch93ArM1pPXgv3tLznVw1jPs31vo8CIuEM/TnD6Gdt/winLc9MsfSsFjijr9e36l/+2Lot8eBnz48KyQNxdccs4jjiHW6qAhNrgPRwzk/thUnCvu5ASQbr/RgQVyr3WAYTwfQWIXTupynA2giTcIiqaxCEM7k6mE8ss3+0VF8bcL6VIJp0XJUd+jxq1UKPLW7ASeLB7DkXIfdwKzE8mEn4fR1EBYJZ+jPH0I7b/lFOL054QSXNxz+ZQgPGhpLwnnbTBYvKp64Xp+/fSn028P4RYWnufYWfwqnbQ+nK+G03pvo6QCaadFyu+U8HUATaRIWSWUVgnBuSevBJ+eu93D+cqViUuEsbdHijhVyPLq9Dgmlg3a3LWxP70VC6RDX628VTl8HYZFwhl78QgUJJy/2g4aYQmDCyXaObf9lCMZy7GmuvSVQwvmnLSokVw3jaIGlB3P6CrnTYBhPBtBMi7ZfztMBNJEmYZFUViEI528+VyCxYgiJFUM4XTqI1w418baJyYTTdmDW4zvqkFs/gq1XeyBr1eH+jbU+D8Ii4Qy9+IUKEk5X/IFBEfGwoZFwegJdVPg7197iL+FklUiRsEgqqxCE0x8EcmAWCWfoxS9UkHAKDcZkRNA5posKv+baW0g4hV/GSCtrpAgnS/tKIOs52MfYYAhnRqECY+PjSM+v9mn5lOwKAGZcyipnpk5JOEMFYzJCOQ7/HHuaa28h4fRfGR1HFT+zp8FuxP2cYy04WzaIPVm9+OVKhd3rN44042ig5xj3sayTlWtatP2TBByns3Q3EtuxTvxSThJOv+8rgaznYB9j/XkMvZpfDcAMrd4Arc6CqqkTV/OqMTg8giu5lT6tl4ST8KqhkXAKHMZy7Gmu/X1StUWIJ9hgC6ftqOIPTrXZjbj/IrkLh/P68OBmFaZFy51es1rWyco1Ldr+SQKOTxpwNxLblzog4Qz+vhLIeg72MTYQwpmcWebXcpNwEl41NBJOgcNYjj3NtbeQcPqvjI6jildKOp1G3P8tpgEFjSN4cJOK9zWLZfWkXLYDuxyfNOBuYIwvdUDCGfx2Ech6DvYxNhjCaSuMaXlV0OkNkNe1Y0Snh350FCXVjdxnaxo6oNHqoDeMorWzz2l5VuqUhDNUMCYjlOPwz7Gnufb3SdUWIZ5ggy2ctqOK16faj7h/N64VuzJ6cL58CL/5XGH3+tWDTYgrHmCyrJOVa1q0vXA6PmnAnXA61olfysmgcNrWAQuQcAZXOAEziirrIZHKUFhRD8PYGCRSGZIyZJDXteNSZjmSM8ugN4yisKKehJPwrqGRcAocxnLsaa79fVK1hYRzcjEL1XSPgSxrqMvldTlJOP2+rwSynoN9jA30PZyXssp5hdO6zOWcSgBmJGU4/wzf1TeEqtpWEk7Cu4ZGwilwGMuxp7n290nVFl9kzHHAyW8+VzgNKgnkYJpIGbkdSWUVsnDyTW9pu7+/dYJ/EJXjcp9e6ECCbBC7Mizt6n/cPHPTH/tKIOs52MfYUPVwWt9LzamwW0Ze14aBYQ20egNMJhOqVW2RKZy/e30l1FodMmQ1KJQ3YOHmk6EXAR/47WsrsCUu1X/rDKKMqEf0UDV1YdxoCkiOidDn2J+59vdJ1RZfhdN2wMnC+DanQSWBHEzjeGL97kv78Y1Ho/1aRlZwLOu//H0j/uVvX4ZdWf0lnC8ujUFccr7PbcMX4eSbbch2f3e17zsuF1s0wPU6nysbxEyHaTSnXId+OkYGW47UI3q0dQ24/QxLwlle04wh9Qgu51QiKaMM/UOayBbOnIpaiMRR+Nq9c6Bq7cK055eGXgZCTRBlpH9ohNuBXcmIP4TzoQUbkJJfGZD62nXmKvKr6vy27yTnVUAkDsCFRIhy7M9c851UH3p7g8u56oMhnLYDTt452co7fWWgBtM4nlhvWZBi+fuCS7ziKVQJ4yvrd1/aj2nRcvz04zxe8RRqWf0lnCJxFL55/zy8uIxfPIMlnI77O9++704444otj6Lyax366RgZbDmyHkOv5le7FE+WhFNaIIdWZ8CITo+OngE0tfWQcFpfn5WW4LFFW/DYoi04fbUIZ6UleGfDcew6cxXZ5bXILq/FjLfXQySOwv3z1+H01SIcvJiFInkDdp25CpE4ym7Z+euP4ca7ZmH7qSvILq9FflUd3t5wHCJxFL76xzk4dikX2eW1SMmvxH/97R+833PbM0tQUF2PtCI5lu855/TaWo60Ijnun78OF7JliE3NR6myCWuOSLjvOpdRirzKOkxMTKB/WMOMjFgbkO2O7CgjLAvnvz70Nho7ev26TmVzp9+3M5Q59meuHXlxacz1HPOIZzCE03bAyfQVzoNKAjmYxpVwcu87iGcgJSxVPow/bqjFJ+c6sDrZ//fzuRJOK47i6c+yfnym3W5q00DiT+G0wieegRBOvuktbff3DxPaeAdROS4XfaGDhNODYyifeNJMQwIQzh/+5X20dPXh3x//AI8t2oKy2mbceNcszF59GAcvZnGNtlDeAJHYIpwyZTNuvmc2brhzFooVjfi/qFV2y4rEUXh91QEcTc6BSByFm++ZjbLaZkx/aTne3nAcMWfTub/PWcP/Pe98eZwTxxvunOX02loOq3AWKxpx8z2zcdPds9EzOIxvz5iP55buxvpjyRCJo7Dt1BU88eE2ZmTEsQFZsZWRQAinqwsBPqHn+5uVuCsFMIyOIUNWgw+2nsT+xEzuvf5hDb527xy3FwK2Fx0/efIjbIxNwbjRiAxZDRZsPIG0Irnb7XW1biEIpy+5dsRWOPnEM5g9nKFgMuHkPndNPIMhnN4sI16rxDEP72GdTDitWMWThNN5WVvxpMciCV84rdiKJwknw8JpvYczvUSBv3ywBSKxpZcy7koBROIobIxNQU1TBzJkNciQ1aCmqQNfv28u7p+/DpKccm5dh5Oy8ezS3XbLWpeft+4o93p/YiZeWB6DXWeu4vVVB+w+x/c9354xH+uPJSMxS4a/L97p9NpROG23SdnciR8/vgh/+WALJ7dHknLwwPz1U25oe46dR21j55QpUzTbrzvd/nuSM8txKC4JF33MsSvhdHUhwCf0fH+z8oNHF6K+rRsicRSeXrLTpXDyXQg4XnTccOcsfOXuN7keaGte3W2vq3X742C65+g5v+TYn7l2hE84bcVTdPtfAiqcoebW2afx3Zf3c/z043xMi5bjF59ex/bzty0pxi8mWeeCk604IxtEcvUwKtt1WH3J9Sw7f95ah0vVw9id2Yum/lH8cUMt19v10GYVTpUMYF92L/bn9GFZovNAkJ0ZPajq0GPZ+cml/Zao43ZlvWVB6vWyRssxzaGsP19WgV98Wu2Xev74TDtS5cPYn9OHtBo1slQazNikwq8/VyBTpQmuLP3yKbzwya5JsV/Ofordm+55E6JfP+d26l0htgeP69BD4Xxh6W6f2XA4ySM5UjV1eUx5TYvbY2hqdgUJJ8vCafuTuhVbaXwpei82xaZw7339vrkQiS09S5kyJScA1Q1tuP35pU7C+caqAziclG1p5HfPhkzZjF++9Cne2xTLyca3Z8zH66sO8H7Ptx54CzfcOQv/PGM+mjp7nV57IpzfuG8eSpVNyJQpuZ7OqcpIwqW8wO446aV2r/0tnK4uBPiEnu9v3gonX14cLzpE4iiXwulqe12t2x85Pp2UHZyDxCS5fi16H+54YRkv33vkPYeTqqsT6ORz2gvxBPtfCy7ZvbYKJvdvtJxXun5xDb51Pr6jHpLKIezJ6sXz+xrdzrITWzTA3Xtn7eG0Cmds0QD25/RhfWo3TpcOYnVyl9NAkKf3NOBEoWc9nD+ZfcptWV3hrqyeYvvYnw2p3diZ0Yt92b1YltiBd6/dpxg0Wfr1817K0xvX//2Dw3sknG6PkVNZPmrFAY/kyN/HUBJOAQvnDXfOwpa4VGSVKXG1WI51x5IgEluEU9XahYvZZSirbcY/dpx2WlYktvwUuvtMOrLKlMivqsN7m2IhEluE8lRaIXIrVLhcWIVfPLeU93seW7QF2eW1KKiux9sbjju9thUTV/Lxs6cXo6WrD9JSBTJlSry1/qj7xuKBjMRfzEBaXtWUuZwz+Vys51ILfM6xFUfhdHUhwCf0fH+zYiucD7+7ERezyyASR+E7Dy/AiE7vVjgdLzq+ft9c3HjXLAxptHZ5dbe9gRTOk4lSv+R4qrl+YN46H0+w3kmnEE+w//W2BP/9jwKOny+rtEjWp65F6xefVrsVsEWn27jBHtOi3c+yc7p0EE/tbsC0aDkuK9R2wnkkvx+vHWri1rMs0fm+vL/HeC6ct84+ZVfW2z4psy/rp87l5fubL9j+pL4tvRfzY1uRXafBZYUat3v5yJ4py9Kvn8V3H353Uuz3e56Lsf97Lezag8d16AlCEs4Ar1NIMCucU8HxRM8ym2JT8PC7GyESWwSpqr5t0oYWqKQ6hu09KY49W1fzLPel+OsezuERHQqq61FQXY/nl8XwXgjwCT3f36zYCufN98zG5cIqZJUpsTMhDYqmDrfC6XjR8fNnP4FIbBmlLi1VYNYXB+3u4eTb3kAKZyDv4fQm1zPestwC8o1753rQw8lXXnc9n9cR4gnW1T2cfJL1wzfj8ZOoE5Ouc+7xFuTUj+BEYT+O5Pe7nWXnmT0NSFeqsTmtB6UtWjvhnLFJhSs1ahwv7MeJwn4s5xkIctc6JcrbdPj0wuT3R7q6h5NPrG9ZkIJb5yT4rZ4/PtOOxPIhHMztw4WKIdyxQo7VyV1YEYD7Ov1/D6f9vv+9R97Dwi9P0D2cfjhG8vHN++ZBJPZcOH09hjqSJ1Ohf2iEhJOEM7TcO28tcipqcbVYjvQSBe57a+2UG1ogBw1Z5SPUOQ5rGBk05EmuH5hn2V9vf26p03vu7uF8cP76sL+H05NBQz98Mx43PbDQ4zJuSO3Gvuxe7Mrowd7s3pCX0VVZ+QYN3bIghRuVH+h8ZtRq8L+rPJuucirl9KXtSqTOg4asounpcdPX+rNecPA9rcCTgWX+eMpBKIXzG9eE843P9vv9GMt3DLWKprtjaCjJLlFifNzo9jP+fExSWApnWBMi4XSUD8pxeOR4qrn2VjgfnL8+aKPU/YU3o7XdnVhthdNWNFkoo79FzFY4bUVT6GX1t3A6iqanx82pCiffe66E09f93+c69NMxko9gCaejaLo7hoYSEk5iyg3Nn8LpSj4ox+GR46nm2lPhtBVNX/YNVyfYR7fXIblqGAdz+/DKwSbe6fusP7nuz+nD4bw+xGT14qpSjdcPNztNf7k5rQfvxVt+ok6uGsb9G2vtRms7ju725sR6y4IUXtGcrIxCgE84+URT6GX1l3C6Ek1P24ar+pPWanDPeiV+tUqBrDqN05MLrMJp/ZfvSQaOy9ju/+6myeR70kGkCacr0XR3DA0lJJzElBuav2TE3TSHlOPwyPFUcz2ZcPKJpi/7hqsTbIJsEE/uuv7gab7ZVGx7dao79PjVKgWe2t2Ak8UDTtNfJpYPOwmn7Whtx9Hd4rVKj+Xkhnve8qmMQiBSysr6XOoLTrZizaUufHCqDZ+c63B6coGjcPI9ycBxGdv9392sRbYDz9xNeRmuwulJTEU4U7IrYBgdQ21jJ0Z0egyqRyAtkKN/UA29YRS9A8O4lGmRwpKqBqhHdNDqDRhUjyCntJZbT3lNM7R6AzRaHTp7Bu2Es6SqEcMjOozo9OgbVCO9QE7CGdGEQEYox5GdY3e5diecUz2p2uJOOP/qhXCWtmhxxwpLz2hC6aDT9JcJpUP4+Ey7nXDajtZ2HN09JTnxsIxCIFLKyrpw3rFCjqtKNS5UDOHXnyucnlzgKJx8TzJwXMZ2//dUON3NQETC6btwAmYUVtRBIpWhrrkThtExXMmtgkQqw8CwBlWqVmQUKjBuNEJaIIdEKkN+mQpj4+NIza5AZpECRpOJe6+8ppkTzswiBbR6A/fEkvwyFQaGNCScEQ1jMkI5Dv8cu8t1qIXz8Z31uFKjxpH8fsw93sI7fd9kwmk7/eXjO+qQWz+CrVd7IGvV4f6NtXajtR1Hd7t77E6kSBhLZQ32FJ6+tN1ACue0aDl2Z/biSL5FEB2fXOAonHxPMnBcxnb/dzdNJgmnb8dQb4XTKn4l1ZbeSOv7TW09qG/tgqK+HV19Q3bLarR6FFbUQ1Hfjm6b92x/UlfUt8NoNEKrM3DoDaMknBENYzJCOQ7/HLvLdaiFc6oEcvpLViTMFf4cDMJKWYM9hacvbTfQwsk6JJx+FE6Nlnu/sa0HDa3dLoWzqLIeNQ0d6Owd5BXO6ro2u/dcfS8JZyTBmIxQjsM/x+5yLXThZOnE6msZM1Ua/H51DV471ITc+hFMi7b89P+ETQ/TqqTrU2Ba/+bN1JXBLiuzU3iScAZ9X/FnPUeCcGYWWX5ST7/2s3me7PpP6vllKoyOWf4vkcqgbOjghFNaIMe40YjMohru+/LLVCScEQ1jMkI5Dv8cu8s1CWfwJMwVyxM78P6pNhzJt/y8eec6JbLq7OcQt50C04o3U1cGu6ysTuFJwhn8fcWf9RwJwml9T6PVQaszYEijRa7NoKH61i4YRsegHtGhTNGMsfFx7r2iyuuDjTRaPcprmkk4IxrGZIRyHP45dpdrEs7gSZgrxGuVOF8+hNiiAbx8oAlHC/qxM6PH7jO2MxJZ8WbqymCXldUpPEk4g7+v+LOehSyc4UBIhfO2R+ZYGhZL3P4oRL9/2cL0J0O/PQ789OE3Q9JQfM0xCWdgDqYknN7h7oHXrJxYp1JGaa0GC05aBK1tcAyP76jH3OMt2JPV6yRs1r/bDgax/SwLZRXKFJ7+EiFv2wYJJwmnEAmpcLJIXFIet1Mv3nYq5NsTzKT6EpNeVMxk8KJi2kyIfveyBbqomFKuSTjZEM5Q4++yCmUKz3AXTn/PMuTLvkLCGT6QcDpAwuldCDHHEun1qeXe/zI25NvCeo7d5Vpowuk4Q8q8Ey04WzaIPVm9+OVKBeYcs3/NkoSxTKSUNdyE03F/dxxk5c+BZb7uKySc4QMJpwMknN6FEHMskZJw+ivXQhNOxwdWJ5QO4nBeHx7crMK0aDm+SO6ye00SRmX1qpwCE07H/d1xkNXrh5v9dp+vr/sKCWf4QMLpAAmndyHEHEukJJz+yrXQhXNBXCv+FtOAgsYRPLjJctJ1fE0SRmX1uJwCE07H/d1xkJU/B5b5uq+QcIYPJJwOkHB6F0LMsURKwumvXAtNOB1nSHn/VCt2ZfTgfPkQfvO5Au/G2b8mCaOyelVOgQmn4/7uOMjq7vWeD6gK1L5Cwhk+kHA6QMLpXQgxxxIpCae/ci0U4WRSTsKgjCyUNRADW3wup8CEUwj7Cgln+EDC6QAJp3chxBxLpCSc/so1Caf/TqyelnHJuQ4klA5iS5pltpzffK5wmn3HdmYhx/emRVt6fBPLh7A/pw+H8/oQk9WLq0o1Xj/c7NPAqWAKp+P22Q5scRz0wldXAc0pCaff9xUSzvCBhNMBEk7vQog5lkhJOP2VaxLO4EvYknMdWH7tWZIbUruxML7NafYddzPzTIu2f0xUdYcev1qlwFO7G3CyeMCngVPBFE7H7bOdKchx0MuqpC6nugpoTkk4/b6vkHCGDyScDpBwehdCzLFESsLpr1yTcAZfwpacu/7w8u3pvXjnZKvT7DvuZuaZFm0vnKUtWtyxQo5Ht9choXQQ06K9HzgV7J/UbbfPdmCL46AXvroKaE5JOP2+r5Bwhg8knA6QcHoXQsyxRErC6a9ck3AGX8KWnOtApkqDQ3l9SCwfwvQVzrPvuJuZZ1q0e+H0ZeBUMIXTcftsZwpyHPTyyXnnugpoTkk4/b6vkHCGDyScDpBwehdCzLFESsLpr1yTcAZfwmx77ViB1QFS/q4rEs7g7ysknOEDCacDJJzehRBzLJGScPor1ySc/juxCrGMkVZWEs7g7ysknOEDCacDJJzehRBzLJGScPor1ySc/juxCrGMkVZWEs7g7ysknOEDCacDJJzehRBzLJGScPor1ySc/juxCrGMkVZWEs7g7ysknOFDxAvngbMZmP7CMkx/cTmmv7gctz+3FCLxGxCJ38Atf/2Q+/v0F5dj6Y6EkG9vIJPqSwghx3yQcPon1ySc/juxCrGMkVZWEs7g7ysknOFDxAunRCrD9BeWTbqDf/O+eYhLzg/5tgYyqb6EEHJ84GwGXlwWY4c1r+Koz+3+ThcV3uWahNN/J1YhljHSykrCGfx9hYQzfCDhlMqw5sAFm535Dd7/v7hUGGWZSlJ9CaHk+HuPvOfRgWzNgQsh31bWcuwu1ySc/juxCrGMkVZWEs7g7yvhJJx7jybgi40xQefzjTFYsekIVmw6glUb94VkG77YGIOj8Rd8qrewEk6J1LaX01k4hdS7GaiGIvQcL/zyhMNBy3LbhOgP1/82/YVlId9OFnPsLtcknP47sQqxjJFWVhLO4O8r4SScoYphjQ7Rm+MRvTkeqsbOUG+O1xF2wmnfy2kvnkLq3Qx2QxFSjq/3cr7BexATSu9msHPsLtcknP47sQqxjJFWVhLO4O8rJJxTDxJOBrHv5RRm72awG4qQcuzUy/mHNyyIhdW7Gewcu8s1Caf/TqxCLGOklZWEM/j7Cgnn1IOEk0GcezmF17sZ7IYitBy76uUUUu9msHPsLtcknP47sQqxjJFWVhLO4O8rJJxTDxJORrn9uU+4nfqrf5wjuN7NYDcUoeXY+V5O4fVuBjvH7nJNwum/E6sQyxhpZSXhDP6+QsI59SDhlMpwy4NvWBoWS9zx1+s79W+eD/32OPDD+15hqqEITTglUucR60Lr3QzVwTCUwvmjl/bhllcPCoofvhDj1Un0B8/vDPk2+8qPXtrnVVm//+y2kG+zL3z/2W1MCOcPX9gV8rrwlX9/eT8JZ5CDhNPLE05wuTZ6+Q/8g0tCigcNjSXhvG3mnJBLuhO//Nv1+vz9K6HfHgd++vAspnLsLtfBEk6CEARBEs6Ih4TTqyDhZLpRMSiaXjQ0loST3RwznGvGcuwu1yScBGEDCSfT9UzCScLJJiz2bnrY0Eg4PYVyPNVck3AShA0knEzXMwknCSfh54ZGwukhdFEx5VyTcBKEDSScTNczCScJp8/EXSlAhqwGWr0BxYpGZMhqMP2l5R4t+9vXVmBLXKpHnz0kycb3Zy6ESByF5LwKr7fTl2Wm0tBIOAUOYzl2l2sSToKwgYST6Xom4SThnDLlqhbc8aJnouktd7y4HNtOXeFeK5s7vV6HL8tMpaGRcAocxnLsLtcknARhAwkn0/VMwknCOWUchfOxRVtw+moRzkpLMH/9MXzn4QWITc3H5cIq5FXW4danPsLvXl+JtCI57p+/DheyZYhNzUepsglrjkjs1n0kKQe3/PVDiMRR2BibgnGjERmyGjz6wWbsOnMV2eW1yC6vxYy310MkjsJtzyxBQXU90orkWL7nnN0yjyzcFJSGRsIpcBjLsbtck3AShA0knEzXMwknCeeU4RPOstpm3HjXLIjEUbjxrln47p/fhUgchTlrDmPNEYmdcBYrGnHzPbNx092z0TM4jG/PmA+ROAo/e3ox9p7P4Nb7lbvfRP+wBiJxFGavPoyDF7MgEkfhm/fPQ6G8ASJxFN758jgnrTfcOctumWA1NBJOgcNYjt3lmoSTIGwIM+F8Y9UBvLcpNuTb4a96jhThbGrr4QRzMsrkTaHe3EmDeeGMu1LAvf7qH+cget95pJcoIG9sR8zZdDvhlOSUc59VNnfix48vgkgchf2JmfjZ04u592zlcWNsCmqaOpAhq0GGrAY1TR34+n1z8e0Z87H+WDISs2T4++KdJJyMHDgFBWM5dpdrEk6CsCGIwvmVu9/ElrhUnEjJQ2xqPtYdS8INd86achm+8/ACu9vImISEc9I4eCp9UtnctP9iqDfToxCUcH684xTWHUvCjXfNwqwvDnkknD958iMcTc6x+54b75qFIY0WInEUXorei02xKdx7X79vLkTiKHzrgbdww52z8M8z5qOps9dumWA1NBJOgcNYjt3lmoSTIGwIonAu3HwS7268PlXvJ7vP4M3Vh/Dm6kM4cCETKw8k4qy0hPulTySOwn8+9TH2ns/A2qMSrD+WzPvZFfvPo1jRiFlfHMLL0XvxzpfH8c6Xx3HgQiZ2nbnqtI5/ElA9R5Jw2vZyfropHp9uvsamOEH1bgICE857561FTVMHLmTL8Nn+89h9ZnLh3JmQxjviPTmvAtJSBe6Zuxpb4lKRVabE1WI51h1L4r47u7wWBdX1eHvDcbtl7p6zOigNjYRT4DCWY3e5JuEkCBuCKJzHU/Lwy5c+5V7/IWoVYs6mc9IpEkfhcFI2fv7sJ9xndiakYf2xZHy4LR77EjPw3qZYp8/+7vWV2HE6DSJxlJ1wzlt3lHcd33l4gWDqOZKEE7Dt5Yyzk08h9W4CjAmnv/kncRSe+WRXyLfD14ZGwilwGMuxu1yTcBKEDUEUzve3nMRb649yrz/afgqzVx+2E86Ys+l2nTFb4lLxwPz13Gu+z/72tRW8wvn8shjedQipniNNOJ3v5RRe7yYQ5sLJNIzJSDBy/L+vRCO9RIH8qjqU1DTilc/2TbqM7bNPvXnmqi+fD/ccu8s1CSdB2BDkezg3xabgSFIOjibnYO1RCW64c5Zb4bzlrx/iXEYptp+6gh2n0zhBtf3svz3yLgqq6zFnzWFe4XRchz/uGw1WR6QpQwAAH95JREFUPUeacAKOvZxxguvdBEg4mT6ghZNwfm/me2js6MVtzyyBSGx5IkCmTInHP9zqdjm/Pvs0wnPsLtcknARhQ5iNUmcWEk6Pg2/EupB6NwESTqYbWjgJ5/tbTmKjzeAskTgKf1rwJVLyKyESR+H++etw+moRDl7MQpG8AbvOXHV69qn1fl2ROAq/e30lrhRV44y0GFX1bXjmk11IzqtARV0LVh1M5D6TViTHnDWHkSGrQaG8AUMaLf5JbOlVcHz+quNzX8Mtx+5yTcJJEDaQcDJdz5EonACw72QaJ5vrY86HenO8DhJOhhtaOAnn1vjLeOfL43Z/+9nTi1HbYunBvH/+OsiUzbj5ntm44c5ZKFY04s43P7d7FJWjcMqUlme0/udTH8MwOoZ/njEfN98zG31DGnzt3jl2nxeJo7DrzFW8+OkeiMT8z191fO5ruOXYXa5JOAnCBhJOpus5WMK5fO1uvDp/OTPM/WgdJ5wLlm4N+fbY8skXOyetTxJOhhtaOAnn+1tO4ssTl+z+9tCCDUgtqIJIHOX0lIHDSdl4fnmMW+G0/v9bD7yF7oFh7nP1bd347p/ftfvMzPc349ilXO4zfM9f/dviHXZPRQi3HLvLNQkn4QvTX1qOQfUIxLM+9/u6P9wWj4T04tCUjYST6XoOlnC+On+5xw9eDxafbro+Qp0lXp2/fNL6DHvhtJUO20EktoNRWG1o4SSc35+5EI0dvdwD+L95/zxISxV48uPtEIktwpkpU0IkjsLN98xGdUMb7nhhmd2zT30Vzu/++V3kV9XhXx58m/sM3/NXHR/DFW45dpdrEs6pE6jZXFytN9Szx/zkyY/Q3jsAnWGUhJPaRlDrOZKF03aEOkuQcIqjnH5WtRLywSiMyUgwcmy97zJDVoOcilq8seoA997989dB1dqFi9llKKttxj92nIZIbP/sU1+Fc2dCGpo6e5Ehq+F6UW+4c5bT81dJOAMrnA8t2IC1RyVTmgGFtdlTwqks3m7Tvzz4Nma8vR5V9W1Owvm9me9BWqrAgHoEy/ecw4fb4nG1WI6O3kGU1DTiXx96G//2yLtIL1FgeESHuCsFuOnu2fiPJxahpKYRPYPDOJKUi7q2brT1DKBY0Yhv3j8veHXBmHBaR5nzXWQkpBfjB48udLlsqC9MAlHPkS2cbBLWwnnbM0tQUF2PtCI5lu85xzvoRCTm7xVzHIzCakMLN+F0h+NP6mEBYzl2l+tgCqftDCiOs53YzoQiEkfhjheX45AkG6evFuHl6L1ul7XOlHLrUx8hNjUfm2JTsPd8Br5y95u4mF2G789ciK/dOweX8iom/V6R2Hk2l38SRznN6LLyQKLPs7lYy3IiJd9tma3rdfzuV1bs4/37jXfNwlP/2I6DF7MQn1aIInkDvvrHORCJLbeWHJJkY/Xhi7j5ntlO22dbv57u59UNzsK5/lgyjl3KxTfum4f6tm6sOngBuRUqfO3eOcivqsPctUew/lgyTqTk4eZ7ZqNY0YhXV+xHzNl07EvMwL88+DZWHEhEXmUdvj1jPlStXfjrR9uYaruhEE6+91wJZ6AvaPyyfhLOsCGshfOdL49jzREJRGJLbxXfoJP/i1rFK5x+nxc9QA2NhFPgMJZjd7kOpnDazoDiONvJxztOczOhiMRRuOnu2bjxrln41gNv4UpRtdtlrTOl7Didhj9ErYJIHIXFOxPwt8U78NQ/tmPh5pN4buluvLHqwKTf62r9jrO//H3xTp9nc7GWxfbzfGW2FU7b7/5w+ynev//82U/wPy8sQ2xqPlYfvmgng+9uPIFNsSm49amPeLfvwbfXc+Wx8uTH27H2qITja/fOsXufTzjPSkswOjYOrd4Aw+gYtp9K4349OHgxC6sOJuJCtgzvbzkJkTgKe89nYPXhi7hSVM3Vhe1P6hmyGrwcvZeptuuvtuF4MeR4wWG7b1n//e+nF+NUWiE+P3QBtS2duO+ttU7LWC8e9iVmcrLqeDE2Z81hl9Nn2l6c3PbMYqcLJ18uTvxVzySc7BHWwvntGfOx/lgyErNk+PvinbyDTp5dupuE08NgMceCh7Ecu8t1MIXTdgYUx9lObB9MLRJH4efPfoIluxLwwdY4ZMhq3C5rhU84v3L3m0jMkuF4Sh6+cd+8Sb/X1fodH8b97NLdPs/mYi3LZGXmE86Ys+lYvDOB9+93vLgcLyyPwd8W7+D93t+89hnSSxT4yZMfOW2fbf1a8UU4vzh0EXvOSfFP4ij88qVP8eG2eFwurMLX7p2DclULXlu5HxuO2/dwvrZyP3afsfRw/r8/vYO1R5IiQjgdL4YcLzhs9y3rvzsTru/jCenF+PHjHzgtY72gse0ddWwbO8+ku5w+0/bihO/CyfbiL9j1TMLJHmEtnN964C3ccOcs/POM+Wjq7OUddHL780t5hfPGu2bZDUYJCYzJCIs5FjyM5dhdroMpnLYzoDjOdrLgyxN28vX+lpNYdywJL0fvxRlpsdtlrTOl/NffPkbclQJsjb+M/YmZuOnu2RCJo7DqYCI2n7QMGpzse/k+wzf7yx/nrvF5NhdrWWIvF7gtsy/C+ZcPtiC1oAo7TqfZzbb198U7sfJAIo4k5eCb989z2r7vzXyPK48nOa1v64bRZETvoBq/fvUz7u/feXgBrhbLMaLT42qxHEtjzqCjdxCD6hEk51Xga/fOcbqH8+Z7ZuPWpz5CVX0b+oY0OJKcGxHC6Xgx5HjBIRI7C+e+xAz87yvREImjcEZajLtnf+G0jPXiwVPhdJzNSCS+fnFy4GKW04UT38VJsOqZhJM9wlo4H1u0BdnltSiorsfbG467HHTiaqCJ7WCUYG+7pw2NhFPgMJZjd7mmUerhxUfbT2HtUQlWHkjkbj0KJR9ui/fvgLxAE+R7OG0vhhwvOERiZ+H8/RsrcSFbhk92n0FORS0+3XvOaRnrBc2BC1mccDpejM1dc8SlcNpenPz82SVOF062F3/BrudwFc41u84CMOOLHWf8ts7tR5Kh1Rmw5aCEhNNfCO4eQMZkRAg5FhyM5dhdrkk4iUBCwkn4s55ZE851u88BMGNgSIO+QTX6BtWQq1pDIpyF5SocOZPBvd60/yJaOnqxYW8iCae/IOGcWgghx4KDsRy7yzUJJ0HYQMLJdD2zKpzrdp8LeQ9nY2u3nXAGi4gSTsHBmIxQjsM/x+5yTcJJEDaQcDJdz0ISzpr6NqRmlXOvc4oVyCtV4kp2Bbr7hjCkHoGsusFJOPecuIwRnZ5bbufRSzCMjiF6czw+23KKd/michVMJhOGNVr09A87rfPkhRx09Q6if1CN1s4+7IuzzM2+cd8FDAxpcCmjDL0DwxjWaBF3MZeEM2xgTEYox+GfY3e5JuEkCBtIOJmuZ1aF0/Yn9TW7ziJ6czxOnM9Cd9+QRRQ3x0M9osPOoym4lFGGz7cnYNW2BAyptTh2NtNj4Vyx5RTv8tGb49E3qLbr4bSuc8+Jy9CPjmLb4WREb47H4QQpdHoD1uw6i437LgAw48T5LERvjsexs5nQaHVsCuf0J+ZbGhbhMdOfmM+UjJBwhuZgSsJJEAxCwsl0PbMqnHw9nJ9tOQWNVoftR5Jx6HQ62rv6eXtBJVdLPRZOV8u7E860nErU1LfZLdfTP4Tj57I44eTKE3MegBkrt55mTziJwMCScN42c07IJV1o/PThN5nKsbtcT0U46YKTCDdufSjKL8fwf7vnpZCXhWX+Vfy8T/UqJOGM3hyP7CI5MgqqUVJZjwtpxfhsczwuZZShub0H/YNqjI2PIyndXjhj3P2k7mJ5n4TzPI9wXivPqm0knBEDS8LJIu/FJ+PFo2c54q4UhXybWM6xu1xPRTgJgiCCidCEc+uhJPQNqqEe0WH1zjM4l1qIts4+rIs5j5VbT6OprdtJONfvOQ/ThAmb9l9E9DXBtAqnq+WjN8eju28IcRdzsGpbgp1w7o29Ar1hFFsPJiF6czwOnkqHTm/A2l3nSDgJEk53HEjJs5PNF4+exdKEyyHfLpZz7C7XJJwEQQgFVoXT3WORmtt7UK5oRPTmeGy7JqC9A8OoUjajoKzWSTijN8cjLacSGq0ObZ19uJBWDJ1h1O3y0ZvjkZJZBq3egIaWLqzYcspunXEXc9HdN4S+QTXau/qx32bQEAlnhEPC6ZqFXO/mGbxwRLi9nCScBEEQ3sGacBIknIKHhJMf+95Ne+EUWi8nCSdBEIR3kHCyBwmnwCHh5Me2d9MqmkLt5SThJAiC8A4STvYg4RQ4JJzO2PZuvnDkLF44akGo93KScBIEQXgHCSd7kHAKHBJOZxY6jEx3hVB6OUk4CYIgvIOEkz1IOAUOCac9cVeKsDA+meO9+GSuh3PuyYt27315QRry7WUtx+5yTcJJEIRQIOFkDxJOgUPC6Z7E9FKuR3ObJCvk28N6jt3lmoSTIAihQMLJHiScAoeE0z0knP7LNQknQRBCgYSTPUg4BQ4Jp3tIOP2XaxJOgiCEQrgKZ2G5ym5aymAt6491kXAKHBJO95Bw+i/XJJwEQQiFcBXOxtZun6VxKsv6Y10knAKHhNM9JJz+yzUJJ0EQQoFF4Tx5IQddvYPoH1SjtbMP+2ymjRwY0uBSRhl6B4YxrNEi7mKu0/JF5SqYTCYMa7To6R9G9OZ4xF3MQWfPAHoHhtHQ0oWtB5OwalsCFHWt6B9Uo727H/vi0niXtcL3eVfrdrUdJJwRAAmne0g4/Zdrq3ASBEEIBVaEc8eRS9CPjmLb4WREb47H4QQpdHoD1uw6y81TfuJ8FqI3x+PY2UxotDre9fQNqrmexZ1HL6F/UI11MecRvTkeh05L0dTWg3hJLlo6ehG9OR6rd57B6p1nnZa1he/zrtbNtx0knBECCad7SDj9l+sZb60P+cmDIAjCG6JWHAjoMdZT4UzJLEdNfZvd33r6h3D8XBYnnNa/r4s5D8CMlVtPuxXO1KxyGEbH0Deo5hhSj2DLQQnUIzrky5TYc+LypJLI93lX6ybhjGBION1Dwum/XC/dkYAXlu4mCIIQDBsOJwX0GDtl4TzPI5y7zwEwY9U298KZLJVBrmrl/b7PtyfgdFIeegeGcSGteFJJdPy8u3WTcEYoJJzuIeGMnFwTBEH4QjCEc+fRS9AbRrn7IA+eSodOb8DaXee8Es7uviHEXczBqm0J2HYoCYbRMew6loLozfFYs+ssDp2W4su9F7DloATRm+ORWVCNfJnSaVnbdfJ93tW6+baDhDNCIOF0Dwln5OSaIAjCF4I1aCjuYi66+4bQN6hGe1c/9tsMGvJUOFMyy6DVG9DQ0oUVW07hxPlsy0CkIQ26+4ZwNqUQe05cRltXH3oHhtHc3oNN+y/yLmtdp6vP863b1XaQcEYAJJzuIeGMnFwTBEH4gpAeiyRkSDgFDgmne0g4IyfXBEEQvkDCScJJBLiheBtCzDEJZ+TkmiAIwhdIOEk4iQA3FG9DiDkm4YycXBNsUKFswbjRiAplS8i3xVtKqhsBmJGcWRbybSGCBwknCScR4IbibQgxxySckZPrSKRM0QTADMAMw+gYVE2dQflejVaP7BKl09+TM8tgmjBB2djps7RptDqomq+XQ1ogB2BGSlZ5wMtFwhmZkHCScBIBbijehhBzTMIZObmORKzCmV1cg0plCwAzCsrrAvqdyRllMJvNvMKZnl8NwIyMQoXP6x83GmGaMCEttwoSqQz55XUwmkxBqU8SzsiEhJOEkwhwQ/E2hJhjEs7IyXUkYhXOS9d6/4wmE6rr2rj3Vc2dGB0bh84wiqLKBsjkTdDpDWjr6ofJZEJHz4DLz0qkMqRmV6C9ux/j40ZodQZkFtVAo9XD2qta39Jltz06wyj3XoWyBaomyzoNo2PcdlXWtkKj1aNvUI2u3kG75ZMzy7jlWzv7IJHKUF7TjBGd3qnsXpWNZzuSMmRo6ejFuNGIIY0W6QVyTjg7ewdhNJnQ3t0PiVSGtLwqDGm0mJiYsFsvER6QcJJwEgFuKN6GEHNMwhk5uY5EbIWzoLwOgBn5ZSpIpJbeOqPRiMKKepQpmmE0GrnPy+vaUFLVAMCM4qoG3s8mZ5YhJascFTUtyCquQVffEHr6h5FfpgJgRkl1Iy7nVNptT3ZxDfdemaIJZrMZJVUNKK9pBmBGrqwWlbWtAMwor2l2Wt7683l7dz/MZktPqbKxE32DarvPeVs2vu2oULZgYmICBeV1qFC24HJOJSecVapWVNRYeoxzSpRQNXVCqzcgp0SJMkVTyPNO+BcSThJOIsANxdsQYo5JOCMn15GIVbLMZkuvYJ1Nj2NLRy/3nvV9RV07bH8yNoyOQdXcyfvZjEIFkjIsvYP60VGYzWZo9QZICy1SyPeTuu17LR29GNJouff0o6NQNXWisrYVJhc/keeXqWA2T+BSVjn0o6Po6R9Gc0cvWrv67D7nbdn4tqO9u59XZK3rsPa2llQ3QiZvgtk8geb2XqTnV4c874R/mcoxdsmqHXh1/nLCAz78bOuk9UnCyTAknO4h4YycXEciVuHML1NhbHwczR293HtN7T1Qj+iQWaRAZpECGYUKyK593iplY+PjqG3s5P1sUoYM8ro2jI2Po6S6EU3tPdAFWDjLFM3QGUYhkcpQXGnppbSKo+3nvCmbO+Hs91A4JVIZiiobMKgewfi4EUkZdI9nOBGKYywFf5BwMgwJp3tIOCMn15GI7U/qFdcGDWUX10AitQiS2WxGqbwReTIVVM2dkMktny+pbuQGGeXJVLyflUhlaGzrxohOj9zSWgwOj0CnN+DqtYFBFcoWp8E1tsLp6qdsd8KpbOhA/5CGe93dNwTAjEqHRyx5UzaX23HtJ/XCijoo6tshtbmH01E482QqlFY3orK2FWYzDSoKN0g42QkSToYh4XQPCWfk5DoScRw0NKTWYlA9wr1f29iJsfFxjBuNaGrv4XoBh9RajBuNdj2Hjp9NypAhs0gBw9gYRscsvYxavQESqQy9A8MwmUxO9zM69n6qmi3rHB0bg7yuHRKpzK1wNnf0oq2rn3udllfF3avp+Flvysa3HUkZZWjv7odpwoRB9QjS86tdCmeZotnyXePG/9/evT41dedxHP/jfL7PmxRta9eZzrbd7qWjO511qrh1dl1ra7eta6vWBEG7cgIREUSEgFwrCArhDuGeCwkJ2vWytp99AJ6ixlhHjvmdk/dr5vNALnrkN1+/nzkcjIY3/VAW8UYonOagcBocCmfhUDhL56zJ8/PoLqAX79B5+e9GnA2F0xwUToND4SwcCmfpnDV5frxcyrz8dyPOhsJpDgqnwaFwFg6Fs3TOmrgr1c3Xi34NhNS1UDhNQuE0OBTOwqFwls5ZE3flYM1VHa2LFP06CKFwmoPCaXAonIVD4SydsybuSXXzde0I1ui3Z8JFvxZCKJzmoHAaHApn4VA4S+esiXuy12qy5/LTC61Fvx5S2qFwmoPCaXAonIVD4SydsybuSHXzdW0P1thzuZO7nKTIoXCag8JpcCichUPhLJ2zJu7IwZqr9kz+Mps8y0mKFwqnOSicBofCWTgUztI5a2J+Hj276QtYeu20JV+gWr6AxbOcpKihcJqDwmlwKJyFQ+EsnbMm5mfz3c3NhZO7nKSYoXCag8JpcCichUPhLJ2zJmbn6bubj8JdTlLcUDjNQeE0OBTOwqFwls5ZE7Pz5LObrz3KaZ7lJMUNhdMcFE6DQ+EsHApn6Zw1MTeb724WCnc5STFC4TQHhdPgUDgLh8JZOmdNzM3X9df0wbl6O+9U1dl3ON87d/Gx951o6Cz69ZLSCoXTHBROg0PhLBwKZ+mcNXFPjtd32HP5/ZXeol8PKe1QOM1B4TQ4FM7CoXCWzlkT94TCSUwKhdMcFE6DQ+EsHApn6Zw1cU8onMSkUDjN8asK56nKGv3t8DHyihM8F3b6/F19xuWH/20vtg+//K7o12P6Gbv5rIl78pejJ+25/PjI8aJfDyntFOPfWOT3qwonYKIHD3+yF1vb1GyxLweApIGFuD2X6R//W+zLAWAICidci8IJmIfCCSAfCidci8IJmIfCCSAfCidci8IJmIfCCSAfCidci8IJmIfCCSAfCidci8IJmIfCCSAfCidci8IJmIfCCSAfCidci8IJmIfCCSAfCidci8IJmIfCCSAfCicc8fqnX2nbnn2eym8+OVLsLytge/uL40WfCbfmd1+fKPbxASWHwglHbNuzz77L4ZVs27Ov2F9WwObFGWOWAe+icMIRXlyGLCmYxIszxiwD3kXhhCO8uAxZUjCJF2eMWQa8i8IJRxRahp9cbtfg4rLjS+Wjuqu6FJ1gScGTXqZwfnTxquZXs3rjTK39trrhMR1u6XqpGdlb3+L4bDeNTWkitaI/1zYxy4CLUDjhCBMK51aHJQWTvGzhvHP/vprHp11VON+uuqDE7TvMMuBCFE444kUL5+vBkJrGpjSaSGk0kdKBy+3adbZOHdNzurkU13hyRe9XN8gXsHSouVPdsXn1zi7oZPcNlTe2qW9+SR3Tc5pOZ1R7a9ReqreWE898//aKGv0wt6jx5Ip+/vln3b53jyUF13jZwtk5M6fe2QUdae1+rHB+1tqtlolfiujte/e0o6JmfZ6W4uqdXdDcalafR3o0sLCs2cyqrJtRu3BOrqTVMjGjqZWMmsamnjnfT87x5uvzBy01jkxqNJHSRGpFp3oG5AtY6pyZ04OHDxWNJ7U7fIXCCbgIhROOeNHC+U1Xv1onZ+QLWHqzslaTqbT8QUu7ztXJF7D0bVe/XRQPNXcqllmVP7j+ueWNbZpayaisIqSyYEi5u3f1VmX4scKZ7/1HIz26MDQmX8BSw8iE/nm1kyUF19iKwvnbsxc0m1nVe9WXflXhnEln5A9a+r3VoAcPH2pnVVhlFSGtbXzM3voWzWZWtb2iRv6ApclUWnvrW/LO95NzvDnHOq6rfSomX8BSWUVIscyqdoev6J3vLyq+dps7nIALUTjhiBctnBeHx7WYzSkaTyoaT2oxm9POqrDOD0Q1vJzQQjanKxt3Sw41d6pzZs7+3PLGNvUvLNm/Xsqt6d3z9Y8Vznzv/0dzp/17tk3FdKCxjSUF19iKwukLWNrXENFwPKn66Pjz73AuJ+zSmL171/6Y+Npt7TpX99S31COTMX0e6ck735+2dj02x0/+e3Bi013PlolpfdHWS+EEXIzCCUe8aOH8sv0H1UfH7V/vOFOjyr5bCg+Nyh+0dLyzb8sL5xtnajWdzmgknrTvdLKk4BZbVTh9AUvVg1HduX9fh1u6dLDpmvrn1+dl19k63f3fgxcqnGPJFfkC63cmF7I5/anmct75fnKON+dYR58ikxt3OIMhzaQz3OEEXI7CCUc8r3D++OC+JlJpTaTSOhrpkT9g6VJ0QiOJlIaWEwoPjWp/Q0SL2Zz65pdUPRi1nwfbqsL5h1CjUnd+1HA8qZF48qnnyFhSMNlWFk5/0FI0ntThli6VVYR0cymukURKl0cntZDNvVDhHFpOqDs2r1hmVVV9Q+u/f575LlQ4/cH1n0Yf2XiG83TvoHwBi8IJuBiFE45ww/8RWB8d18Gma/Yim1vNsqTgGm6YMVPDLAOvHoUTjnDDMtzfENHYxh2X4eWE9vMMJ1zEDTNmaphl4NWjcMIRXlyGLCmYxIszxiwD3kXhhCO8uAxZUjCJF2eMWQa8i8IJR3hxGbKkYBIvzhizDHgXhROO8OIyZEnBJF6cMWYZ8C4KJxzhxWXIkoJJvDhjzDLgXRROOOJVL8OBhWXH/wyWFEzixsL5cUPkqRd9oHACpYHCCUe86mW4lFtjSaGkUDiZZcBNKJxwxFYsw0PNneqOzat3dkEnu29o19k6dUzP6eZSXOPJFb1f3SBfYP11lx/+9JOi8aT+3tyhprEpjSZSGk2kdOByO0sKnuRk4Xw9GMo7R+WNbeqOzat1ckaTK2n71b/8QUuNI5Ma3XhloFM9A/IFLG2vqFH71KxGEykNLi7rs9ZuxTKrujY9q+l0xn5J2T+GLmsildat5YT+cyNK4QQ8iMIJR2xV4YxlVuUPWvZS23WuTr6ApW+7+lV7a9Rejrfv3ZMvYOmbrn61Ts7IF1h/+b3JVJolBU9ysnA+a47KG9s0k86orCIkf8DS1EpGf73YomMd19U+tfHa5xUhxTKr2h2+olM9A7qyUUrLKkLa1xBRLLOq7RU1KguGlLt7VzurwvquZ8CeZ7/DZZNZBoqDwglHbFXh3Pxay9sranR+IKrh5YQWsjl7kW0unBeHx7WYzSkaTyoaT2oxm9OOMzUsKXiOk4XzWXNU3tim/oUl++MikzF9HunRxeFxnei+Yb+9ZWJaX7T1qmlsSsc6rttvf/Jb6ku5Nb17vl5vVYZ1YWhM1+cWdaS1m8IJeBCFE45wonBW9t1SeGhU/qCl4519duH0By3duX9fvoClL9t/UH103P6crSqbLCmYxsnC+aw5Km9s00g8KV9g/Y7l/GpWH9Y26VhHnyKTG3c4gyHNpDPaHb6i072D9py+VRnWgctteQvnm5W18gcs7awKK3n7DoUT8CAKJxzhROHc3xDRYjanvvklVQ9G7efHfIH1n1Ifjie171KrLkUnNLLxGunhoVGWFDzJycLpD1h556i8sU3La2vqn19SLLOqqr6h9Y8PWmoam9LIxjOcp3sH7aLaHZvXWHJFN5fi+ldbb97Ceai5c+P5z7T9/CeFE/AWCicc4cafoGVJwU2KMWNPfkvdrWGWgVePwglHUDgBZ1E4mWXATSiccASFE3CWF2eMWQa8i8IJR3hxGbKkYBIvzhizDHgXhROOePfrk9q2Z5+n8s5X3xb7ywrY3j92qugz4dZ8cPy7Yh8fUHIonAAAAHAUhRMAAACOonACAADAUf8HxD3B40ZpAJIAAAAASUVORK5CYII=)"
      ]
    },
    {
      "cell_type": "markdown",
      "metadata": {
        "id": "tpsJ004ud8lL"
      },
      "source": [
        "## Data loading"
      ]
    },
    {
      "cell_type": "markdown",
      "metadata": {
        "id": "VY01lmDfwgYY"
      },
      "source": [
        "### Loading the MNIST Dataset\n",
        "This dataset contains handwritten digits, and it is widely used by the machine learning community. It's really useful that you get accustomed with this dataset, as you'll come across later under other concepts. \n",
        "\n",
        "The first thing you should always do when you begin to work with a data set that you have not used before is to play around with it to get a better understanding of its properties."
      ]
    },
    {
      "cell_type": "markdown",
      "metadata": {
        "id": "qz0fKK90vApA"
      },
      "source": [
        "**Download** the train split of the MNIST dataset using torchvision dataset classes."
      ]
    },
    {
      "cell_type": "code",
      "metadata": {
        "id": "utjtGRHcvCgd",
        "colab": {
          "base_uri": "https://localhost:8080/",
          "height": 436,
          "referenced_widgets": [
            "7297192f9d654919a2a23bb045c50aa8",
            "40fcd3e207964eb6b9ea57d132a7b6e9",
            "6555ab8bf5184e00a736e7b270f89a32",
            "d194184572b34861b6d7396b491425f3",
            "c905e2d154ee402d910cdf8144fb9b47",
            "27576faafc6943aba7def2b1a7d901e0",
            "b0180a93f9e544bdae774dd77f368648",
            "a8ab874f60514e708d88210078284e06",
            "2f96307ada554bf3a921834270cacf99",
            "ad40dd6bbf5649569ff1cb122c7bae4b",
            "dc4f46ee97ac41a79b79bb92a17f57b6",
            "a92ce00a1d3e4b85b9089bbe40abbc03",
            "b7af5e4986e8410c8828c7de5333b179",
            "1fe50efe495a4e369b2c7617afad1d51",
            "26f75f27c72549ed9baacc596d1a0ca7",
            "a86b62bc2ca04539a8b4ffd2713c55c3",
            "b7d6058ad86043e2a2264d15b4ea7022",
            "0a8d9a5dcc15415f819e529b740ad66d",
            "da39ae4369e0440f928fca02d298d175",
            "19fd5ce97073478f97a62d3abc1f8a30",
            "153296ae58c342be8d2cf3db7f9cfaaa",
            "27814c5051f34ea89bdcf14edc686600",
            "5e12a5fa52a946aba26015d45b723494",
            "c97d1272c32d4c438d1df10842ef7240",
            "4766945c8fb040c78124fe56f25dd858",
            "d40d73c0da7f427881e16f234b4177f4",
            "8672b7697bbc4a60a80dfbe8f07ae2f7",
            "64a98e9cfd0e4cec902ce89e02b48c73",
            "4f24431f78c144199f5a83c617812de6",
            "6a968780eeff4bc48406c7e20c5d6316",
            "6eb602639fb049419a09a27844a6e16c",
            "ba7c4dbe684644e89983eae3debbd62c",
            "3011dbb08d804154a17ffa03d860e6e1",
            "a37cd4454f1e4caf9bac0dd3c59d7b57",
            "bc8d981ff9064ea5a50a86deda4585b2",
            "f1c2cc6f48724ab4a6ee17b165c5fb22",
            "099bb04a73db45fba61051b47320070c",
            "4022e5ff84f04eb6a3650a040fd4681e",
            "dca6b79f881640a8adda2bc79f83e881",
            "e0e540fbb4de493db694636b85dab169",
            "df5dbbbfc59c486db7cf041c24616290",
            "eef289d315564d1f95df8c755350fd14",
            "54f21fd96eaf427da155996c6ca549b4",
            "6f025bd50a224112b225be4b3391e94b"
          ]
        },
        "outputId": "181f951c-7b71-46d8-e076-90bb193546cd"
      },
      "source": [
        "data_dir = pathlib.Path('data/')\n",
        "mnist = datasets.MNIST(data_dir, download=True, train=True)"
      ],
      "execution_count": null,
      "outputs": [
        {
          "output_type": "stream",
          "name": "stdout",
          "text": [
            "Downloading http://yann.lecun.com/exdb/mnist/train-images-idx3-ubyte.gz\n",
            "Downloading http://yann.lecun.com/exdb/mnist/train-images-idx3-ubyte.gz to data/MNIST/raw/train-images-idx3-ubyte.gz\n"
          ]
        },
        {
          "output_type": "display_data",
          "data": {
            "application/vnd.jupyter.widget-view+json": {
              "model_id": "7297192f9d654919a2a23bb045c50aa8",
              "version_minor": 0,
              "version_major": 2
            },
            "text/plain": [
              "  0%|          | 0/9912422 [00:00<?, ?it/s]"
            ]
          },
          "metadata": {}
        },
        {
          "output_type": "stream",
          "name": "stdout",
          "text": [
            "Extracting data/MNIST/raw/train-images-idx3-ubyte.gz to data/MNIST/raw\n",
            "\n",
            "Downloading http://yann.lecun.com/exdb/mnist/train-labels-idx1-ubyte.gz\n",
            "Downloading http://yann.lecun.com/exdb/mnist/train-labels-idx1-ubyte.gz to data/MNIST/raw/train-labels-idx1-ubyte.gz\n"
          ]
        },
        {
          "output_type": "display_data",
          "data": {
            "application/vnd.jupyter.widget-view+json": {
              "model_id": "a92ce00a1d3e4b85b9089bbe40abbc03",
              "version_minor": 0,
              "version_major": 2
            },
            "text/plain": [
              "  0%|          | 0/28881 [00:00<?, ?it/s]"
            ]
          },
          "metadata": {}
        },
        {
          "output_type": "stream",
          "name": "stdout",
          "text": [
            "Extracting data/MNIST/raw/train-labels-idx1-ubyte.gz to data/MNIST/raw\n",
            "\n",
            "Downloading http://yann.lecun.com/exdb/mnist/t10k-images-idx3-ubyte.gz\n",
            "Downloading http://yann.lecun.com/exdb/mnist/t10k-images-idx3-ubyte.gz to data/MNIST/raw/t10k-images-idx3-ubyte.gz\n"
          ]
        },
        {
          "output_type": "display_data",
          "data": {
            "application/vnd.jupyter.widget-view+json": {
              "model_id": "5e12a5fa52a946aba26015d45b723494",
              "version_minor": 0,
              "version_major": 2
            },
            "text/plain": [
              "  0%|          | 0/1648877 [00:00<?, ?it/s]"
            ]
          },
          "metadata": {}
        },
        {
          "output_type": "stream",
          "name": "stdout",
          "text": [
            "Extracting data/MNIST/raw/t10k-images-idx3-ubyte.gz to data/MNIST/raw\n",
            "\n",
            "Downloading http://yann.lecun.com/exdb/mnist/t10k-labels-idx1-ubyte.gz\n",
            "Downloading http://yann.lecun.com/exdb/mnist/t10k-labels-idx1-ubyte.gz to data/MNIST/raw/t10k-labels-idx1-ubyte.gz\n"
          ]
        },
        {
          "output_type": "display_data",
          "data": {
            "application/vnd.jupyter.widget-view+json": {
              "model_id": "a37cd4454f1e4caf9bac0dd3c59d7b57",
              "version_minor": 0,
              "version_major": 2
            },
            "text/plain": [
              "  0%|          | 0/4542 [00:00<?, ?it/s]"
            ]
          },
          "metadata": {}
        },
        {
          "output_type": "stream",
          "name": "stdout",
          "text": [
            "Extracting data/MNIST/raw/t10k-labels-idx1-ubyte.gz to data/MNIST/raw\n",
            "\n"
          ]
        }
      ]
    },
    {
      "cell_type": "markdown",
      "metadata": {
        "id": "3V34jLJ-vX5P"
      },
      "source": [
        "Let's check the first ten samples to see what they look like"
      ]
    },
    {
      "cell_type": "code",
      "metadata": {
        "id": "V1mbfCdEUfPM",
        "colab": {
          "base_uri": "https://localhost:8080/",
          "height": 240
        },
        "outputId": "156f1f62-2c1a-4c15-f5d5-b1c85aa688c0"
      },
      "source": [
        "X_sample, y_sample = mnist[0]\n",
        "# TODO: display the label and the image\n",
        "for i in range(10):\n",
        "  plt.subplot(2,5,i+1)\n",
        "  plt.imshow(mnist[i][0])\n",
        "  plt.title(mnist[i][1])"
      ],
      "execution_count": null,
      "outputs": [
        {
          "output_type": "display_data",
          "data": {
            "image/png": "[encoded data removed]",
            "text/plain": [
              "<Figure size 432x288 with 10 Axes>"
            ]
          },
          "metadata": {
            "needs_background": "light"
          }
        }
      ]
    },
    {
      "cell_type": "markdown",
      "metadata": {
        "id": "rjwoK4uoyyom"
      },
      "source": [
        "Look at the types of X and y."
      ]
    },
    {
      "cell_type": "code",
      "metadata": {
        "id": "-esZPsHJyyon",
        "colab": {
          "base_uri": "https://localhost:8080/"
        },
        "outputId": "d3b90183-73aa-48b4-9855-0d980770d990"
      },
      "source": [
        "# TODO: display types\n",
        "print(\"X_sample:{} , y_sample:{}\".format(type(X_sample),type(y_sample)))"
      ],
      "execution_count": null,
      "outputs": [
        {
          "output_type": "stream",
          "name": "stdout",
          "text": [
            "X_sample:<class 'PIL.Image.Image'> , y_sample:<class 'int'>\n"
          ]
        }
      ]
    },
    {
      "cell_type": "markdown",
      "metadata": {
        "id": "3HBk4RHHypXv"
      },
      "source": [
        "How many data points are there in the dataset? </br>\n",
        "_60000_"
      ]
    },
    {
      "cell_type": "code",
      "metadata": {
        "id": "9LQZ5xblyxOo",
        "colab": {
          "base_uri": "https://localhost:8080/"
        },
        "outputId": "343b1791-02e5-42db-b882-a600c1e6c197"
      },
      "source": [
        "# TODO: print out the length of the dataset\n",
        "len(mnist)"
      ],
      "execution_count": null,
      "outputs": [
        {
          "output_type": "execute_result",
          "data": {
            "text/plain": [
              "60000"
            ]
          },
          "metadata": {},
          "execution_count": 21
        }
      ]
    },
    {
      "cell_type": "code",
      "metadata": {
        "id": "qtAkG-5ez4KH",
        "colab": {
          "base_uri": "https://localhost:8080/",
          "height": 141
        },
        "outputId": "d271bf91-082b-4595-cf32-ab38bebf056a"
      },
      "source": [
        "N = 10\n",
        "fig, axes = plt.subplots(1, N, figsize=(2*N, 2))\n",
        "X, y = mnist.data, mnist.targets\n",
        "for ax, image, label in zip(axes.ravel(), X, y):\n",
        "  ax.set_title(\"label: {}\".format(label))\n",
        "  ax.axis('off')\n",
        "  ax.imshow(image.reshape(28,28), cmap='gray') # Remember, images are 28x28"
      ],
      "execution_count": null,
      "outputs": [
        {
          "output_type": "display_data",
          "data": {
            "image/png": "[encoded data removed]",
            "text/plain": [
              "<Figure size 1440x144 with 10 Axes>"
            ]
          },
          "metadata": {
            "needs_background": "light"
          }
        }
      ]
    },
    {
      "cell_type": "markdown",
      "metadata": {
        "id": "f9PJLI5il2HP"
      },
      "source": [
        "The following plots show more information about the dataset:\n",
        "![image.png](data:image/png;base64,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)\n"
      ]
    },
    {
      "cell_type": "markdown",
      "metadata": {
        "id": "FXCyRAxkija7"
      },
      "source": [
        "Now that you know what MNIST looks like, you can guess what the task you can do with the dataset is: classifying handwritten digits."
      ]
    },
    {
      "cell_type": "markdown",
      "metadata": {
        "id": "CX3GjFu6fxlr"
      },
      "source": [
        "\n",
        "### Preprocessing the data"
      ]
    },
    {
      "cell_type": "markdown",
      "metadata": {
        "id": "v-tajbPdzAV6"
      },
      "source": [
        "#### Transformation\n",
        "\n",
        "We have seen above that the contents of the data set are of type [(PIL.Image.Image, Int)]. However, pytorch (the core that is, not torchvision or torchtext) is only equipped to work on Tensor objects. So we need to **transform** _PIL.Image.Image_ to _torch.Tensor_. Torchvision takes care of that for us. _transforms.ToTensor_ is a transformation operation that maps a _PIL.Image.Image_ to a torch tensor."
      ]
    },
    {
      "cell_type": "code",
      "metadata": {
        "id": "3_4dfCe-elWU"
      },
      "source": [
        "mnist = datasets.MNIST(data_dir, download=True, train=True, transform=transforms.ToTensor())"
      ],
      "execution_count": null,
      "outputs": []
    },
    {
      "cell_type": "markdown",
      "metadata": {
        "id": "7oMMXeCEPIjO"
      },
      "source": [
        "#### Normalization\n"
      ]
    },
    {
      "cell_type": "markdown",
      "metadata": {
        "id": "Swggb0KdPLhE"
      },
      "source": [
        "Furthermore, we will **normalize** the data to zero-mean and unit-variance. _transforms.Normalize_ takes the mean and std-dev for each channel and rescales the data to zero-mean, unit-variance. \n",
        "\n",
        "See https://pytorch.org/docs/stable/torchvision/transforms.html#torchvision.transforms.Normalize for more information.\n",
        "\n",
        "We can combine multiple transformations via _transforms.Compose_.\n",
        "\n",
        "So let's create a new dataset that we will be using for testing purposes with those transformations in-place.\n"
      ]
    },
    {
      "cell_type": "code",
      "metadata": {
        "id": "s2UA-KeB0iYH"
      },
      "source": [
        "tmp_dataloader = torch.utils.data.DataLoader(mnist, batch_size=len(mnist), shuffle=True)"
      ],
      "execution_count": null,
      "outputs": []
    },
    {
      "cell_type": "code",
      "metadata": {
        "id": "9bdlJqgJYE9r",
        "colab": {
          "base_uri": "https://localhost:8080/"
        },
        "outputId": "f485c292-0254-4fff-cc42-b63f14cf9923"
      },
      "source": [
        "# TODO calculate mean and standard deviation of MNIST train dataset\n",
        "\n",
        "mean = 0\n",
        "for i in range(len(mnist)):\n",
        "  mean+= torch.mean(mnist[i][0][0])\n",
        "mean/=len(mnist)\n",
        "print(mean)"
      ],
      "execution_count": null,
      "outputs": [
        {
          "output_type": "stream",
          "name": "stdout",
          "text": [
            "tensor(0.1307)\n"
          ]
        }
      ]
    },
    {
      "cell_type": "code",
      "metadata": {
        "id": "QTA8gix9KJeH"
      },
      "source": [
        "mean = mean.item()"
      ],
      "execution_count": null,
      "outputs": []
    },
    {
      "cell_type": "code",
      "metadata": {
        "id": "LX8M1hzCGL3_"
      },
      "source": [
        "std = tmp_dataloader.dataset.data.float().std().item()/255"
      ],
      "execution_count": null,
      "outputs": []
    },
    {
      "cell_type": "code",
      "metadata": {
        "colab": {
          "base_uri": "https://localhost:8080/"
        },
        "id": "-oCuq2pcNIoU",
        "outputId": "4ff4ee6b-d1a9-40a9-b2e0-bbf1b5b7818c"
      },
      "source": [
        "mean, std"
      ],
      "execution_count": null,
      "outputs": [
        {
          "output_type": "execute_result",
          "data": {
            "text/plain": [
              "(0.13065974414348602, 0.30810780244715075)"
            ]
          },
          "metadata": {},
          "execution_count": 28
        }
      ]
    },
    {
      "cell_type": "code",
      "metadata": {
        "id": "q5KR3dhPYFSI"
      },
      "source": [
        "mnist_transforms = transforms.Compose([transforms.ToTensor(), transforms.Normalize((mean,), (std,))])"
      ],
      "execution_count": null,
      "outputs": []
    },
    {
      "cell_type": "code",
      "metadata": {
        "colab": {
          "base_uri": "https://localhost:8080/"
        },
        "id": "PGyIzQ6hNPcQ",
        "outputId": "96cbedb0-5829-45b1-99ad-4aa41a8931d6"
      },
      "source": [
        "mnist_transforms"
      ],
      "execution_count": null,
      "outputs": [
        {
          "output_type": "execute_result",
          "data": {
            "text/plain": [
              "Compose(\n",
              "    ToTensor()\n",
              "    Normalize(mean=(0.13065974414348602,), std=(0.30810780244715075,))\n",
              ")"
            ]
          },
          "metadata": {},
          "execution_count": 30
        }
      ]
    },
    {
      "cell_type": "markdown",
      "metadata": {
        "id": "fvHI6P24IqZ3"
      },
      "source": [
        "### Training, Validation and Test Sets\n",
        "\n",
        "For the correct fitting of a neural network model we need three datasets: one for training, one for validation in the training process, and the last one for testing the results of the training on unseen data. \n",
        "\n",
        "Note that you should not use the test set in any part of your training and model selection procedure. It should be only used for showing the final results."
      ]
    },
    {
      "cell_type": "markdown",
      "metadata": {
        "id": "5fZwvBwZUqfE"
      },
      "source": [
        "We first need to **load** the datasets.\n",
        "Above, we did that already to visualize the data and calculate normalization values.\n",
        "Now we load them and **apply the normalization transform** in this process."
      ]
    },
    {
      "cell_type": "code",
      "metadata": {
        "id": "RSoNJGNECGw8"
      },
      "source": [
        "# TODO download the dataset for training and testing, with normalization transform\n",
        "mnist_train = datasets.MNIST(data_dir, download=True, train=True, transform=mnist_transforms)\n",
        "mnist_test = datasets.MNIST(data_dir, download=True, train=False, transform=mnist_transforms)"
      ],
      "execution_count": null,
      "outputs": []
    },
    {
      "cell_type": "markdown",
      "metadata": {
        "id": "kgBH3RfQUuz6"
      },
      "source": [
        "We need to **split** the train dataset in two sets, one for training and one for validation. \n",
        "While the training set needs to be quite large, the validation set can be relatively small.\n",
        "Take 10 % of the dataset as validation set.\n",
        "Assign samples *randomly* to the training and validation set, using a fixed seed to ensure reproducibility."
      ]
    },
    {
      "cell_type": "code",
      "metadata": {
        "id": "cf2DznpJT8wK",
        "colab": {
          "base_uri": "https://localhost:8080/"
        },
        "outputId": "58248d56-9e9f-4fb9-9937-82407fcb0764"
      },
      "source": [
        "# TODO split the train dataset in mnist_train and mnist_val\n",
        "length_train = int(0.9*len(mnist_train))\n",
        "length_val = int(0.1*len(mnist_train))\n",
        "mnist_train, mnist_val = torch.utils.data.random_split(mnist_train, [length_train, length_val], generator=torch.Generator().manual_seed(42))\n",
        "len(mnist_train), len(mnist_val)"
      ],
      "execution_count": null,
      "outputs": [
        {
          "output_type": "execute_result",
          "data": {
            "text/plain": [
              "(54000, 6000)"
            ]
          },
          "metadata": {},
          "execution_count": 32
        }
      ]
    },
    {
      "cell_type": "markdown",
      "metadata": {
        "id": "B6LDumpJUw-x"
      },
      "source": [
        "To load the data for model training, we need to define the **dataloaders**.\n",
        "A dataloader represents a Python iterable over a dataset and draws mini batches with random samples.\n",
        "Use the batch size as specified above.\n",
        "Make sure we get shuffled samples in batches."
      ]
    },
    {
      "cell_type": "code",
      "metadata": {
        "id": "Z-8kQnghANgs"
      },
      "source": [
        "batch_size = 256"
      ],
      "execution_count": null,
      "outputs": []
    },
    {
      "cell_type": "code",
      "metadata": {
        "id": "6wOV2iQYKA4Y"
      },
      "source": [
        "# TODO create dataloader for training, validation and test\n",
        "train_dataloader = DataLoader(mnist_train, batch_size=batch_size, shuffle=True)\n",
        "val_dataloader = DataLoader(mnist_val, batch_size=batch_size, shuffle=True)\n",
        "test_dataloader = DataLoader(mnist_test, batch_size=batch_size, shuffle=True)"
      ],
      "execution_count": null,
      "outputs": []
    },
    {
      "cell_type": "markdown",
      "metadata": {
        "id": "_kD_tfv7EhBV"
      },
      "source": [
        "Let's get a data point now to see what we're dealing with. \n",
        "\n",
        "For this, you might want to check out how python's iterator protocol works. It's simple and will give you an important insight into python: https://wiki.python.org/moin/Iterator."
      ]
    },
    {
      "cell_type": "code",
      "metadata": {
        "id": "bROYEcbCEjpB"
      },
      "source": [
        "# TODO display an element of the train_dataloader\n",
        "x,y = next(iter(train_dataloader))"
      ],
      "execution_count": null,
      "outputs": []
    },
    {
      "cell_type": "code",
      "metadata": {
        "id": "YJwRzi_MHfyV",
        "colab": {
          "base_uri": "https://localhost:8080/",
          "height": 36
        },
        "outputId": "25a71a17-ddf6-469a-f306-451d90ea68a0"
      },
      "source": [
        "# TODO display the dimensions of x and y\n",
        "\"X: {}, Y:{}\".format(x.shape, y.shape)"
      ],
      "execution_count": null,
      "outputs": [
        {
          "output_type": "execute_result",
          "data": {
            "application/vnd.google.colaboratory.intrinsic+json": {
              "type": "string"
            },
            "text/plain": [
              "'X: torch.Size([256, 1, 28, 28]), Y:torch.Size([256])'"
            ]
          },
          "metadata": {},
          "execution_count": 36
        }
      ]
    },
    {
      "cell_type": "markdown",
      "metadata": {
        "id": "P4VmDBNvCmkp"
      },
      "source": [
        "x has size (\\[batchsize\\], 1, 28, 28) --> 256 batches (or whatever you have defined in your data loader), 1 channel (the images are monochrome), and the dimensions of the images are 28 height/rows and 28 width/cols.\n",
        "\n",
        "y has size (\\[batchsize\\]) --> 256 images (again depends on your data loader config). There's one label for each of the images in the batch."
      ]
    },
    {
      "cell_type": "markdown",
      "metadata": {
        "id": "W0Pa_bWEjqDf"
      },
      "source": [
        "## Specify model & optimizer"
      ]
    },
    {
      "cell_type": "markdown",
      "metadata": {
        "id": "EasgugDjSSrt"
      },
      "source": [
        "### Specify a model\n",
        "\n",
        "The task is now to define a model to train on the data. In this simple example, we only need **one fully-connected layer** as defined in *torch.nn.Linear* that produces a predicted label for a specific training image.\n",
        "\n",
        "Before, we set some variables: \n",
        "- the input and output size of the linear layer\n",
        "- how long we want to train the model (number of epochs) and \n",
        "- the learning rate.\n"
      ]
    },
    {
      "cell_type": "code",
      "metadata": {
        "id": "ZUq3zcWgMVwD"
      },
      "source": [
        "epochs = 1\n",
        "input_dim = 28 * 28\n",
        "output_dim = 10\n",
        "lr = 0.001"
      ],
      "execution_count": null,
      "outputs": []
    },
    {
      "cell_type": "code",
      "metadata": {
        "id": "FBQhYDR1MDUr"
      },
      "source": [
        "class LogisticRegression(torch.nn.Module):\n",
        "    \"\"\"\n",
        "    Logistic regression model\n",
        "    inherits the torch.nn.Module which is the base class \n",
        "    for all neural network modules.\n",
        "    \"\"\"\n",
        "    def __init__(self, input_dim, output_dim):\n",
        "        \"\"\" Initializes internal Module state. \"\"\"\n",
        "        super(LogisticRegression, self).__init__()\n",
        "        self.flatten = torch.nn.Flatten()\n",
        "        # TODO define linear layer for the model\n",
        "        self.input_layer = torch.nn.Sequential(\n",
        "            torch.nn.Linear( input_dim, output_dim),\n",
        "            torch.nn.ReLU()\n",
        "        )\n",
        "\n",
        "    def forward(self, x):\n",
        "        \"\"\" Defines the computation performed at every call. \"\"\"\n",
        "        # What are the dimensions of your input layer?\n",
        "        # TODO flatten the input to a suitable size for the initial layer\n",
        "        flattened_X = self.flatten(x)        \n",
        "        # TODO run the data through the layer\n",
        "        outputs = self.input_layer(flattened_X.cuda())\n",
        "        return outputs"
      ],
      "execution_count": null,
      "outputs": []
    },
    {
      "cell_type": "markdown",
      "metadata": {
        "id": "NhtEaHPxw3Hu"
      },
      "source": [
        "### Instantiate the model\n",
        "\n",
        "Let us instantiate the model and take a look at the inside. It is always a good idea to verify that the actual architecture is what you intended it to be. Especially, when you start to create layers dynamically it is great for inspection/verification/debugging."
      ]
    },
    {
      "cell_type": "code",
      "metadata": {
        "id": "9h8Zg06BOkft"
      },
      "source": [
        "# TODO instantiate the model\n",
        "model = LogisticRegression(input_dim, output_dim)"
      ],
      "execution_count": null,
      "outputs": []
    },
    {
      "cell_type": "markdown",
      "metadata": {
        "id": "TGLn5kqx0Nzb"
      },
      "source": [
        "Move the model to the GPU if available."
      ]
    },
    {
      "cell_type": "code",
      "metadata": {
        "id": "MhOt6uzU0UBb",
        "colab": {
          "base_uri": "https://localhost:8080/"
        },
        "outputId": "40227aec-670b-4804-9d2f-bffb5bd1a35a"
      },
      "source": [
        "# TODO move model to device you specified above\n",
        "model.to(device = 'cuda')"
      ],
      "execution_count": null,
      "outputs": [
        {
          "output_type": "execute_result",
          "data": {
            "text/plain": [
              "LogisticRegression(\n",
              "  (flatten): Flatten(start_dim=1, end_dim=-1)\n",
              "  (input_layer): Sequential(\n",
              "    (0): Linear(in_features=784, out_features=10, bias=True)\n",
              "    (1): ReLU()\n",
              "  )\n",
              ")"
            ]
          },
          "metadata": {},
          "execution_count": 40
        }
      ]
    },
    {
      "cell_type": "markdown",
      "metadata": {
        "id": "TdVAcmh-A27Q"
      },
      "source": [
        "Put the model in training mode."
      ]
    },
    {
      "cell_type": "code",
      "metadata": {
        "id": "RfWmXXNCA6sp",
        "colab": {
          "base_uri": "https://localhost:8080/"
        },
        "outputId": "fbe148db-978b-4e41-c4fe-5cfcb8326246"
      },
      "source": [
        "# TODO put the model in train mode\n",
        "# output = model.train()\n",
        "# print(output)\n",
        "model.train()"
      ],
      "execution_count": null,
      "outputs": [
        {
          "output_type": "execute_result",
          "data": {
            "text/plain": [
              "LogisticRegression(\n",
              "  (flatten): Flatten(start_dim=1, end_dim=-1)\n",
              "  (input_layer): Sequential(\n",
              "    (0): Linear(in_features=784, out_features=10, bias=True)\n",
              "    (1): ReLU()\n",
              "  )\n",
              ")"
            ]
          },
          "metadata": {},
          "execution_count": 41
        }
      ]
    },
    {
      "cell_type": "markdown",
      "metadata": {
        "id": "M9zCHNoVxM46"
      },
      "source": [
        "### Define a loss function\n",
        "\n",
        "Since we're dealing with multi-class classification (i.e. multiple categories), softmax is the canonical choice for the final layer activation. Softmax provides us with a distribution of values in [0, 1] that sum up to 1 over all categories.\n",
        "\n",
        "We then use the cross entropy to compute the loss.\n",
        "\n",
        "**Hint** Due to numerical reasons, softmax and cross entropy are combined to operate more stable. Read more about it in https://pytorch.org/docs/stable/generated/torch.nn.CrossEntropyLoss.html."
      ]
    },
    {
      "cell_type": "code",
      "metadata": {
        "id": "NDUHKbO3OmWU"
      },
      "source": [
        "# TODO define loss function\n",
        "loss_function = torch.nn.CrossEntropyLoss()"
      ],
      "execution_count": null,
      "outputs": []
    },
    {
      "cell_type": "markdown",
      "metadata": {
        "id": "VcANGg6Lx-Gk"
      },
      "source": [
        "### Define the optimizer\n",
        "\n",
        "The optimizer is the learning algorithm we use. In this case, we use Stochastic Gradient Descent (SGD)."
      ]
    },
    {
      "cell_type": "code",
      "metadata": {
        "id": "F_d89VCXOruD"
      },
      "source": [
        "optimizer = torch.optim.SGD(model.parameters(), lr=lr)"
      ],
      "execution_count": null,
      "outputs": []
    },
    {
      "cell_type": "markdown",
      "metadata": {
        "id": "tHTc6mF_kXfF"
      },
      "source": [
        "## Model fitting"
      ]
    },
    {
      "cell_type": "markdown",
      "metadata": {
        "id": "tli1No3uUPU7"
      },
      "source": [
        "### Train the model\n",
        "\n",
        "Everything is set for the model to train!\n",
        "\n",
        "- In the forward pass, the prediction is made using the previously defined model on the images of the dataloader.\n",
        "- Then the loss (or error) needs to be computed by comparing the prediction to the actual label.\n",
        "- In the backward pass, the model learns and updates its weights based on the current gradient."
      ]
    },
    {
      "cell_type": "code",
      "metadata": {
        "id": "2XKR1GPOOy3b",
        "colab": {
          "base_uri": "https://localhost:8080/"
        },
        "outputId": "186a4b53-44d1-47c4-8dea-b925a4d739ce"
      },
      "source": [
        "# TODO fill in the missing lines\n",
        "for epoch in range(epochs):\n",
        "    for i, (images, labels) in enumerate(train_dataloader):\n",
        "        # delete the gradients from last training iteration\n",
        "        optimizer.zero_grad()\n",
        "\n",
        "        # Forward pass: get predictions\n",
        "        y_pred = model(images)\n",
        "\n",
        "        # Compute loss\n",
        "        loss = loss_function(y_pred.cuda(), labels.cuda())\n",
        "        print(loss)\n",
        "        # Backward pass -> calculate gradients, update weights\n",
        "        model.zero_grad()\n",
        "        loss.backward()\n",
        "        optimizer.step()\n",
        "        \n",
        "        "
      ],
      "execution_count": null,
      "outputs": [
        {
          "output_type": "stream",
          "name": "stdout",
          "text": [
            "tensor(2.3230, device='cuda:0', grad_fn=<NllLossBackward0>)\n",
            "tensor(2.3185, device='cuda:0', grad_fn=<NllLossBackward0>)\n",
            "tensor(2.3195, device='cuda:0', grad_fn=<NllLossBackward0>)\n",
            "tensor(2.2965, device='cuda:0', grad_fn=<NllLossBackward0>)\n",
            "tensor(2.2605, device='cuda:0', grad_fn=<NllLossBackward0>)\n",
            "tensor(2.2842, device='cuda:0', grad_fn=<NllLossBackward0>)\n",
            "tensor(2.3176, device='cuda:0', grad_fn=<NllLossBackward0>)\n",
            "tensor(2.2981, device='cuda:0', grad_fn=<NllLossBackward0>)\n",
            "tensor(2.2852, device='cuda:0', grad_fn=<NllLossBackward0>)\n",
            "tensor(2.2747, device='cuda:0', grad_fn=<NllLossBackward0>)\n",
            "tensor(2.2857, device='cuda:0', grad_fn=<NllLossBackward0>)\n",
            "tensor(2.2462, device='cuda:0', grad_fn=<NllLossBackward0>)\n",
            "tensor(2.2635, device='cuda:0', grad_fn=<NllLossBackward0>)\n",
            "tensor(2.2825, device='cuda:0', grad_fn=<NllLossBackward0>)\n",
            "tensor(2.2170, device='cuda:0', grad_fn=<NllLossBackward0>)\n",
            "tensor(2.2379, device='cuda:0', grad_fn=<NllLossBackward0>)\n",
            "tensor(2.2388, device='cuda:0', grad_fn=<NllLossBackward0>)\n",
            "tensor(2.2134, device='cuda:0', grad_fn=<NllLossBackward0>)\n",
            "tensor(2.2413, device='cuda:0', grad_fn=<NllLossBackward0>)\n",
            "tensor(2.2096, device='cuda:0', grad_fn=<NllLossBackward0>)\n",
            "tensor(2.2399, device='cuda:0', grad_fn=<NllLossBackward0>)\n",
            "tensor(2.2337, device='cuda:0', grad_fn=<NllLossBackward0>)\n",
            "tensor(2.2013, device='cuda:0', grad_fn=<NllLossBackward0>)\n",
            "tensor(2.1736, device='cuda:0', grad_fn=<NllLossBackward0>)\n",
            "tensor(2.1601, device='cuda:0', grad_fn=<NllLossBackward0>)\n",
            "tensor(2.2089, device='cuda:0', grad_fn=<NllLossBackward0>)\n",
            "tensor(2.2232, device='cuda:0', grad_fn=<NllLossBackward0>)\n",
            "tensor(2.1806, device='cuda:0', grad_fn=<NllLossBackward0>)\n",
            "tensor(2.1834, device='cuda:0', grad_fn=<NllLossBackward0>)\n",
            "tensor(2.1199, device='cuda:0', grad_fn=<NllLossBackward0>)\n",
            "tensor(2.1913, device='cuda:0', grad_fn=<NllLossBackward0>)\n",
            "tensor(2.2075, device='cuda:0', grad_fn=<NllLossBackward0>)\n",
            "tensor(2.1296, device='cuda:0', grad_fn=<NllLossBackward0>)\n",
            "tensor(2.1458, device='cuda:0', grad_fn=<NllLossBackward0>)\n",
            "tensor(2.1933, device='cuda:0', grad_fn=<NllLossBackward0>)\n",
            "tensor(2.1634, device='cuda:0', grad_fn=<NllLossBackward0>)\n",
            "tensor(2.1605, device='cuda:0', grad_fn=<NllLossBackward0>)\n",
            "tensor(2.1519, device='cuda:0', grad_fn=<NllLossBackward0>)\n",
            "tensor(2.1510, device='cuda:0', grad_fn=<NllLossBackward0>)\n",
            "tensor(2.1601, device='cuda:0', grad_fn=<NllLossBackward0>)\n",
            "tensor(2.1481, device='cuda:0', grad_fn=<NllLossBackward0>)\n",
            "tensor(2.1020, device='cuda:0', grad_fn=<NllLossBackward0>)\n",
            "tensor(2.1383, device='cuda:0', grad_fn=<NllLossBackward0>)\n",
            "tensor(2.0914, device='cuda:0', grad_fn=<NllLossBackward0>)\n",
            "tensor(2.0822, device='cuda:0', grad_fn=<NllLossBackward0>)\n",
            "tensor(2.0572, device='cuda:0', grad_fn=<NllLossBackward0>)\n",
            "tensor(2.0803, device='cuda:0', grad_fn=<NllLossBackward0>)\n",
            "tensor(2.1099, device='cuda:0', grad_fn=<NllLossBackward0>)\n",
            "tensor(2.0953, device='cuda:0', grad_fn=<NllLossBackward0>)\n",
            "tensor(2.0476, device='cuda:0', grad_fn=<NllLossBackward0>)\n",
            "tensor(2.0745, device='cuda:0', grad_fn=<NllLossBackward0>)\n",
            "tensor(2.1297, device='cuda:0', grad_fn=<NllLossBackward0>)\n",
            "tensor(2.0476, device='cuda:0', grad_fn=<NllLossBackward0>)\n",
            "tensor(2.0310, device='cuda:0', grad_fn=<NllLossBackward0>)\n",
            "tensor(2.1077, device='cuda:0', grad_fn=<NllLossBackward0>)\n",
            "tensor(2.0383, device='cuda:0', grad_fn=<NllLossBackward0>)\n",
            "tensor(2.0576, device='cuda:0', grad_fn=<NllLossBackward0>)\n",
            "tensor(1.9680, device='cuda:0', grad_fn=<NllLossBackward0>)\n",
            "tensor(2.0202, device='cuda:0', grad_fn=<NllLossBackward0>)\n",
            "tensor(2.0688, device='cuda:0', grad_fn=<NllLossBackward0>)\n",
            "tensor(1.9702, device='cuda:0', grad_fn=<NllLossBackward0>)\n",
            "tensor(2.0131, device='cuda:0', grad_fn=<NllLossBackward0>)\n",
            "tensor(2.0292, device='cuda:0', grad_fn=<NllLossBackward0>)\n",
            "tensor(2.0801, device='cuda:0', grad_fn=<NllLossBackward0>)\n",
            "tensor(1.9859, device='cuda:0', grad_fn=<NllLossBackward0>)\n",
            "tensor(2.0538, device='cuda:0', grad_fn=<NllLossBackward0>)\n",
            "tensor(1.9955, device='cuda:0', grad_fn=<NllLossBackward0>)\n",
            "tensor(2.0199, device='cuda:0', grad_fn=<NllLossBackward0>)\n",
            "tensor(2.0403, device='cuda:0', grad_fn=<NllLossBackward0>)\n",
            "tensor(1.9497, device='cuda:0', grad_fn=<NllLossBackward0>)\n",
            "tensor(1.9890, device='cuda:0', grad_fn=<NllLossBackward0>)\n",
            "tensor(1.9837, device='cuda:0', grad_fn=<NllLossBackward0>)\n",
            "tensor(1.9971, device='cuda:0', grad_fn=<NllLossBackward0>)\n",
            "tensor(1.9969, device='cuda:0', grad_fn=<NllLossBackward0>)\n",
            "tensor(1.9415, device='cuda:0', grad_fn=<NllLossBackward0>)\n",
            "tensor(1.9771, device='cuda:0', grad_fn=<NllLossBackward0>)\n",
            "tensor(2.0424, device='cuda:0', grad_fn=<NllLossBackward0>)\n",
            "tensor(1.9370, device='cuda:0', grad_fn=<NllLossBackward0>)\n",
            "tensor(1.9650, device='cuda:0', grad_fn=<NllLossBackward0>)\n",
            "tensor(1.9909, device='cuda:0', grad_fn=<NllLossBackward0>)\n",
            "tensor(1.9520, device='cuda:0', grad_fn=<NllLossBackward0>)\n",
            "tensor(1.9423, device='cuda:0', grad_fn=<NllLossBackward0>)\n",
            "tensor(2.0412, device='cuda:0', grad_fn=<NllLossBackward0>)\n",
            "tensor(1.9206, device='cuda:0', grad_fn=<NllLossBackward0>)\n",
            "tensor(1.9467, device='cuda:0', grad_fn=<NllLossBackward0>)\n",
            "tensor(1.9255, device='cuda:0', grad_fn=<NllLossBackward0>)\n",
            "tensor(1.9370, device='cuda:0', grad_fn=<NllLossBackward0>)\n",
            "tensor(1.8938, device='cuda:0', grad_fn=<NllLossBackward0>)\n",
            "tensor(1.9253, device='cuda:0', grad_fn=<NllLossBackward0>)\n",
            "tensor(1.9070, device='cuda:0', grad_fn=<NllLossBackward0>)\n",
            "tensor(1.8968, device='cuda:0', grad_fn=<NllLossBackward0>)\n",
            "tensor(1.9746, device='cuda:0', grad_fn=<NllLossBackward0>)\n",
            "tensor(1.8973, device='cuda:0', grad_fn=<NllLossBackward0>)\n",
            "tensor(1.8966, device='cuda:0', grad_fn=<NllLossBackward0>)\n",
            "tensor(1.9257, device='cuda:0', grad_fn=<NllLossBackward0>)\n",
            "tensor(1.8757, device='cuda:0', grad_fn=<NllLossBackward0>)\n",
            "tensor(1.8883, device='cuda:0', grad_fn=<NllLossBackward0>)\n",
            "tensor(1.9735, device='cuda:0', grad_fn=<NllLossBackward0>)\n",
            "tensor(1.8379, device='cuda:0', grad_fn=<NllLossBackward0>)\n",
            "tensor(1.9040, device='cuda:0', grad_fn=<NllLossBackward0>)\n",
            "tensor(1.8680, device='cuda:0', grad_fn=<NllLossBackward0>)\n",
            "tensor(1.8650, device='cuda:0', grad_fn=<NllLossBackward0>)\n",
            "tensor(1.8614, device='cuda:0', grad_fn=<NllLossBackward0>)\n",
            "tensor(1.9314, device='cuda:0', grad_fn=<NllLossBackward0>)\n",
            "tensor(1.8954, device='cuda:0', grad_fn=<NllLossBackward0>)\n",
            "tensor(1.8987, device='cuda:0', grad_fn=<NllLossBackward0>)\n",
            "tensor(1.8760, device='cuda:0', grad_fn=<NllLossBackward0>)\n",
            "tensor(1.8155, device='cuda:0', grad_fn=<NllLossBackward0>)\n",
            "tensor(1.8310, device='cuda:0', grad_fn=<NllLossBackward0>)\n",
            "tensor(1.8435, device='cuda:0', grad_fn=<NllLossBackward0>)\n",
            "tensor(1.7713, device='cuda:0', grad_fn=<NllLossBackward0>)\n",
            "tensor(1.8098, device='cuda:0', grad_fn=<NllLossBackward0>)\n",
            "tensor(1.7766, device='cuda:0', grad_fn=<NllLossBackward0>)\n",
            "tensor(1.8070, device='cuda:0', grad_fn=<NllLossBackward0>)\n",
            "tensor(1.7540, device='cuda:0', grad_fn=<NllLossBackward0>)\n",
            "tensor(1.8337, device='cuda:0', grad_fn=<NllLossBackward0>)\n",
            "tensor(1.8259, device='cuda:0', grad_fn=<NllLossBackward0>)\n",
            "tensor(1.7893, device='cuda:0', grad_fn=<NllLossBackward0>)\n",
            "tensor(1.8724, device='cuda:0', grad_fn=<NllLossBackward0>)\n",
            "tensor(1.7505, device='cuda:0', grad_fn=<NllLossBackward0>)\n",
            "tensor(1.7991, device='cuda:0', grad_fn=<NllLossBackward0>)\n",
            "tensor(1.8450, device='cuda:0', grad_fn=<NllLossBackward0>)\n",
            "tensor(1.7392, device='cuda:0', grad_fn=<NllLossBackward0>)\n",
            "tensor(1.8181, device='cuda:0', grad_fn=<NllLossBackward0>)\n",
            "tensor(1.8466, device='cuda:0', grad_fn=<NllLossBackward0>)\n",
            "tensor(1.8154, device='cuda:0', grad_fn=<NllLossBackward0>)\n",
            "tensor(1.7772, device='cuda:0', grad_fn=<NllLossBackward0>)\n",
            "tensor(1.7131, device='cuda:0', grad_fn=<NllLossBackward0>)\n",
            "tensor(1.7506, device='cuda:0', grad_fn=<NllLossBackward0>)\n",
            "tensor(1.7798, device='cuda:0', grad_fn=<NllLossBackward0>)\n",
            "tensor(1.8141, device='cuda:0', grad_fn=<NllLossBackward0>)\n",
            "tensor(1.7413, device='cuda:0', grad_fn=<NllLossBackward0>)\n",
            "tensor(1.7604, device='cuda:0', grad_fn=<NllLossBackward0>)\n",
            "tensor(1.7512, device='cuda:0', grad_fn=<NllLossBackward0>)\n",
            "tensor(1.7620, device='cuda:0', grad_fn=<NllLossBackward0>)\n",
            "tensor(1.6912, device='cuda:0', grad_fn=<NllLossBackward0>)\n",
            "tensor(1.6742, device='cuda:0', grad_fn=<NllLossBackward0>)\n",
            "tensor(1.7077, device='cuda:0', grad_fn=<NllLossBackward0>)\n",
            "tensor(1.7326, device='cuda:0', grad_fn=<NllLossBackward0>)\n",
            "tensor(1.7838, device='cuda:0', grad_fn=<NllLossBackward0>)\n",
            "tensor(1.7016, device='cuda:0', grad_fn=<NllLossBackward0>)\n",
            "tensor(1.6132, device='cuda:0', grad_fn=<NllLossBackward0>)\n",
            "tensor(1.7200, device='cuda:0', grad_fn=<NllLossBackward0>)\n",
            "tensor(1.7398, device='cuda:0', grad_fn=<NllLossBackward0>)\n",
            "tensor(1.6816, device='cuda:0', grad_fn=<NllLossBackward0>)\n",
            "tensor(1.6186, device='cuda:0', grad_fn=<NllLossBackward0>)\n",
            "tensor(1.6839, device='cuda:0', grad_fn=<NllLossBackward0>)\n",
            "tensor(1.6919, device='cuda:0', grad_fn=<NllLossBackward0>)\n",
            "tensor(1.6622, device='cuda:0', grad_fn=<NllLossBackward0>)\n",
            "tensor(1.6397, device='cuda:0', grad_fn=<NllLossBackward0>)\n",
            "tensor(1.7148, device='cuda:0', grad_fn=<NllLossBackward0>)\n",
            "tensor(1.7532, device='cuda:0', grad_fn=<NllLossBackward0>)\n",
            "tensor(1.6548, device='cuda:0', grad_fn=<NllLossBackward0>)\n",
            "tensor(1.6237, device='cuda:0', grad_fn=<NllLossBackward0>)\n",
            "tensor(1.7263, device='cuda:0', grad_fn=<NllLossBackward0>)\n",
            "tensor(1.6374, device='cuda:0', grad_fn=<NllLossBackward0>)\n",
            "tensor(1.6650, device='cuda:0', grad_fn=<NllLossBackward0>)\n",
            "tensor(1.6721, device='cuda:0', grad_fn=<NllLossBackward0>)\n",
            "tensor(1.6697, device='cuda:0', grad_fn=<NllLossBackward0>)\n",
            "tensor(1.5826, device='cuda:0', grad_fn=<NllLossBackward0>)\n",
            "tensor(1.6083, device='cuda:0', grad_fn=<NllLossBackward0>)\n",
            "tensor(1.6576, device='cuda:0', grad_fn=<NllLossBackward0>)\n",
            "tensor(1.6363, device='cuda:0', grad_fn=<NllLossBackward0>)\n",
            "tensor(1.5978, device='cuda:0', grad_fn=<NllLossBackward0>)\n",
            "tensor(1.5486, device='cuda:0', grad_fn=<NllLossBackward0>)\n",
            "tensor(1.5361, device='cuda:0', grad_fn=<NllLossBackward0>)\n",
            "tensor(1.6341, device='cuda:0', grad_fn=<NllLossBackward0>)\n",
            "tensor(1.5676, device='cuda:0', grad_fn=<NllLossBackward0>)\n",
            "tensor(1.6640, device='cuda:0', grad_fn=<NllLossBackward0>)\n",
            "tensor(1.6326, device='cuda:0', grad_fn=<NllLossBackward0>)\n",
            "tensor(1.4768, device='cuda:0', grad_fn=<NllLossBackward0>)\n",
            "tensor(1.6304, device='cuda:0', grad_fn=<NllLossBackward0>)\n",
            "tensor(1.5716, device='cuda:0', grad_fn=<NllLossBackward0>)\n",
            "tensor(1.5461, device='cuda:0', grad_fn=<NllLossBackward0>)\n",
            "tensor(1.6080, device='cuda:0', grad_fn=<NllLossBackward0>)\n",
            "tensor(1.5443, device='cuda:0', grad_fn=<NllLossBackward0>)\n",
            "tensor(1.6491, device='cuda:0', grad_fn=<NllLossBackward0>)\n",
            "tensor(1.6009, device='cuda:0', grad_fn=<NllLossBackward0>)\n",
            "tensor(1.5507, device='cuda:0', grad_fn=<NllLossBackward0>)\n",
            "tensor(1.4989, device='cuda:0', grad_fn=<NllLossBackward0>)\n",
            "tensor(1.5696, device='cuda:0', grad_fn=<NllLossBackward0>)\n",
            "tensor(1.5776, device='cuda:0', grad_fn=<NllLossBackward0>)\n",
            "tensor(1.5738, device='cuda:0', grad_fn=<NllLossBackward0>)\n",
            "tensor(1.5350, device='cuda:0', grad_fn=<NllLossBackward0>)\n",
            "tensor(1.6207, device='cuda:0', grad_fn=<NllLossBackward0>)\n",
            "tensor(1.5905, device='cuda:0', grad_fn=<NllLossBackward0>)\n",
            "tensor(1.5584, device='cuda:0', grad_fn=<NllLossBackward0>)\n",
            "tensor(1.6071, device='cuda:0', grad_fn=<NllLossBackward0>)\n",
            "tensor(1.5491, device='cuda:0', grad_fn=<NllLossBackward0>)\n",
            "tensor(1.5948, device='cuda:0', grad_fn=<NllLossBackward0>)\n",
            "tensor(1.5572, device='cuda:0', grad_fn=<NllLossBackward0>)\n",
            "tensor(1.5789, device='cuda:0', grad_fn=<NllLossBackward0>)\n",
            "tensor(1.5839, device='cuda:0', grad_fn=<NllLossBackward0>)\n",
            "tensor(1.4069, device='cuda:0', grad_fn=<NllLossBackward0>)\n",
            "tensor(1.5863, device='cuda:0', grad_fn=<NllLossBackward0>)\n",
            "tensor(1.4708, device='cuda:0', grad_fn=<NllLossBackward0>)\n",
            "tensor(1.4988, device='cuda:0', grad_fn=<NllLossBackward0>)\n",
            "tensor(1.4521, device='cuda:0', grad_fn=<NllLossBackward0>)\n",
            "tensor(1.4516, device='cuda:0', grad_fn=<NllLossBackward0>)\n",
            "tensor(1.5510, device='cuda:0', grad_fn=<NllLossBackward0>)\n",
            "tensor(1.4829, device='cuda:0', grad_fn=<NllLossBackward0>)\n",
            "tensor(1.4573, device='cuda:0', grad_fn=<NllLossBackward0>)\n",
            "tensor(1.4753, device='cuda:0', grad_fn=<NllLossBackward0>)\n",
            "tensor(1.4878, device='cuda:0', grad_fn=<NllLossBackward0>)\n",
            "tensor(1.5185, device='cuda:0', grad_fn=<NllLossBackward0>)\n",
            "tensor(1.4968, device='cuda:0', grad_fn=<NllLossBackward0>)\n",
            "tensor(1.4772, device='cuda:0', grad_fn=<NllLossBackward0>)\n",
            "tensor(1.5164, device='cuda:0', grad_fn=<NllLossBackward0>)\n",
            "tensor(1.4232, device='cuda:0', grad_fn=<NllLossBackward0>)\n",
            "tensor(1.4659, device='cuda:0', grad_fn=<NllLossBackward0>)\n",
            "tensor(1.5297, device='cuda:0', grad_fn=<NllLossBackward0>)\n"
          ]
        }
      ]
    },
    {
      "cell_type": "markdown",
      "metadata": {
        "id": "swruGhCBUMWx"
      },
      "source": [
        "### Make a prediction\n",
        "\n",
        "Now that our model is trained, we can make a new prediction by inputting an unseen image of the test dataset.\n",
        "\n",
        "Run this cell several times, does the model predict accurately?\n",
        "\n",
        "Set the number of epochs to 10 and try again!"
      ]
    },
    {
      "cell_type": "markdown",
      "metadata": {
        "id": "xkR1ckMB7MJd"
      },
      "source": [
        "**TODO your answer here**"
      ]
    },
    {
      "cell_type": "code",
      "metadata": {
        "id": "uzgzX4IfCoqJ",
        "colab": {
          "base_uri": "https://localhost:8080/"
        },
        "outputId": "03c1bfcc-a389-4070-be90-7c5e532ec43c"
      },
      "source": [
        "# TODO get a random element of the test dataloader\n",
        "index = random.randint(0,255)\n",
        "image,label = test_dataloader.dataset[index]\n",
        "# TODO set model in eval mode\n",
        "model.eval()\n",
        "# no automatic gradient update needed in evaluation\n",
        "with torch.no_grad():\n",
        "    # TODO make a prediction\n",
        "    y_pred = model(image.cuda())\n",
        "\n",
        "# print predicted label and given label\n",
        "print(\"predicted label: \", y_pred.argmax())\n",
        "print(\"given label: \", label)"
      ],
      "execution_count": null,
      "outputs": [
        {
          "output_type": "stream",
          "name": "stdout",
          "text": [
            "predicted label:  tensor(0, device='cuda:0')\n",
            "given label:  0\n"
          ]
        }
      ]
    },
    {
      "cell_type": "code",
      "metadata": {
        "colab": {
          "base_uri": "https://localhost:8080/"
        },
        "id": "wxUi9eZ25xVV",
        "outputId": "2ae08a51-959e-41dc-a5f8-efb8ff899319"
      },
      "source": [
        "test_epochs = 10\n",
        "\n",
        "for i in range(test_epochs):\n",
        "  index = random.randint(0,255)\n",
        "  image,label = test_dataloader.dataset[index]\n",
        "  model.eval()\n",
        "  with torch.no_grad():\n",
        "      y_pred = model(image.cuda())\n",
        "  print(\"[{}] predicted label: {}\".format(i+1, y_pred.argmax()))\n",
        "  print(\"given label: \", label)\n",
        "  print(\"=\"*40)"
      ],
      "execution_count": null,
      "outputs": [
        {
          "output_type": "stream",
          "name": "stdout",
          "text": [
            "[1] predicted label: 9\n",
            "given label:  7\n",
            "========================================\n",
            "[2] predicted label: 6\n",
            "given label:  6\n",
            "========================================\n",
            "[3] predicted label: 9\n",
            "given label:  9\n",
            "========================================\n",
            "[4] predicted label: 1\n",
            "given label:  3\n",
            "========================================\n",
            "[5] predicted label: 1\n",
            "given label:  3\n",
            "========================================\n",
            "[6] predicted label: 3\n",
            "given label:  3\n",
            "========================================\n",
            "[7] predicted label: 9\n",
            "given label:  4\n",
            "========================================\n",
            "[8] predicted label: 7\n",
            "given label:  7\n",
            "========================================\n",
            "[9] predicted label: 9\n",
            "given label:  4\n",
            "========================================\n",
            "[10] predicted label: 9\n",
            "given label:  4\n",
            "========================================\n"
          ]
        }
      ]
    },
    {
      "cell_type": "markdown",
      "metadata": {
        "id": "n2sGY16whRfa"
      },
      "source": [
        "### Track and plot the training and validation error and accuracy"
      ]
    },
    {
      "cell_type": "markdown",
      "metadata": {
        "id": "K9u7r2IoJ-UQ"
      },
      "source": [
        "What we have seen so far is the basic principle of training a model and making a prediction. But one might be interested to see more about the training process, for instance how the training error evolves with time and how the accuracy (hopefully) increases while training the model longer.\n",
        "\n",
        "For this step, we are going to **refine the training process** and **add some important information saving for plotting**."
      ]
    },
    {
      "cell_type": "markdown",
      "metadata": {
        "id": "dQ5Pi2VZ46iX"
      },
      "source": [
        "Create a plot using **seaborn** that contains both the losses on training set and the losses on the validation set for each epoch.\n",
        "\n",
        "Create a second plot that contains both the accuracies on training set and the accuracies on the validation set for each epoch.\n",
        "\n",
        "The plots should look similar to this:\n",
        "\n",
        "![image.png](data:image/png;base64,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) ![image.png](data:image/png;base64,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)\n",
        "\n",
        "**Note:** Do not forget to add title, axis labels and a legend!\n",
        "This applies in general, please keep in mind for future exercise sheets."
      ]
    },
    {
      "cell_type": "code",
      "metadata": {
        "id": "4BYkT-UUZ7C7"
      },
      "source": [
        "# TODO write a function that calculates the accuracy\n",
        "def accuracy(correct, total): \n",
        "    \"\"\"\n",
        "    function to calculate the accuracy given the\n",
        "        correct: number of correctly classified samples\n",
        "        total: total number of samples\n",
        "    returns the ratio\n",
        "    \"\"\"\n",
        "    \n",
        "    return correct/total"
      ],
      "execution_count": null,
      "outputs": []
    },
    {
      "cell_type": "code",
      "metadata": {
        "id": "FmVlH408Tfkn"
      },
      "source": [
        "# TODO refine the training function from above\n",
        "# it should contain:\n",
        "# - saving of losses\n",
        "# - calculation of accuracy\n",
        "# - returning the mean loss and accuracy\n",
        "def testNN(test_epochs, dataloader, model):\n",
        "  correct = 0\n",
        "  incorrect = 0\n",
        "  for i in range(test_epochs):\n",
        "    index = random.randint(0,255)\n",
        "    image,label = dataloader.dataset[index]\n",
        "    model.eval()\n",
        "    with torch.no_grad():\n",
        "        y_pred = model(image.cuda())\n",
        "\n",
        "    if y_pred.argmax()==label: correct+=1 \n",
        "    else: incorrect+=1\n",
        "\n",
        "  return correct, incorrect\n",
        "\n",
        "def trainNN(sample_epochs):\n",
        " \n",
        "  epochs = sample_epochs\n",
        "  input_dim = 28 * 28\n",
        "  output_dim = 10\n",
        "  lr = 0.001\n",
        "  model = LogisticRegression(input_dim, output_dim)\n",
        "  model.to(device = 'cuda')\n",
        "  model.train()\n",
        "  loss_function = torch.nn.CrossEntropyLoss()\n",
        "  optimizer = torch.optim.SGD(model.parameters(), lr=lr)\n",
        "\n",
        "  errors = []\n",
        "  accuracies = []\n",
        "\n",
        "  for epoch in range(epochs):\n",
        "    print(\"epoch : {}\".format(epoch))\n",
        "    for i, (images, labels) in enumerate(train_dataloader):\n",
        "        optimizer.zero_grad()\n",
        "        y_pred = model(images)\n",
        "        loss = loss_function(y_pred.cuda(), labels.cuda())\n",
        "        model.zero_grad()\n",
        "        loss.backward()\n",
        "        optimizer.step()\n",
        "\n",
        "    iterations = [20,50,100,150]\n",
        "    mean_loss = 0\n",
        "    accuracy = 0\n",
        "    \n",
        "    for iteration in iterations:\n",
        "      c,i = testNN(iteration, test_dataloader, model)\n",
        "      mean_loss+=(i/(i+c))\n",
        "      accuracy+=(c/(i+c))\n",
        "\n",
        "    errors.append(mean_loss/len(iterations))\n",
        "    accuracies.append(accuracy/len(iterations))\n",
        "\n",
        "  return errors, accuracies\n"
      ],
      "execution_count": null,
      "outputs": []
    },
    {
      "cell_type": "code",
      "metadata": {
        "colab": {
          "base_uri": "https://localhost:8080/"
        },
        "id": "tvYa0HNv4dfs",
        "outputId": "9b43b0eb-71dc-4066-a513-3c7b8275eb90"
      },
      "source": [
        "train_error, train_accuracy = trainNN(10)"
      ],
      "execution_count": null,
      "outputs": [
        {
          "output_type": "stream",
          "name": "stdout",
          "text": [
            "epoch : 0\n",
            "epoch : 1\n",
            "epoch : 2\n",
            "epoch : 3\n",
            "epoch : 4\n",
            "epoch : 5\n",
            "epoch : 6\n",
            "epoch : 7\n",
            "epoch : 8\n",
            "epoch : 9\n"
          ]
        }
      ]
    },
    {
      "cell_type": "code",
      "metadata": {
        "colab": {
          "base_uri": "https://localhost:8080/"
        },
        "id": "ovui-nEy5un0",
        "outputId": "d5835b66-1e01-408c-9501-e98d3c26912e"
      },
      "source": [
        "print(train_error, train_accuracy )"
      ],
      "execution_count": null,
      "outputs": [
        {
          "output_type": "stream",
          "name": "stdout",
          "text": [
            "[0.25166666666666665, 0.19166666666666668, 0.13083333333333333, 0.1366666666666667, 0.10250000000000001, 0.1125, 0.105, 0.11416666666666667, 0.1075, 0.07583333333333334] [0.7483333333333334, 0.8083333333333333, 0.8691666666666666, 0.8633333333333333, 0.8975, 0.8875, 0.895, 0.8858333333333333, 0.8925, 0.9241666666666667]\n"
          ]
        }
      ]
    },
    {
      "cell_type": "code",
      "metadata": {
        "id": "kJ1X0VTHZ-lS"
      },
      "source": [
        "# TODO write a validation function that calculates the loss and accuracy on the validation set\n",
        "# you can also combine it with the training function\n",
        "\n",
        "def validateNN(sample_epochs):\n",
        " \n",
        "  epochs = sample_epochs\n",
        "  input_dim = 28 * 28\n",
        "  output_dim = 10\n",
        "  lr = 0.001\n",
        "  model = LogisticRegression(input_dim, output_dim)\n",
        "  model.to(device = 'cuda')\n",
        "  model.train()\n",
        "  loss_function = torch.nn.CrossEntropyLoss()\n",
        "  optimizer = torch.optim.SGD(model.parameters(), lr=lr)\n",
        "\n",
        "  errors = []\n",
        "  accuracies = []\n",
        "\n",
        "  for epoch in range(epochs):\n",
        "    print(\"epoch : {}\".format(epoch))\n",
        "    for i, (images, labels) in enumerate(train_dataloader):\n",
        "        optimizer.zero_grad()\n",
        "        y_pred = model(images)\n",
        "        loss = loss_function(y_pred.cuda(), labels.cuda())\n",
        "        model.zero_grad()\n",
        "        loss.backward()\n",
        "        optimizer.step()\n",
        "\n",
        "    iterations = [20,50,100,150]\n",
        "    mean_loss = 0\n",
        "    accuracy = 0\n",
        "    \n",
        "    for iteration in iterations:\n",
        "      c,i = testNN(iteration, val_dataloader, model)\n",
        "      mean_loss+=(i/(i+c))\n",
        "      accuracy+=(c/(i+c))\n",
        "\n",
        "    errors.append(mean_loss/len(iterations))\n",
        "    accuracies.append(accuracy/len(iterations))\n",
        "\n",
        "  return errors, accuracies"
      ],
      "execution_count": null,
      "outputs": []
    },
    {
      "cell_type": "code",
      "metadata": {
        "colab": {
          "base_uri": "https://localhost:8080/"
        },
        "id": "zSSvPVeA8PK1",
        "outputId": "85abdb9f-4737-4f03-bcb4-8a46a818b9ea"
      },
      "source": [
        "# TODO call the run_training function and run it for 10 epochs.\n",
        "val_error, val_accuracy = validateNN(10)"
      ],
      "execution_count": null,
      "outputs": [
        {
          "output_type": "stream",
          "name": "stdout",
          "text": [
            "epoch : 0\n",
            "epoch : 1\n",
            "epoch : 2\n",
            "epoch : 3\n",
            "epoch : 4\n",
            "epoch : 5\n",
            "epoch : 6\n",
            "epoch : 7\n",
            "epoch : 8\n",
            "epoch : 9\n"
          ]
        }
      ]
    },
    {
      "cell_type": "code",
      "metadata": {
        "colab": {
          "base_uri": "https://localhost:8080/"
        },
        "id": "gzlQ-3ti8fpE",
        "outputId": "3e99e3c6-32c2-4945-fbfb-3581aea6afbc"
      },
      "source": [
        "print(val_error, val_accuracy )"
      ],
      "execution_count": null,
      "outputs": [
        {
          "output_type": "stream",
          "name": "stdout",
          "text": [
            "[0.42083333333333334, 0.305, 0.275, 0.21666666666666667, 0.22166666666666665, 0.14416666666666667, 0.11333333333333333, 0.16833333333333333, 0.09916666666666667, 0.11416666666666667] [0.5791666666666666, 0.6950000000000001, 0.7250000000000001, 0.7833333333333333, 0.7783333333333334, 0.8558333333333332, 0.8866666666666667, 0.8316666666666667, 0.9008333333333334, 0.8858333333333335]\n"
          ]
        }
      ]
    },
    {
      "cell_type": "code",
      "metadata": {
        "id": "dVh-o4vJVRLh"
      },
      "source": [
        "# TODO write a run_training function that \n",
        "# - calls the train and validate functions for each epoch\n",
        "# - saves the train_losses, val_losses, train_accs, val_accs as arrays for each epoch\n",
        "\n"
      ],
      "execution_count": null,
      "outputs": []
    },
    {
      "cell_type": "code",
      "metadata": {
        "id": "vmnXzMswyysS"
      },
      "source": [
        "num_epochs = 10\n"
      ],
      "execution_count": null,
      "outputs": []
    },
    {
      "cell_type": "code",
      "metadata": {
        "id": "0Y9OzZd3fFeE"
      },
      "source": [
        "# TODO write a plot function\n"
      ],
      "execution_count": null,
      "outputs": []
    },
    {
      "cell_type": "code",
      "metadata": {
        "id": "oElpprFbdh6r",
        "colab": {
          "base_uri": "https://localhost:8080/",
          "height": 313
        },
        "outputId": "0f57fecb-f454-420e-a23f-113de8a3769b"
      },
      "source": [
        "# TODO plot losses\n",
        "x_axis = [i for i in range(1,11)]\n",
        "plt.plot(x_axis, val_error, 'y', x_axis, train_error, 'b')\n",
        "plt.xlabel(\"Epochs\")\n",
        "plt.ylabel(\"Loss\")\n",
        "plt.title(\"Epochs v/s Loss\")\n",
        "plt.legend(['Validation', 'Train'])"
      ],
      "execution_count": null,
      "outputs": [
        {
          "output_type": "execute_result",
          "data": {
            "text/plain": [
              "<matplotlib.legend.Legend at 0x7fd9bdc70cd0>"
            ]
          },
          "metadata": {},
          "execution_count": 57
        },
        {
          "output_type": "display_data",
          "data": {
            "image/png": "[encoded data removed]",
            "text/plain": [
              "<Figure size 432x288 with 1 Axes>"
            ]
          },
          "metadata": {
            "needs_background": "light"
          }
        }
      ]
    },
    {
      "cell_type": "code",
      "metadata": {
        "id": "Lakhvy0qrSsi",
        "colab": {
          "base_uri": "https://localhost:8080/",
          "height": 313
        },
        "outputId": "e70c1f4c-6559-43c9-b00f-6a2074388fa6"
      },
      "source": [
        "# TODO plot accuracies\n",
        "# TODO plot losses\n",
        "x_axis = [i for i in range(1,11)]\n",
        "plt.plot(x_axis, val_accuracy, 'y', x_axis, train_accuracy, 'b')\n",
        "plt.xlabel(\"Epochs\")\n",
        "plt.ylabel(\"Accuracy\")\n",
        "plt.title(\"Epochs v/s Accuracy\")\n",
        "plt.legend(['Validation', 'Train'])"
      ],
      "execution_count": null,
      "outputs": [
        {
          "output_type": "execute_result",
          "data": {
            "text/plain": [
              "<matplotlib.legend.Legend at 0x7fd9bdc79a10>"
            ]
          },
          "metadata": {},
          "execution_count": 58
        },
        {
          "output_type": "display_data",
          "data": {
            "image/png": "[encoded data removed]",
            "text/plain": [
              "<Figure size 432x288 with 1 Axes>"
            ]
          },
          "metadata": {
            "needs_background": "light"
          }
        }
      ]
    },
    {
      "cell_type": "markdown",
      "metadata": {
        "id": "Vrq7fAe7_xX0"
      },
      "source": [
        "### Plot the confusion matrix\n",
        "\n",
        "Additionally to the losses and accuracies we want to plot the confusion matrix at the end of the training procedure, to get an overview about which digits were easily predicted, and which digits were often confused for other, similar looking digits.\n",
        "\n",
        "1.   Write a function that calculates the confusion values on the validation set.\n",
        "2.   Normalize the confusion matrix and plot it using seaborn similar to the following format.\n",
        "\n",
        "![image.png](data:image/png;base64,iVBORw0KGgoAAAANSUhEUgAAAoYAAAI4CAYAAAD3Sih8AAAABHNCSVQICAgIfAhkiAAAIABJREFUeF7snQd8FEX7xx9CVVpCU5KgFAWSACEJoXcV6UV6C018QTr6/kXpiEhVQLG9Ih3pEELoIiAWSkBACAhIgCSogAKiFEnyf565XLjLXUIS7m73Nr/hM1xudnZmnu/z7OzcszOzRAggAAIgAAIgAAIgAAIgAAIgAAIgAAIgAAIgAAIgAAIgAAIgAAIgAAIgAAIgAAIgAAIgAAIgAAIgAAIgAAIgAAIgAAIgAAIgAAIgAAIgAAIgAAIgAAIgAAIgkB6BHOkddPWxokWLJj31dGlXV4v6QMAwBP5NSDSMLCJI7pwehpJHVx2uA8gmJCU5oBR9FZGDjKWlk/E39AX4EVpz/8bvlHjnpi4U5FHwqaSk+7cfQZqMnZp0+8o2ztk0Y7kdkyuXY4pxTCkyKNz73QHHFIZSHE7AI4curkeHymW029rl63ccykfrwny88mndBIfWn8Ng19CtO/cdykcPheXOaax+LniMjCuMEWKXDaN7d27qQhgZFOat0Mnpbbnz47xiTq8kVQXG+jnuanqoDwRAAARAAARAAAQMREBXHkMDcYUoIAACIAACIAAChiXAnuUcxvStGVMqwxoiBAMBEAABEAABEAAB5xGAx9B5bFEyCIAACIAACICAEQnIVFSDzRk2qwkeQyMaLGQCARAAARAAARAAgSwQgMcwC9BwCgiAAAiAAAiAQDYngDmG2dwAID4IgAAIgAAIgAAIGJwAPIYGVzDEAwEQAAEQAAEQcAIBzDF0AlQUCQIgAAIgAAIgAAIgoBsC8BjqRhVoCAiAAAiAAAiAgHsQwD6G7qEntBIEQAAEQAAEQAAEQCDLBOAxzDI6nAgCIAACIAACIJBtCWCOYbZVPQQHARAAARAAARAAgWxBAB7DbKFmCAkCIAACIAACIOAwAurNJ8Z8R4gxpXKY5lEQCIAACIAACIAACGQfAvAYZh9dQ1IQAAEQAAEQAAGHEJBVyeI2NF6Ax9B4OoVEIAACIAACIAACIJAlAvAYZgkbTgIBEAABEAABEMjWBDDHMFurH8KDAAiAAAiAAAiAgOEJwGNoeBVDQBAAARAAARAAAYcTwBxDhyN1eIE7tm+loMp+FOhfnmbNmGZT/t27d6lXjy7qeKN6tehCTIzKs2vnDqpXK5RqhASqzz1f77I5V4sEo8kjDLdv20pVK1Wkyn7P0swZU22wio7CundRxxvUrZmio2vXrlGzJo2pRJGCNHLYYJvztErYwfIEsTxVuL2z0pFHjje0I88TOpNn767t1KR2ID1XoxJ9OnemDdYD3++jNs/XooreBWlLxPqU43GXLqr0Vo1rULP6IbR80f9sztUiQewtMKAiVRJ7m27f3np266KO16/zwN6krTOmvavS5fwd27dp0XybOkWeKgEVKKDiMzQjDXl6dOusjterXSPl+jHLI+lyvl7kkXZ9tWMb1QwKoNDAijRn1nQbmaVPeLlXN3X8xUa16eKFmJQ8J346Rs0a16W6oYFUv0ZVunPnjs35rk7YyfehaoH+3C9UoPdn2r8P9enZVR1/rj7fh5LliTp4gOrWCFGxTo1gigjf4Oqm262vfoVitOON+rTrzQb0n8ZlbfKMbu1HESPrqrhzVAM6MvmFlDwL+oeq7//rV83mPCTol4CzF58MY9F/4niC43BnYkhISKDXhg2hdeGRdPDHn2jNqhV0KvqkVZWLF35Bnp5edPTkzzRoyDAaN2aUOl60WDFatTac9kcdpU8/X0D9+/VyZlMzVLbR5BGhRSYZ1K3fuJmijp6g1StXUHQqHS1aMJ915EnHo8/Q4KHDaexok47y5ctHY8dPoilTZ2SInysymeVZx/Iceog8x1ieQXbkeUdn8kwYNYI+X76BtnxzmDatX01nTkdbofT2KUXT5nxGrV7qbJVe/IknaVXkborYtZ/WbNlDn30wi377Nd4VakizDtHPCLa3DRGb6bBZPyet+4SFYm9envQT62cI62fMWyZ7i+Z8a1atpCjuS8I3baHhQwcp+9UySP3SjvCILXTk2ElaveJLknZahoVfzCcv7uNOnDpLQ4aNoNFvvaEOSz653oTDxk1badiQVzWXR9olMo16bSitWBdB3x48RuvXrKDTp6xlWrZY+m1POnj0FA0YNIwmjXtLyXT//n169eVeNGPOPNp38Cht2PwV5c6dWx3TKog8r48YSms2bKL9h4/TmtUrbe5DS5LvQ0d+Ok2vDhlOE8a8qZrrF1CJdn+7n/btj6K1GyJpxNCBSkYtgwcvup3wUgD1/d9BenH6XmoV5E3PPFHAqknvbIymVu/tU3HxvhjadvzXlOP/2/0Lvbb8qJYiOLHu5HclyzxDZ0YnSpBW0c4cGFbiSvtzrM4xkGNLjs+k1ZBHTT/Ev7bKlitHZcqWpTx58lD7jp1pU8RGq2IjI8KpW48wldb2pQ60mz2DSUlJFFg1iEp6e6t0P/8AunP7NsmvVC2D0eQRliaZnknRUYdOoqNwK8yis+49TQPzdkpHXykd5c+fn2rXqUt5eYCol2BPHrExyxD5EHlkwKuXcOzwIXq6TDl6qnQZdQ21aNuBvtq6yap5vk89TRUDKnM/aN11SP68efOqvPf42klMTNRcLNFPuXLp25vop4fZ3to/sDexS7FPkal0mTKqHClPy3DwgLU8HTt3sXP9hKdcPy+JPLtM14/II/kt5ZHytA6HDx2g0mXLMWNTv922fWfasinCqllbIiOoc7eeKq1V2/b0zW5Tv/31VzvIv1JlqlRZbi9ERYoWpZw5c2oqUhTLI/chszztO3SizZus70ObIzdS1x4medq0a097kuV5/PHHKVcu0+yuO3fv8E4o2m+FEviUJ1249g9d+uM2/ZuQRJuOXKbnA55Ik7EMHCM4jzl8d+Ya/X1X28Ftmo3FgTQJOHNg6Me17uf4D0exjD0cX0qzJY944HJ8HPn4lkopxcfHhyTNMsTHx5Nvch65AAsXKkzyiNIyhK9fywPF4JSb3CM2K8unG00eARHP+vAt5ZvCxMfHly7HpdYR57HQUSE7OsoyVAefaE+e+IfIY8/mHNysLBf3K3v4Snr7pJz/JP+dGa/f5bhYatmwOtUPLk+vDB5JTzxp+rGV5QY94omiCx9fa3sTnVkGUx5TvyF9QqHCpj5B6daiP/Hm/iS1bh+xeZk+PXWb5PqJs2dvpWzlkXyW8si5qVlkukEOOOHy5XiStpiDcL582VpHv3K/be7bzTr6g/vtc2d/VoOnjm2bU+O6ofTB+7ZTHxzQxEwVcVnayl71B/JwH8dplsEyj5KH+ziRR8KhA/upZkgVqhNald6b81HKQDFTjXBg5icK56PL1x88nv/1xm16orDpB2Dqary98pFvkcfo+zNXUx8y5nf15pPkvQyd+akBPWcODOURcj2ORTk+zrE5xwdXzANhX+E/D0m8euXKg1QN/oo+eYLGjX6T5nz4sQa1O75Ko8njeEIo0ZEESvINftPuA7Tzh+O0fuUyuvr7b44sHmWBgBWBhPsJtP/77+iTzxfTpu17aHPEBtrL3jd3DtWq16Afoo7Rrm9+4PmJU3UxZzKjPFtW9aatx36lxKSMnoF8eiXgzIGhTE6SmbfbOW7l+CPHBDsgPuM0mZlarVjx4nYOZyxJPB1xsZdSMssvZEvvhxzw5sfFscl5ZO7GjZs3qCg/fpAQFxtLXTu1p0/nL1SPArQORpPHxN+HYi/FpqCNYw9TSfYQWAZv1qOljm5a6EhrnaSuX7U1lTzi8UhPHkubS12e1t+fZA+fpZf9V/aaZcXrJ+c8W9GfDu7/TlORRBdyXZuD2JvozEo/Ko+p35A+4eYNU59gaYeSX7yFqXXrauFSt0nkkScjVvIom7SVR/KZryvJb4+Fq+WR+kqW9FZtMQfhXLKktUxPcr+dWkfy2Fj0UbN2XTVHXB7DPv9iMzr24xEtxEipU6YkxcU9uA/FSx+XPE3JnMkyj7I57uNEHstQoaIf5S9QgKJPiH9Fu/DbjTtU0vPBdJcnCz9Gv92wP82qZVBJfoys7bxil5Ny5txCc9kuF4rImQNDEWc+xxCO9Tn+yfFnZ8kYUi2UHy2cpZjz5+nevXu0lif9tmjZyqq65i1b0/Kli1XahnVrqEHDRupRxPXr16lDu1Y0cfIUqlW7jrOamKlyjSaPCG+S6UyKjmRyfwvWiWUQnS1bskglrVc6aqyLuTb2lGdPHrExy9DcjeSpHBRCMb+cpUu8SlKuocgNa+i5F1vYE90m7XJ8rJqbK+HG9T8p6sD3/APrWZt8rkwQ/Zw9m769iX6Wmu1t7QN7E7sU+5S5xtKnSDnVQmW6tHahWqi1PLKYxPb6aZ1y/awTeRqZrh/JJ/kt5Qmtrq08QjIoJJTOnzvLq6dN/faGtSupaQuZjv4gNG3eklYuX6ISIjaspboNTP12o+ea8KKan+iff/5RizS+27eXyvOASssQzPKo+1CyPGvXrKJmLazvQ82at6Ivl5rkkalL9ZPlkXNEDgkXL17ghV+n6amnS2spDh27dINKF8uvHhHnzpmDZPD31QnbJwFlS+Snwo/lpsMx1zVtLyp3DAFn72NYgpv5O8enOMr8wpqOabZtKTJXY+bsudS2VTNK5JVhPXv1UQtJJk8cz51PiOpAw3r3pf59w9R2NV5FitCCxctVQZ99PI9+4c5p2pTJKkoI55V7xUtI87UJRpNHKIpMs2Z/QG1aNlWrEcN69yF/1tHbE8dRcHA1atGqNfXq049e7hOmtqsRHS1a8mWKAvzKl6G/bt5Ug5YInky/MXIb+fn5a6MgC3naJsvTMx15ZLsakWehhTz+FvLI4oBwHcgz/t33qG+X1ko/HbqGKc/f7GmTqHJgMD3XtCUdO3KIXu3ThW7yj6mvt2+muTMm05a9UXTuzGmaOv5NNYiXxUL9Bg6jCv6y/ky7IPb2Httb6xZsb4lsb9wn+AcE0KQJbG8h1agl21tvtrd+vcPUtjReXkVo8VKTvUm+lzp0pODAAMqVMxe9P+dDzRc2iDzSjlYtXlT66cX9mY08fftR39491XY1Is+SZSuUAiRf+46dKKiKv7oOZ8+dp7k80i5py7sz51Cnti14wVICde3Zmyr6BdDUyROoKv9QacqDqu5hfenV/r3VdjVeXl702YJlSiZP/nvg4OHUpEEtZXfPN2lKTZrKjCXtgsgz47051L51c6WjHmG91X3onUl8H+I+Tn6I9GS9/Yd3vpDtakSeL5LvQz989y3N5u16cuXKTR68uGvm7A+VN1TLkMDPhSeuO0ELX6lOskJ5zYFYOvPbLRr+4rN0PPYGDxLl9s4rS/kx8qYfHyw6Mbd5xaCaJIPG/Hlz0b6xjejNVcfpm9NGmYOYvCpZSwU5qW5nL3v6htstPvJ/OY7k+FV6cgQFhyTt/U77lXLptTE7H/PQwSo5R/M32nQYy4nijmalRXk+PKHdSEEPK00dyfPWHeOtOBXPmJFC8Bh97MHpCKaxy4bRvd/O6kJBOQp4J+UN/o8jxEq3jDt7x0dxBpduBOlsj6EsPkEAARAAARAAARAAAWMREDeqAYOz5xgaEBlEAgEQAAEQAAEQAAFjEsDA0Jh6hVQgAAIgAAIgAAIgkGkCzn6UnOkG4QQQAAEQAAEQAAEQ0DUBeYosW8oYMBhTKgMqCiKBAAiAAAiAAAiAgLMJwGPobMIoHwRAAARAAARAwHgEDLhThygJHkPjmSokAgEQAAEQAAEQAIEsEYDHMEvYcBIIgAAIgAAIgED2JWDcDa7hMcy+Vg3JQQAEQAAEQAAEQMCKADyGMAgQAAEQAAEQAAEQyCwBzDHMLDHkBwEQAAEQAAEQAAEQcCcC8Bi6k7bQVhAAARAAARAAAX0QwD6G+tADWgECIAACIAACIAACIOAcAvAYOocrSgUBEAABEAABEDAqAZlfiDmGRtUu5AIBEAABEAABEAABEBAC8BjCDkAABEAABEAABEAgswQwxzCzxJAfBEAABEAABEAABEDAnQjAY+hO2kJbQQAEQAAEQAAE9EEAcwz1oQe0AgRAAARAAARAAARAwDkE4DF0DleUCgIgAAIgAAIgYFgCeFeyYVULwUAABEAABEAABEAABEwEdOcx9DDQM/t79xMNZWd5cvEvJIOFxMQkQ0nk7ZnPUPIkGUs9lJBorD7hsTw5DWVvIkyx9p8YSqY/1g0wjDx1do+jI7/pSBwDjVcsqXroCDGaAgIgAAIgAAIgAAIgoCEB3XkMNWSBqkEABEAABEAABEDg4QTkARr2MXw4J+QAARAAARAAARAAARBwXwLwGLqv7tByEAABEAABEAABTQhgVbIm2FEpCIAACIAACIAACICA6wjAY+g61qgJBEAABEAABEDAKASwKtkomoQcIAACIAACIAACIAAC9gjAY2iPCtJAAARAAARAAARAID0CWJWcHh0cAwEQAAEQAAEQAAEQcHcC8Bi6uwbRfhAAARAAARAAAdcTwBxD1zNHjSAAAiAAAiAAAiAAAq4jAI+h61ijJhAAARAAARAAASMQEG8h5hgaQZOQAQRAAARAAARAAARAIC0C8BimRQbpIAACIAACIAACIJAWAcwxTIsM0kEABEAABEAABEAABIxAAB5DI2gRMoAACIAACIAACLiUQA54DF3KG5WBAAiAAAiAAAiAAAi4mAA8hi4GjupAAARAAARAAATcmwCvSSZ4DN1bh2g9CIAACIAACIAACIDAQwjAY/gQQDgMAiAAAiAAAiAAAlYElMvQmEw8jCkWpAIBEAABEAABEAABEMgsAUMNDLdv20pVK1Wkyn7P0swZU21Y3L17l8K6d1HHG9StSRdiYlSea9euUbMmjalEkYI0cthgm/O0Sti5fSuFVvWn4MoV6P2Z02yaIfL0Deuqjj/foBZdvGCSx5zx0qWL5FuiMH0we5bNuVolGE1HO1hHwVX8KDCgPL03w76Oevfooo43qleLLiTr6NDBA1SnRrCKtasHUUT4eq1UYlWv0fRjNHnE3oIqs735l6dZadhbL7E3Pq7sLbmP27VzB9WrFUo1QgLV556vd+nC3qQRO7jfDuJ+uwr3y7PS6bfleEM7/fYTOuu3XwguRUc/7ko/fdqNXu8QZMO5VPECtPWd1vT97A50YG4nejHkKZXnqRIF6Y81/emHOR1VnPtqfZtztUiQaygwoCJVkvvqdPv31Z7duqjj9etY31ebvtCYinsVpBE6uq86jmEONcfQ2dFx7c14Sc4eGI7gppzg+BPHLznmy3jTMpczISFBDerWb9xMUUdP0OqVKyg6+qRVIYsWzCdPT086Hn2GBg8dTmNHj1LH8+XLR2PHT6IpU2dkrlIn5hZ5/jtyKK1ev4l+iDpOa1evpFOp5Fmy6Asq7OlFh4+fpoGDh9OEsW9atWjMqNfp+SZNndjKzBVtRB29NnwIrQ2PpINHfqI1q1fY6Gjxwi/I08uLjp74mQYNGUbjk23OP6AS7fn2AH27/zCtC99Mw4YMpPv372cOqINzG1E/RusTXhs2hO2F7e1HtrdVadgb9wlHT5rsbdwYUx9XtFgxWrU2nPZHHaVPP19A/fv1crD1ZK04s82t43770EP67WPcbw+y02+/o6N+28MjB80eUI/aTNhEQYNWUMf6z1DFUl5WcN7oFEJr952jWsPXUNiMHTRnYL2U47/8epNqDlut4tCP9mYNqgPPEv3IoG5DxGY6bNbPSev76kK5r3p50k+snyGsnzFvPbivjpvA99Vp+rmvOhCNoYty5sDQh8kN5ViNYyWOOTl2cRZN8cCULfcMlSlblvLkyUMdOnWmTRHhVtVtithI3XuaOsR2L3Wg3V9/RUlJSZQ/f36qXacu5eUBol5C1CGWp2w5Kl3GJM9LHTrR5k0brZq3hb937d5TpbVp15727N6l5JEQybI/9XRpqujnrxeRyGg6MslTjsok66h9x84UmUpHkZvCWUdhSgdtxeaSdfT4449TrlymKb537t7Rxeo2Y+rHOH1Cir0l93Fib9KnWQa57rv1sLA39gxKnxBYNYhKenurrH7+AXTn9m2SJw5aB3s2JzJYy5R+vy0/7PUSQp8tQecu36CY3/6if+8n0uq9Z6lljdJWzUuiJCr0eG6VVvjxPHT5j3/00nybdoh+yj3kvhrJNtjDfF9tb3tf1ZN+bAR8xARnewu1WvXszIGhIJc732PJn4/zZ/wj6iHN0+Pj48i3lG/KcR8fX7ocF2eVX+XxLaXS5KZcqFBh9RhZj+FyfDz5JLdV2uct8ly2xhdvkccszx8sz61bt2jOe9PpjbfG6Uo04+nogT2ZdORD8alsTvSY2uZERxIOHthP1YMrU61qgTR77kcpA0WtlGY0/RhNnsvcf1n2CT4+PiRplkH6BEt7K2ynjwtfv5YHisGUN29erUwtpV57Okp9DaXut+3JpLkgyQ3wLpqfYq/+ndKcuGt/kw+nWYZ3lh+iLg3L09kFPWn9hBY08tNvUg6XfqKgesS8/d02VMe/pOZiiS58fK3vq6IPy2DKY3FfLazf+6rmQN2kAc5clSzWM5PjRY63OW5Pjm6Cxn2bOe2dierRcoECBdxXiGzQ8tDqNejA4eN0+lQ0/eflPvTCi83UtAYEEHAWgeiTJ2jc6Ddpw6atzqoC5T6EQCd+vLz0q9M0Z8NRqlHhCZo/8jkKGbySfv3jbyrfdwn98dddCirHj/5HN6Ngfhz91+1/H1IiDmtFQCuPnrPldabHUCZWtOFYhqM8w5CfTT3sCPQKpx2SePXqFTuHM5bk7e1DsZdiUzLHxcVSSf5FbRlUnthLKknmc928eYOKFi2asQpcnEse+8Qlt1Wqjhd5SpoeBZmb4m2RxyxPEZbnED+GHs9zi6r4laOP582l92ZOpc8+mediCWyrM56OHtiTSUdx7Nm1tjnRY2qbEx1ZhgoV/dQg/uQJmYqrXTCafowmT0nuvyz7hDj25kiaZZA+wdLeblj0cXGxsdS1U3v6dP5CnnZTTjtDs6jZno5SX0Op+21LmXQhhEUj4tlD6FvsgYdQvIXiNbQMvZr48RzDsypp/+nfKF+eXFSs0GN0jx89y6BQwpFzV+mXX2/Qsz6eVue6+ovoQuzGHOS+KvqwDKY8FvfVG/q9r7qan7vW58yB4fMM5TxHGe3JT551HGvbAfUZp8k8xGrFihW3czhjSSHVQunc2TMUc/483bt3jydmr6QWLVtbndyiZStatmSRSlu/bg01aNhYF3O77EkYHMLynDvLqwpN8qxbs4qatWhllbUpf/9y2RKVJo+H6jdopOTZsmMPHYs+p+LAQUNp5Ouj6JUBg+xV49I0o+lI5Pnl7FmKSdaRLBBqnkpHzVu0Zh0tVpw3iM0l60jOMS82uXjhAv18+hQ9zXNCtQxG1I+R+gSTftjekvs4sTfp0yxDc+7zli+1sLeGpj7h+vXr1KFdK5o4eQrVql1HSzOzqtuezYkM1jK5T7996Mzv9Iy3Jz3Nj4Rz5/JQi08iD8RYyXPpyi1qGGh6PFvB15Py5c5JV27c5sFhPpLFKxLkkfIz3oXpPC9G0TKIfs4+5L7anG1wqfm+ulbf91VHszTqHENnPkqWR8g1OcrcQnmU/BxH8Qw6Jcgcu1mzP6A2LZuSrKQK692H/HmS9dsTx1FwcDVq0ao19erTj17uE6a2q/EqUoQWLZGF0qbgV74M/XXzphpURvDk542R28hPw4UbIs/0WXOofZvmSp7uYb3VpPEpb4+nqiyPDEB69upLA17upbar8eKVr/MXLXcKW0cVakQdzXh/LrVr1UzpqGevPkpHkyeNZ5sLIbnBhfXuS6/0DVPb1Xh5FaEFS0w6+v67fbwF0XTKnTs33ww86L05H5KsHNUyGFE/RusTZs6eS23Z3hIt7W3ieAoKCVE/hMXe+ou98XY10sctWGyyt88+nke/8A/NaVMmqyghnB8nFy9RQkuTU/NqRUdtk/vtnun027Jdjci00KLf9rfot2WxYbjG/XZCYhKN+OQbipjYknLyIG/RzlMUffFPGts9lA6fuaIGiaPmf0cfDW5AQ9pU4YVBRP3nmLYOqlvJW+WTRSuJfGDIvL305y1tFwiJft5j/bRuwffVRL6vch/nHxBAkybwfTWkGrXk+2pvvq/26x2mtquRPm7x0gf31YrPWtxXN4ZThOjHXz8LIjU1fh1X7ux9uyey7J05yj4cRzi+zDFNSw8KDkna9/1BHePKXNPk0YCRQh7+BWy0IB25kYLcjBD0S0Bu+EYKRpxjVaz9J0ZSEf2xboBh5KlTM5SOHI7SRSfnUaR0UoEXJzmd7c0vw6K4Enmq6rLgTI+hCDE+ObpMIFQEAiAAAiAAAiAAAiCQNQLGcwFljQPOAgEQAAEQAAEQAIEMEeB3njj9rScZ9MjLWyxOc5QVTabdxa0leIq/fs1Rntoe49jc+rDtNwwMbZkgBQRAAARAAARAAAT0TkBeHCJbjjTjKJM3uyZ/WrZ7DH9ZxVHezygvGfnI8qC9vzEwtEcFaSAAAiAAAiAAAiCgbwLVuXniKfyF4z2OKzjKNoGWQSY2F0pOKMyfD33RiLPnGKZqH76CAAiAAAiAAAiAgPsTyOCj3kcVVLarsNzRRbb4kyhBNpU0bSJp+i6bTtZIPmb+mMB/yAtGhnCUTTZlK8F0AwaG6eLBQRAAARAAARAAARDQjMBVrvlRViXL4+WFHGdxrMVRNj+uxDHNbVMwMGQ6CCAAAiAAAiAAAiCQGQIu8him1yR59bDpRdWmXLJzuvXLrIn6cZosUJHwPUd576p4IX9PTrP5wBxDGyRIAAEQAAEQAAEQAAHdE5CNn5/lKK8ezsNRFpdsTNVqedmIvGBEgh9HGRim+/5heAyTaeEDBEAABEAABEAABDJKQAceQ3l5yGCO2zjKCuUvOJ7gKDtvy7xEGSS+xvF/HEdwlIUovZM/+cN+wMDQPhekggAIgABmWfxIAAAgAElEQVQIgAAIgIDeCWzmBkq0DOMsvpzkvzP1gnQMDPWucrQPBEAABEAABEBAXwTkxXy6eDmf47FgjqHjmaJEEAABEAABEAABEHBLAvAYuqXa0GgQAAEQAAEQAAEtCehgjqFTxIfH0ClYUSgIgAAIgAAIgAAIuB8BeAzdT2doMQiAAAiAAAiAgIYEcvAEQ3gMNVQAqgYBEAABEAABEAABEHA+AXgMnc8YNYAACIAACIAACBiMADyGBlMoxAEBEAABEAABEAABELAmAI8hLAIEQAAEQAAEQAAEMksA+xhmlhjygwAIgAAIgAAIgAAIuBMBeAzdSVtoKwiAAAiAAAiAgPYE2FuIOYbaqwEtAAEQAAEQAAEQAAEQcCIB3XkME5OSnCguin4UAkbUTe5cxtrj/X5C4qOoWHfn5sppLP14GOzlql6tZuvOZh61QVc2DH3UInR1/v0E3FOdpRB4DJ1FFuWCAAiAAAiAAAiAAAjogoDuPIa6oIJGgAAIgAAIgAAIgEA6BOAxTAcODoEACIAACIAACIAACLg/AXgM3V+HkAAEQAAEQAAEQMCFBPCuZBfCRlUgAAIgAAIgAAIgAALaEIDHUBvuqBUEQAAEQAAEQMCdCeDNJ+6sPbQdBEAABEAABEAABEDgYQTgMXwYIRwHARAAARAAARAAAUsCePMJ7AEEQAAEQAAEQAAEQMDoBOAxNLqGIR8IgAAIgAAIgIDDCWAfQ4cjRYEgAAIgAAIgAAIgAAJ6IgCPoZ60gbaAAAiAAAiAAAi4BQF4DN1CTWgkCIAACIAACIAACIBAVgnAY5hVcjgPBEAABEAABEAg+xLAPobZV/eQHARAAARAAARAAASyAwF4DLODliEjCIAACIAACICAQwlgjqFDcaIwEAABEAABEAABEAABvRGAx1BvGkF7QAAEQAAEQAAEdE1AvIXwGOpaRWgcCIAACIAACIAACIDAoxKAx/BRCeJ8EAABEAABEACBbEcAHsNsp3IIDAIgAAIgAAIgAALZi4CHkcTdsX0rBVX2o0D/8jRrxjQb0e7evUu9enRRxxvVq0UXYmJUnl07d1C9WqFUIyRQfe75epfNuVok7GR5Qqv6U3DlCvT+TPvy9A3rqo4/36AWXbxgksfc1kuXLpJvicL0wexZWjTfbp1G09H2bVupSkAFCqj4DM2YPtVGZrG5Ht06q+P1atdIsTnJOGPauypdzt+xfZvNuVokQD8xKdj1qB+j2ZvAfiHkaTr6vzD6aX5ver1jNRuzL1W8IG2d2p6+/7AbHfioO70YWlrl6dKoAv3wYfeU+HfkMKpStrjN+a5OMNo1JPIEV+H7akB5ei+N+2pvua/ycXVfTb4P7fpqB9WvHUo1qwWqzz279XFfdaQ9mOcZOvPTke3NaFnOHBhW4Eb8aBFv8t/DM9qwzOZLSEig14YNoXXhkXTwx59ozaoVdCr6pFUxixd+QZ6eXnT05M80aMgwGjdmlDpetFgxWrU2nPZHHaVPP19A/fv1ymz1Ds8v8vx35FBavX4T/RB1nNauXmkjz5JFX1Bhlufw8dM0cPBwmjD2Tat2jBn1Oj3fpKnD25bVAo2oo+FDB1F4xBY6cuwkrV7xJUWftLa5hV/MJy/W0YlTZ2nIsBE0+q03FD7Jt3rlCjp89ARt3LSVhg15lYSPlgH60b9+jGRvYuseHjlo9qBG1GbsBgr6z2Lq2LACVXyqiNVl8EbX6rT2mzNUa/ByCpu6heYMaqyOr/j6NNUcvEzFfjO3UsxvN+jYL1e0vITUNWy0+9Brw4fQWrmvHuH76uo07qtefF89Ybqvjh+dfF8tWoxWrgmnHw4dpU/+t4Be6av9fVVT43Cjyp05MDzNHKomxxD+/IfjemexOXTwAJUtV47KlC1LefLkofYdO9OmiI1W1UVGhFO3HmEqre1LHWg3ewaTkpIosGoQlfT2Vul+/gF05/ZtEk+PliHqEMtTthyVLmOS56UOnWjzJmt5tvD3rt17qma2adde/SITeSSIrE89XZoq+vlrKYZV3UbT0cEDB6hcuWdSbK5j5y5sc+FWMsv37j1NHeJL7dnmdn2ldCTpkj9v3rys4zKqHClPywD96Fs/RrM3sfXQ8k/SufgbFPPrTfr3fiKt3vMztaxZzuoykC6t0ON5VFrhx/PS5Wu3bC6TTg0qqHO1Dka7hlLkSb4PyX01MtV9KHJTON+HLO6ryfeh1PfV23e0v6863D7kzSfOjg5v9MMLdObA0LL25/jLOY4XHt6krOW4HB9HPr6lUk728fEhSbMM8fHx5JucJ1euXFS4UGG6du2aVZ7w9Wt5oBisbthahsvcVkt5vH186fLleBt5zHlEnkIszx8sz61bt2jOe9PpjbfGaSmCTd1G01E825fZnkRYH9ZRXFxqm+M8pUx2qXRU2GRzki/1uVKelgH60bd+jGZvYuvexfJT7JW/Usw+7upf5FM0v9Vl8M7S7/mxcUU6u6QfrZ/UhkZ+vNvmMunQoDyt2i2+CG2D0a4hkceyn/Lm+2p8qj5O7lWW91XzfchSE3JfraqD+6q21uE+tbtqVXIXRvJlGlhe4XSJdPWKto8Bok+eoHGj36QN/GjPncO0dyaqR8sFChRwZzHstt0oOrIrnAESoR8DKFFnInTix8tLd56kOesOU42KJWn+f1+kkAFL2PNuamhohSfpnzv36eQF6x/5OhMjw80x2jWk5Bnj/vdVewrEqmR7VDKWJs8AWnNcnUb2zzhdZhxXK1Y86xOHS3r7UFzspZQqxCMjaZbBmx8XxybnuX//Pt24eYOKFi2qssTFxlLXTu3p0/kL1SNprYM82raUJz4ulkqWND3uNrdN5DHnEXlusjxFWJ5D/Bh6PM+frOJXjj6eN5femzmVPvtkntYiKX0YSUfeLI/ZnpQNsY7EU20ZVJ5LJrtUOrphsjnJl/pcyatlgH70rR+j2ZvYevzVv8mXF5eYg0+xghR37W+ry6DXi5Vo7V7TY+L9py5Tvty5qFihx1LydBRv4R7tvYXSIKNdQyKPZT8l3kLxGloGuVdZ3lfN9yHJI/fVbp3b02ef832Vp0YhuAcBVzxKbsYoDnP8zZlIQqqF0rmzZynm/Hm6d++eWqzRomUrqyqbt2xNy5cuVmkb1q2hBg0bqZ3Lr1+/Th3ataKJk6dQrdp1nNnMDJcdHMLynDvLq1hN8qxbs4qatbCWpyl//3LZElWmuOrrNzDJs2XHHjoWfU7FgYOG0sjXR9ErAwZluG5nZTSajqqFhtLZs2dSbE4Wk7RgG7MM8n3ZkkUqad1atrlGjZXNSbrkl7msYrNSTmj16s5Cn6FyoR9968do9iZGeejnX+kZb096+olClDuXB8kgL/IHmXX0IFz6/S9qWPUplVChlBfly5OTrty4rb7zpUTt65Xn+YX6GBga7RoSeX6R+2ryfUjuq81T3Yeat2jN9yGL+2ryfUjuqx1f4vvq21Oopk7uqxZm9eh/su05czWyuexHb2jmS3DFo+Su3Ky0HiNnvsVpnCHzt2bOnkttWzWjRF4Z1rNXH7WQZPLE8RQUEqJuxGG9+1L/vmFquxqvIkVoweLlqrTPPp5Hv/AgbNqUySpKCOfHycVLlEijNucnizzTZ82h9m2aq5Vu3cN6K3mmvD2eqgZXUxdnz159acDLvdR2NV68Kmz+IpM8zm9d1mowoo7en/MhtWrxotJRL7Yv/4AAmjRhHAWHVKOWrVpT7779qG/vnmpbGi+vIrRk2QoFT/K179iJgqr4k3CZPXce5cyZM2tgHXQW9KN//RjJ3sRsExKTaMTHX1PE5HZs/zlo0fYTFH3xDxrbsyYd/vl3itz/C436fC99NPR5GtIuSD0+7v/e9hSLr1vJl2J5XqIsXtFDMOI1NOP9udSO76vSx6XcVyeNp+DgEBJni9xXX5H7Km9XI33cgiXJ91V+SqXuq+/yfZWjhA0R2t5X9WAj7tAGWU/jzCCziC9yLMvxxsMqCgoOSdr7nbYrMx/Wxswcv5+QPAkmMyfpOG8u7riNFnLldIXT3HXU7ickuq4yF9RkNP24AJlLq/BqNdul9bmisisbhrqiGpfVYZ6L6bIKnVhRgzrV6cjhKF3ciPI+8UySb4+5TpTWVPS5Wc2j+C/bDT6dWLOzPYYyWcQ0ic+JQqBoEAABEAABEAABEACBRyfg7IHho7cQJYAACIAACIAACICArgjkUHMMjRiM9RzNiBqCTCAAAiAAAiAAAiDgIgIYGLoINKoBARAAARAAARAAAb0TwKNkvWsI7QMBEAABEAABENAdAYM+SSZ4DHVnamgQCIAACIAACIAACGhDAB5DbbijVhAAARAAARAAATcmgMUnbqw8NB0EQAAEQAAEQAAEQODhBOAxfDgj5AABEAABEAABEACBBwTUK/GMCQRzDI2pV0gFAiAAAiAAAiAAApkmAI9hppHhBBAAARAAARAAgexMQJyFHh7GdBnCY5idLRuygwAIgAAIgAAIgIAFAXgMYQ4gAAIgAAIgAAIgkEkCmGOYSWDIDgIgAAIgAAIgAAIg4F4E4DF0L32htSAAAiAAAiAAAjoggH0MdaAENAEEQAAEQAAEQAAEQMB5BOAxdB5blAwCIAACIAACIGBEAtjH0IhahUwgAAIgAAIgAAIgAAKWBOAxhD2AAAiAAAiAAAiAQCYIyA6GmGOYCWDICgIgAAIgAAIgAAIg4H4E4DF0P52hxSAAAiAAAiAAApoSyGFYjyEGhk40rNy5jPViGWO+/MeJBqBB0R4G23E1KSlJA4rOq7JIvTecV7gGJf+5b7oGtTq3ysREY9mcR07j9NzGkcS5NvyopWNg+KgEcT4IgAAIgAAIgEC2I2Cw3+Ep+jOWSyvbmSUEBgEQAAEQAAEQAAHHEYDH0HEsURIIgAAIgAAIgEA2IYBVydlE0RATBEAABEAABEAABLIrAXgMs6vmITcIgAAIgAAIgEDWCODNJ1njhrNAAARAAARAAARAAATchwA8hu6jK7QUBEAABEAABEBABwTw5hMdKAFNAAEQAAEQAAEQAAEQcC4BeAydyxelgwAIgAAIgAAIGJAA9jE0oFIhEgiAAAiAAAiAAAiAwAMC8BjCGkAABEAABEAABEAgkwSwj2EmgSE7CIAACIAACIAACICAexGAx9C99IXWggAIgAAIgAAI6IAA5hjqQAloAgiAAAiAAAiAAAiAgPMIwGPoPLYoGQRAAARAAARAwIgE1JtPZDdD4wUP44kEiUAABEAABEAABEAABLJCAB7DrFDDOSAAAiAAAiAAAtmWgOnNJ8YUHx5DY+oVUoEACIAACIAACIBApgnAY5hpZDgBBEAABEAABEAgexPIgTmG2dsAID0IgAAIgAAIgAAIGJ8APIbG1zEkBAEQAAEQAAEQcDABgy5KJkPNMdyxfSsFVfajQP/yNGvGNBsTuHv3LvXq0UUdb1SvFl2IiVF5du3cQfVqhVKNkED1uefrXTbnapGwYxvLU6kiVfF7luWZatMEkSesexd1vGHdminyXLt2jZo1aUxPFClII4cNtjlPy4TtLFNVlqkyt3lmOjLJ8QZ2ZCqhM5lEnioBFSig4jM0Y7p9HfXo1lkdr1e7RoqORAczpr2r0uX8Hdu3aamWlLqNqJ/AgIpUSewtDf307NZFHa9fx/oaavpCYyruVZBG6OgaeqFmeTq68r/00+r/o9d7NrSxmaee9KTNH/SnA0tH0LaP/kM+xQurPJL+3aJh9MPi4RS1fCS93K6mzblaJeAailHozf02+jitLBH1mgk4e2DoyRWt4XiKYzTHWs5Cn5CQQK8NG0LrwiPp4I8/0ZpVK+hU9Emr6hYv/II8Pb3o6MmfadCQYTRuzCh1vGixYrRqbTjtjzpKn36+gPr36+WsZma4XJFHBnXrNm6mQ0dP0OqVKyg6lTyLFsxneTzpWPQZGjR0OI0dbZInX758NHb8JHpn6owM1+eKjGaZ1rNMUQ+R6TjLNNiOTFN0JJPIM3zoIAqP2EJHjp2k1Su+pOiT1ja38Iv55MU2d+LUWRoybASNfusNhVryiU4PM4eNm7bSsCGvkpSnZTCifmRQtyFis+KsrqHU+pFryMuTfmJ7G8L2NuatB9fQuAmTaMo0/VxDHh45aPbr7ajNiPkU1HUWdWxSlSqWLmFlMu8OaUnLthym6j3epynzd9KkV5uq45ev/kUNX/6QaobNpvr9PqTXwxpSyWKFtDQ3VTeuIdt+G32c5maZ4QbIPobOjhlujAMzOntgOIfbupVjRY6BHGVw6JRw6OABKluuHJUpW5by5MlD7Tt2pk0RG63qiowIp249wlRa25c60G72DCYlJVFg1SAq6e2t0v38A+jO7dsk3jgtg0meZ1Lk6dCpM0n7LUMky9e9p2kQ207J85WSJ3/+/FS7Tl2SAaKegj2ZNqWSSXSWnkx5dSTTwQMHqFy5Bzrq2LkL25y1juS7WZ6X2rOOdpl0JOmSP2/evFS6TBlVjpSnZTCafkQeS/3INZRaP3IN9TBfQ6IfHV9Dof6l6FzsVYqJ/4P+vZ9Aq3ccpZb1A6xMpmKZErTn0FmVtifqXMpxyX/vX9MPj7y5c5GHTp6B4RqytTn0cVr2gqhbCDhzYCjPMOpznJ+M+h5/XncW9svxceTjWyqleB8fH5I0yxAfH0++yXly5cpFhQsVVu57yxC+fi0PFIPVDVvLEM9t9y3layGPL8XHpZaH8zxEHi1lSF23PZkuP0SmQnZ0lLpcrb4reaxszpfi7MlTymSXYnOFCptsTvKlPlfK0zIYTj/M2Mc31TWUuk9QeWz1o6Ue0qrbmx8Lx/5+I+VwHP/tU9za63f8zGVq07CSyiOfhfLnoyKFHlfffUsUVo+Yz2x8i2Yt2c1exJtpVeWydFxD3Cegj3OZvTm0IvXmE+dHh7Y5g4U5c2BYhttwheMCjkc4fs4xv512vcJphyRevSLZtQvRJ0/QuNFv0pwPP9auEagZBEAABLJI4M0PIqlecFn6nucT1gsqS3G/X6eExERVmgwq5RFzpQ7TqUfzECpRpEAWa8FpIAACRibgzIGhrHgO5iijrCCOf3M0TeCxJvoZf60msVjx4tZHMvGtpLcPxcVeSjlDPDKSZhm8+XFxbHKe+/fv042bN6ho0aIqS1xsLHXt1J4+nb9QPZLWOnhz22MvxVrIE0ve7AW1lofzpCGP1u23V789mUo+RKabFjqyV6aWaUoeK5uLJfFU2+jokskuxeZu3jDZnORLfa6Up2UwnH6YsVzX5hAXx9dQ6j5B5bHVj5Z6SKvu+Cs3lNfPHHz477gr1l4/8QJ2GbWEavWaQ+M/kVk8RDdu3bEqUvKc+OU3qhMov921DbiGuE9AH6etEWaxdtObTzDHMLP4pEeWuD/5RFmEIgNFp4SQaqF07uxZijl/nu7du0drV6+kFi1bWdXVvGVrWr50sUrbsG4NNWjYSE0cvX79OnVo14omTp5CtWrXcUr7MluoSZ4zKfKsWbWSpP2WoTnLt2zJIpW0XsnTWNcbbtqTqUUqmURn7iJTtdBQOnv2gY5kcYOtPK1T5Fm3lnXUyKQjySf5ZS6r2KyUE1q9embNxKH5jaYfkcdSP3INpdaPXENLzdeQ6EfH19Ch6Fh6plQxerqkF+XOlZM6vhBIkd9YL3YqWvjxlD7gv70a0aIIeRhDanVyvrym3ck8Cz5GtQNL088XtX1CI+3CNaRvmzOafhzaYRq4MGfuY/grc5Of4hU4nub4HEfrXsyBYGX+1szZc6ltq2aUyKs7e/bqoxaSTJ44noJCQtQNIax3X+rfN0xtV+NVpAgtWLxcteCzj+fRL+fO0rQpk1WUEM4rRYuXsF7x58DmPrQokWfW7A+obcumauVez959yJ/leXviOAoOrkYtWrWmXn360ct9wtR2NSLPwiVfppTrX74M/XXzphoky4T78Mht5Ofn/9B6nZnBLFObZJnC0pFJtqsRmRZZyORnIVMEy7RRY5lEnvfnfEitWryodNSL7cs/IIAmTWAdhVSjlqyj3n37Ud/ePdW2NF5eRWjJshUKseRr37ETBVXxJyln9tx5lDNnTmfif2jZRtTPe3wNtW7B11BiAoVxn2CjH76G+vUOU9vViH4WL31wDVV89sE1FLExnCLE3vy1u4YSEhJpxExux5yXKaeHBy3adJCiz/9GY/s3ocOnYtUgsX5wOV6J3EwtQtv343kaPmO90nsFXpQydWhLlS4/hmcv20snzkkXrW3ANYQ+TlsLfLTa5VoyYnC2VFUZmswtzMPxF459OP6ZFsig4JCkvd9puzIzrbZlJd1oRuNsY8kK40c9R7YAMVJITEwykjhqcreRQpF6pu2KjCLTn/umG0WUFDmMdg0ZqY+rU6MaHT4cpYteoYBvhaQg3jrK2eGb1+pGcR0y3c5lwZkeQxHiR1cL5DJyqAgEQAAEQAAEQCDbEjDaD1ezIp25+CTbGgsEBwEQAAEQAAEQAAF3JOBsj6E7MkGbQQAEQAAEQAAEQCBdAkabLmYWFh7DdNWOgyAAAiAAAiAAAiCQfQhgYJh9dA1JQQAEQAAEQAAEjEVAXoguO7/IuzDt7RUt0nbiKLvCnOBo2o5FUtMIeJScBhgkgwAIgAAIgAAIgIBdArw2WgeLT2SPs3kcX+Ao+0Yf5LiRo+XWgM/y9zc5yibNsivMQ/fhg8eQKSGAAAiAAAiAAAiAgJsRkLciiKdQtgO8x1E2ym2TSob+/F0Gj+atAn9PddzmKzyGNkiQAAIgAAIgAAIgAAJpE+CX4enhTWPyHlXTOz1NTRWvYY1UrS6f/P1b/hQP4wSOpvdlpspo/oqBYRpgkAwCIAACIAACIAACGhMoxvWb3m1pashn/CExo0HGefI4uSFHX457OVbmeD2tAjAwTIsM0kEABEAABEAABEAgDQIummN4latP680ncXyslEXzZOAnaZZBvIj7Of7L8TzHnznKQFHmI9oNmGNoFwsSQQAEQAAEQAAEQEDXBGRwJ4O8Mhzl1cNdOMriE8uwgb80TE4Q76M8WpY5iWkGeAzTRIMDIAACIAACIAACIGCfgIeLXIb2a1ep9zkO5riNo8wf/IKjbEkziaM8fpZBohxrwlFWKidw/C/HaxzTDBgYpokGB0AABEAABEAABEBA1wQ2c+skWoZxFl+S+O+RyTFVNvtfMTC0zwWpIAACIAACIAACIJAmAe0dhmk27ZEOYI7hI+HDySAAAiAAAiAAAiBgHALwGBpHl5AEBEAABEAABEDABQTEW5jDoC5DeAxdYECoAgRAAARAAARAAATcgQA8hu6gJbQRBEAABEAABEBAVwQ82GtoxACPoRG1CplAAARAAARAAARAIAsE4DHMAjScAgIgAAIgAAIgkL0JYI5h9tY/pAcBEAABEAABEAABwxPQlccwibdh/DdB9mI0RvDIYRxZRCO5cxpv5sEft+4Zw9iSpXg8r2x+b5zQZYHlu+PdX664r6a4vxAWEtxPSDSUPCLMzdvyMgnjhEKP6eo2/0hg9XZHNeiiZDLenf6RzA4ngwAIgAAIgAAIgED2JWCcnxLZV4eQHARAAARAAARAwIUEZEFyDv5nxACPoRG1CplAAARAAARAAARAIAsE4DHMAjScAgIgAAIgAAIgkL0JYB/D7K1/SA8CIAACIAACIAAChicAj6HhVQwBQQAEQAAEQAAEHEqAlyRjH0OHEkVhIAACIAACIAACIAACeiMAj6HeNIL2gAAIgAAIgAAI6J4A9jHUvYrQQBAAARAAARAAARAAgUchAI/ho9DDuSAAAiAAAiAAAtmOgOxg6GFQlyH2Mcx25gyBQQAEQAAEQAAEQMA+AXgM7XNBKgiAAAiAAAiAAAikScCgDkO8KzlNjeMACIAACIAACIAACGQzAvAYZjOFQ1wQAAEQAAEQAIFHJ4B9DB+dIUoAARAAARAAARAAARDQMQF4DHWsHDQNBEAABEAABEBAfwRkfiHmGOpPL2gRCIAACIAACIAACICAAwnAY+hAmCgKBEAABEAABEAgexDAPobZQ8+QEgRAAARAAARAAASyLQF4DLOt6iE4CIAACIAACIBAVgnI20+MGPDmEyNqFTKBAAiAAAiAAAiAQBYIGGpguHP7Vqpe1Z9CKleg2TOn2eC4e/cu9Q3rqo4/36AWXbwQY5Un9tJFKlWiMH0we5bNuVokiDzVAv0pqFIFej8Nefr07KqOP1e/Fl1Ilifq4AGqWyNExTo1gikifIMWzbdb5/ZtW6lqpYpU2e9Zmjljqk0e0VFY9y7qeIO6NelCjElH165do2ZNGlOJIgVp5LDBNudplfD1zm1UL7QS1Qn2ow/fn2HTDJFnQN/u6njL5+vSpYsmee7du0cjBvWn52oH0/N1q9F3+/bYnKtFgthcKNtccDo215dtTo4/zzaX+hq6xNeQb3H9XEMhpQrT512r0BfdA6lTUEkbpC9UKEYr+gTTvE6VVGzqVzwlT79apejTLpXpMz5/YN2nbc7VIuGrHduoelAAVatSkWbPmm7TBLG3fmHd1PEXGtZO0Y/oyadYQWpQK0TF14a+anOuVgk72OaCKvtRoH95mjXDfr/dq0cXdbxRPe7nkvuEXTt3UL1aoVQjJFB97vl6l1YiWNVrtD7BaPpxpJHIPobOjo5sb0bLcvbAMIYbcpzjjxwPZbRRWcmXkJBA/zdyKK1av4m+jzpOa1evpFPRJ62KWrroC/L09KKo46dp4ODhNGHsm1bHR496nZ5r0jQr1Tv8HJHn9RFDac2GTbT/8HFaY0eeJQtN8hz56TS9OoTlGWOSxy+gEu3+dj/t2x9FazdE0oihA+n+/fsOb2NmCxSZZFC3fuNmijp6glavXEHRqXS0aMF81pEnHY8+Q4OHDqexo0epavLly0djx0+iKVNtB1+ZbYej8os8o/87jJau3khf/3CUNqxdST+firYq/ieWgdIAACAASURBVMslC6hwYU/69nA09R84lN6ZMFodX75ovvr86rvDtGL9Zpo05g1KTEx0VNOyVI7I81+2udVscz+wzdm7hsTmCvM1dJhtbqCFzZkrHPPG6/S8Tq4hD37OM6h+aRoTeZpe+fIYNXy2KD3l9ZgNm71nr9GgVT+puDX6ijru92QB8n+yIA1ceZwGrDhG5UvkpyreBW3OdWVCSh+3LoK+O3SM1q1ekUYf50mHjp2igYOG0cSxb6U0sXSZcrTn+ygVZ839yJVNT7Mukem1YUNoXXgkHfzxJ1qzylamxcn93NGTP9OgIcNo3BhTn1C0WDFatTac9kcdpU8/X0D9+/VKsx5XHTBin2Ak/bjKDty9HmcPDIVPI45VOVZzJqyoQweoTNlyVLpMWcqTJw+91KETbdm00arKzfy9S/eeKq1Nu/a0d/cuSkpKUt8jI8Lp6adLU0U/f2c2M8Nlizxlyz2Qpz3LI+23DJsjN1LXHg/k2ZMsz+OPP065cpmmj965e0f9otFDOMSezLLlnmE9mXTUoVNn2sTcLcOmiI3Uvaepg2/3Ugfa/fVXSkf58+en2nXqUl4eIOolHIk6SKXZ5p4ubZKnzUudaNvmCKvmbd8SQR27mnTUos1LtG/P10qen09HU516DVXeYsVLUKHChenokShNRUttc3INpba5LWnYnDQ8cmM4PVVaP9dQhRIF6PKNO/Trzbt0PzGJ9pz9g2qV8coYY+4W8uT0oFw8uszNnzn588/b/2bsXCflOpyqj2vXoTNtibS2N/lu7uNap+rjnNSsRyrW1CeUS+kT2neUPsG6n5O+uVuPMFVPW9UnmPrtwKpBVNLbW6X7+QfQndu3STymWgaj9QlG048jbUPuqvLj09nRkW3OaFmuGBhmtC2PlO9yfDz5+JZKKcPbx5cuX463KtMyjwycChUqTH/wI8pbt27RnPem0/+9Ne6R2uDIk1VbfVLJw2mWwTKPpTyS59CB/VQzpArVCa1K7835KGWg6Mg2Zras+Pg48i3lm3Kaj+goLs6qGJUnWY9mmeQxsh7Dr2xf3hY6KuntQ79etpbnV9aZ2KIEkzyF6M8/rpF/pSq0fesm5cm9eOE8Hf/xCMXHxWoqZkZsLt7CLu1dQ2/o6Boqmj8PXbl1L4XpVf67aP7cNozrli1CH3euTKNffJaKFcijjkf/douOxt+k5b2DaXmvIIq6dIMu/XnH5lxXJpj6rwfXj7ePD13m68UySB5vy+uHf3BIHydB7Kxh7WrU6sXG9P23+1zZ9DTrkvZb9ts+dmQSm7PsEwpzv526Twhfv5YCqwZT3rx506zLFQeM1ycYSz+usAEj1OHsVcnijtvOUT4/5fiZHWivcJpEunrV9BjHTh6nJk17Z6J6tFygQAGn1uPKwqtVr0E/RB2j0/xoc2D/PvTCi03V41gEfRDo0qM3nfn5FDVrVIsHy09Rteo1KSd7ptw1qGuIHy272zX0Q8x12n3mGv3LHsXm/iXo9cZladTGU1SyUF5+7JyPeiw6olTybuuKdKhkQTpx+S+3VNETT5ako9G/UJGiRelH9kz37NKBvj14lH8cF3JLeSwbHX3yBI0b/SZt2LTVrWUxWp9gVoZR9GNjXMnzC23SDZDg7IFhXWYkP2lLcNzB8RTHvam4yWBRDRiLFStueq6bKkNGvsojhbjYSylZxftSsqTpMYM50ZxHPFXiqbl584bqKOUR2sYN63iO3ii6ceM6eXh4qEFU/wGDMlK1U/Kotsalkif5sYmVPJzHx9daHssGVajoR/l5wBt94icKCnHq0/yHcvBmj1rspQdesTjREXsILIPKw3q0lKko60iP4Um2r3gLHYn348mS1vI8yToTWxSvocnmbpJXkaLq8f7EKTNTxGrdpAE/Zi+vqZgZsTnvZLtMbXPyyCl8/Toaz3NCzddQ3rz56JWB2l1D1/6+R8WTPYACVryB1/62fhz8190Hc2+3Rv9OsuBEQh32Ip769RbduW+a93nw4g3ye6KApgNDU//14PqJZ2+7eKktg+SJl+vHbG83TH2c2JvZm1Y1KITK8JSbc2d/pqBgbfsEab9lvx1nRyaxOcs+4Qb32+Y+IS42lrp2ak+fzl+opt5oHYzXJxhLP1rbh7vU72wXhfk5x+8MZD3H6s4CExwSSr+cO8sr1s6TrPhct2YVNW3Ryqq6Zvx9xbIlKk0ePdRr0EjdoDfv2MO/ps+pOGDQUBrx+ihNB4XSPpHn3NmzFJMsz1qWR9pvGZo1b0VfLn0gT/1keeQc82KTixcv0JnTp+kpnj+pdQipJjKdoZjzJh2tWbWSWrRsbdWsFi1b0bIli1Ta+nVrqEHDxrqZI5maX1W+qZ5nm5NHdGJz4etWUZNmLa2yNWnaklZ/adJRZPg6qlO/oZLn9j//0D9//63y7v16p3rMXJ4H8VoGs81ZXkOpba5pGja3ZeceOnbqnIoD+Roa+d9Rmg4KhePp32+Rd+F89ETBvGquYINnitAP5/+0Qlzk8QePlmuW9qKLyY+Lf791lyp7F1Lzh2R+YWVeeHLpz9taqod/2Fn3cevXrKRmza3trSl/N/dxGy36uKtXrpAsjJAQc/4XOsd2W5rnxmodTH0C93PJfYIseJI+wDI05z5i+dLFKmmD6hNM/fb169epQ7tWNHHyFKpVu47Woqj6jdYnGE0/jjYS7srV+5KdGR3d5oyUl57H8GHPGG4+pIL8fFwGnvLsRf5uwnHSQ87J8mG5sU6fNYc6tGmuOsDuYb3VhOQpb49Xv4rlBtejV18a8HIvtV2Nl5cXfb5oeZbrc/aJIs+M9+ZQ+9YmeXoky/POJJM8zbnz7Nm7L/2HV+LJdjUizxeLTfL88N23aiuLXLlyK+/nzNkfkqzg0zqITLNmf0BtWjZVOgrr3Yf8WUdvTxxHwayjFq1aU68+/ejlPmFquxqvIkVo0ZIvU5rtV74M/XXzphqERfCE9I2R28hPw8VCIs/k6bOpW/uWlMjydO7emypwe2ZMmajmOzXhQVSXnn1o6IA+arsaT68i9NF80yDx6tXf1XmiH/EyzP3kC63Vowan0y1sLuUaYpuTG57Z5gawzcl2NWJz85NtTvPG22kAPx2mj76JoXdaVeABXg7afuoKXeDBXc9QHzpz5W+Sx8htqjxJNUt7UgJn/utuAs3adU6VtO/cH1TVpxB90qUKLxYiirp4nfZfuG6nFtcliX6mcR/XsW0Ldf1069mbKvL18+7bE1g/ISl93MCXe6vtajylj1u4TDXwu2+/oamTJ1Lu3LmUzc2aM09dX1oHkWnm7LnUtlUzdQ317NVH9duTJ3I/FxKifjiGcT/Xv2+Y2q5G2rwg2eY++3iecgZMmzJZRQnh/Di5eAl5QKVNMGKfYCT9aGMV7ldrestV5TmmPNq1zGP+Lp9PPURc+TkqXkIJMgCVUcs7yd/tfvAjjqRd+/bbPeaOieJtMFKQ1ZlGC9f/0XalqaN5Pp43p6OL1LS8LgucusuVy2Vb3ivE5XU6s8I8uYzXJ9y8rf3WXo7UWaHH0vP/OLIm55dVv3Z1OnI4Shd31iJl/JNaTH7guHCW9Eu6B8p2FS6d85GexTxYEps1iX/h0wKzdirOAgEQAAEQAAEQAAEQcDWB9AaGlm3pwl/EAziFo+yX8ARHbTddczUp1AcCIAACIAACIAACTEDclkZ7KmhWbEaeA3zImRtx7Jl80j/8+QksAwRAAARAAARAAARAwFgEMuIxrM0iB3M0behF9Af/ncdYGCANCIAACIAACIAACGScgF7eKpbxFmcsZ0Y8hjI7X/KZ9xiUTeVMm3tlrA7kAgEQAAEQAAEQAAEQcAMCGRkYzmM51nIsznEix30cp7mBbGgiCIAACIAACIAACIBAJghk5FHyYi5PFpo8n1xuR/78KRN1ICsIgAAIgAAIgAAIGIqALvbNcQLRjAwMpVrZHE0eKcvj5Ix4GZ3QVBQJAiAAAiAAAiAAAiDgTAIZGeSN5gbILo7y4mHZqkY2qn7TmY1C2SAAAiAAAiAAAiCgVwLyGjx5o5KzoxbyZ8RjGMYNC+Io29RIkLeXyArld5O/4wMEQAAEQAAEQAAEQMAABDIyMLzMclrmk78lDQEEQAAEQAAEQAAEsiUB8RoaMaQ3MHyfBZY5hbJv4QmO25K/N+HPg0aEAZlAAARAAARAAARAIDsTSG9gaF55LIPCSAtIP2RnYJAdBEAABEAABEAABIy6wXV6A8P5UDsIgAAIgAAIgAAIgED2IZDewNBMoRz/IQtO/Dnms0BTPvtggqQgAAIgAAIgAAIg8ICAUecYZmS7moWMYQFHmWbZjOMqjithHCAAAiAAAiAAAiAAAsYikJGB4eMssiw8kXCO4xiOMkBEAAEQAAEQAAEQAIFsRyAH+8qcvYehlK9FyMij5LvcMBlAyqBwAMc4jgW1aCzqBAEQAAEQAAEQAAEQcB6BjAwMR3D1+TkO5ShzDQtz7Ou8JqFkEAABEAABEAABENAxAXbmaeTQczqUjAwM9ye34i/+7On0FqECEAABEAABEAABEAABTQikNzBczy2SDa7TCi+ldQDpIAACIAACIAACIGBkAtlxH8MPXa1QD3bNPpYnp6urdVp9CYnpjaudVq3TCvYQBRksFCmQx1ASeb0w2VDy/LlD1roZJ9xPSDSOMCxJrpwZWb/oXiIXeiw9f4l7ySKt/TfBOPehJOOIomtDSu8K+ErXLUfjQAAEQAAEQAAEQEAjAsb7WWQCaVS5NDITVAsCIAACIAACIAAC7ksgPY+h+0qFloMACIAACIAACICAkwjIxCqjzjHMjMcwr5P4olgQAAEQAAEQAAEQAAEdEMjIwLA6t/M4xzPJ7Q3kzw900HY0AQRAAARAAARAAAQ0ISDrMZ0dtRAsIwPDudywlhyvJTfwKH820qKxqBMEQAAEQAAEQAAEQMB5BDIyx1AGjxdSNSHBeU1CySAAAiAAAiAAAiCgbwIG3MFNAc/IwPAS55PHybKDkGwyOITjz+psBBAAARAAARAAARAAAcMQyMjAcCBLK4+Tn+L4G8edHCUNAQRAAARAAARAAASyHQF5T7JRVyVnZGD4O2u8S7bTOgQGARAAARAAARAAgWxGICMDw/8xE3svonklm7GCuCAAAiAAAiAAAiCgCGTnOYby6Ngc8vEf7TjKvEMEEAABEAABEAABEAABAxHIiMdwZSp5l/D3fQZiAFFAAARAAARAAARAIFMEZJ6hEUNG9jFMLXcZTngidSK+gwAIgAAIgAAIgAAIuDeBjHgM/2QRzXMMZSD5B8dR7i02Wg8CIAACIAACIAACWSMgzkIPg7oMHzYwFNnlFXhxyegS+dPeQpSskcVZIAACIAACIAACIAACuiHwsIGhDAI3c6ykmxajISAAAiAAAiAAAiCgMYGszMXTuMkZqj4jcv3IJQVlqDRkAgEQAAEQAAEQAAEQcFsC6XkM5dh9jjIoPMjxHMe/OcrjZfEkBnNEAAEQAAEQAAEQAIFsR8CgUwzTfVfyAdayDP5aZzttQ2AQAAEQAAEQAAEQyIYE0vMYmnfoEU8hAgiAAAiAAAiAAAiAABOQ9yQbdVVyenMMi7PsI9OJujOO7du2UpWAChRQ8RmaMX2qTfvu3r1LPbp1Vsfr1a5BF2JiUvLMmPauSpfzd2zfZnOuFgk7WJ6gShWpit+zNGuGfXnCundRxxvWrZkiz7Vr16hZk8b0RJGCNHLYYC2anmadRtOR0eR5IbQsHV00kH5a+iq93rW2jR6feqIwbZ7VnQ583p+2vd+TfIoVTMnT/cUqdHzJqyrK33oIRtPPju3cJ1T2o0D/8twnTLNBLH1crx5d1PFG9Wql9Am7du6gerVCqUZIoPrc8/Uum3O1SoCOYhR6vepoJ9tc9ar+FFK5As2ead/m+oZ1Vcefb1CLLl4wyWO2p9hLF6lUicL0wexZWpkY6s0kgfQGhjm5rAIcpee3FzNalZRzhOOmjJ6QlXwJCQk0fOggCo/YQkeOnaTVK76k6JMnrYpa+MV88vL0ohOnztKQYSNo9FtvqOOSb/XKFXT46AnauGkrDRvyKkl5WgapXwZ16zZupkPcLmlfdLS1PIsWzCdPT086Fn2GBg0dTmNHm7aXzJcvH40dP4nemTpDSxFs6jaijoxkcx784s/Zw5pRm1FfUlDvT6jjcwFU8eliVnp8d8BztGz7car+8v9oyuJvaFL/xuq4V8F8NDqsHtV/9QuqN/AL9bdnAXmDpnbBiPb22rAhtC48kg7++BOtWbWCTqXqExYv/IL7BC86evJnGjRkGI0bY+oTihYrRqvWhtP+qKP06ecLqH+/XtopxqJm6EjfOhL9/N/IobRq/Sb6Puo4rV290sbmli4y2VzU8dM0cPBwmjD2TSvbGj3qdXquSVNd2JujGyFzDJ0dHd3mjJSX3sDwMhcwiePENGJGypc8wzhGZzRzVvMdPHCAypV7hsqULUt58uShjp270KaIcKvi5Hv3nqYO8aX2HWj3rq8oKSlJ5ZP8efPmpdJlyqhypDwtw6GDB6ishTwdOnWmyFTyREZsTJGn3Ussz9cmefLnz0+169QlGSDqKRhNR0aTJ7SiN52L/4NiLl+nf+8n0updJ6hlnfJWJlSxdHHaczhGpe05EpNy/IXQcvRV1Hn68687dP3WHfV3k+rlNDU/o+nH1CeUS+nj2nfszH3XRivG0kd06xGm0tqqPmGX6uMCqwZRSW9vle7nH0B3bt8m8S5qHaAjfeso6tABtrdyfF803Vdf6tCJtmyytrnN/L1L957KlNq0a097d5tsTr6LPT79dGmq6Oevtamh/kwQSG9g6Ii3APpyW1pw/DwTbcpS1vj4OPL1LZVyro+PL8XFmfflNiWrPKVMeXLlykWFChcmeewq+VKfK3m1DKa2Cj5TEHni7cmTLLPIU7iQSR4t251e3YbUkYFszpsfC8f+fjNFhXFX/rJ6VCwHjp/7jdrUr6DytKlXgQrlz0tFCj1GtufeVGlaBqPZ22Xuk3ys7M2HJM0yxMfHp/RlafUJ4evX8kAxWP0Q1jpAR/b7bb3o6DLbk6XNefN96PLleCuzscyj7qt8H/qD76u3bt2iOe9Np/97a5zWZua0+vkhC88zdG50WuPTKTi9xSfPpXNeRg/N5oz/xzG9O8QrfFwiXbl6JaPlIh8IgIAGBN78eCe9P7Qp9XgxkL49dpHirtzkaRfyQiQEdyAQffIEjRv9Jm3gKTMI+iRgFB1Ne2eierRcoIDMSENwJwLpeQzlnciPElryyb9zjHpIIZ/x8WoSixeT9S5ZC97ePhQbeynl5Li4WPLx8bEqTOW5ZMpz//59unnjBhUtWlTlS32u5NUymNoaayWPtz15kmUWeW7cNMmjZbvTq9uQOjKQzcVf/Yt8SxRKUaFP8YIUx2mW4fK1W9Rl/Bqq9crnNP7zr9WhG3/fJdtzC6k0LYPR7K0k90lxVvYWx4+HU/dx3il9Weo+IS42lrp2ak+fzl/I01S0fcxvtgvoyLrf1puOZPqBpc3F8321ZEnTlASzDi3zqPsq34eK8H1VHkNP4DmugX7l6JN5c+n9mVPpf5/M07JLcGjd8khVViU7Ozq00RksLL2BYQaLSDNbHT4ieyDGcFzBUWapL00z9yMeqBYaSmfPnqGY8+fp3r17arFGi5bWWzDK92VLFqma1q1dQw0aNVZLziVd8sucGzlfygmtXv0RW/Rop4dUC6VzFvKsWbWSmqeSp3nLVinyrF/H8jQ0yfNoNTvvbKPpyGjyHDoVT8/4FKGnn/Sk3Lk8qGPjAIr87mcrgyjKj43Nm7r+t3sdWrTlqDq+4+A5er5aWbXgRKL8LWlaBqPpx9QnnE3p42QhQAvuAyyD9BHLly5WSRtUn9BI9XHXr1+nDu1a0cTJU6hWbema9RGgI33rKDgklH45d5ZXt5vuq+vWrKKmLaxtrhl/X7FsiTIoeQRer4HJ5jbv2ENHo8+pOGDQUBrx+ijqP2CQPgwPrUiXQHqPktM9MQMHZWmSeXlSQ/77dY49MnBelrLI3Ib353xIrVq8qFYU9+rdl/wDAmjShHEUHFKNWrZqTb379qO+vXuqbWm8vIrQkmUyXiWVr33HThRUxZ+knNlz51HOnLKYWrsg7Zg1+wNq27Kpkqdn7z7kz5PG357I8gRXoxYsT68+/ejlPmFquxqvIkVo4ZIvUxrsX74M/XXzphoky+Ka8Mht5KfxBGAj6shINpeQmEQj5m6liOldKaeHBw/6fqTomKs0tk8DOnw6ngeJZ6h+1afVSmRZ0LCPHyUPn2N6JCmLTt5d8g3t+6SvskFZsSxpWgYj2tvM2XOpbatmlCh9Qq8+aiHJ5InjKSgkRP3ADeN+r3/fMLVdjfQJCxYvVyr47ON56gY/bcpkFSWE8+Pk4iVKaKki1d8a6RoSeYykI5Fn+qw51KFNc3Uf6h7WW9nclLfZ5vg+JIPCHr360oCXe6ntary8vOjzRSab09SwXFS5+Ueyi6pzWTWOWGCSkcY25EwyMJTHy2mG4OCQpG/3H0rzuLsdkButkUJOmWWLoGsCXi+Ybvq6bmQmGvfnjjGZyK3/rPcNNh8zV05nPnTSRp9G09G/Cca5DzWuW4N+PBKlixuR97OVkgZ8tN7pRjruhWdlOp5Mt3NZcKbH0FKI3fxFIgIIgAAIgAAIgAAIuDeB5NXI7i2E/dYb7+eefTmRCgIgAAIgAAIgAAIg8BACrvIYPqQZOAwCIAACIAACIAAC7kMgB+niqbbDgcFj6HCkKBAEQAAEQAAEQAAE3JMAPIbuqTe0GgRAAARAAARAQCMCpn0MNarcydXCY+hkwCgeBEAABEAABEAABNyFADyG7qIptBMEQAAEQAAEQEA3BIy6gxs8hroxMTQEBEAABEAABEAABLQlgIGhtvxROwiAAAiAAAiAAAjohgAGhrpRBRoCAiAAAiAAAiDgLgTkPeTOjhlg0ZTznOZ4luOodPK352PyGpyHvkUFA8N0KOIQCIAACIAACIAACOiUQE5u1zyOzTj6c+ya/Jm6uQU5YRjH/akP2PuOgaE9KkgDARAAARAAARAAgTQImLerkQUozoxpVG9Ors5/iKfwF473OK7g2MbOOW9z2jSOd+wcs0nCwNAGCRJAAARAAARAAARAQBcEinErDlnEVyxa5cN/X7L4Hst/S5plCOYvpThGpkpP8yu2q0kTDQ6AAAiAAAiAAAiAgB0C7CnkKYauCFe5kofOC0yjIeL8e49j7zSO202Gx9AuFiSCAAiAAAiAAAiAgK4JxHHrxBtoDr78h6SZg8wtrMRxN8cYjjU5buSY7kATHkMmhAACIAACIAACIAACmSHg4SKXYTptOsjHnuVYhqMMCLtw7GaR/wb/LY+izWE3//E6R3k0nWaAxzBNNDgAAiAAAiAAAiAAArolcJ9bNpjjNo7RHFdxPMFxEsfWWW01PIZZJYfzQAAEQAAEQAAEsiUB86pkHQi/mdsg0TKMS6NdDdNIt0qGxzAjlJAHBEAABEAABEAABLIBAXgMs4GSISIIgAAIgAAIgIBjCWg/xdCx8phLg8fQOVxRKgiAAAiAAAiAAAi4HQFdeQzlJX4JifK/MYJrtjhyHat79xNdV5mLavLptcRFNbmmmj93jHFNRS6q5V+D2ZyHvCLBQMFI/bVZLbfuyHx+44RCj+U2jDD68tDlIA8y1vVsNhR4DA1zyUAQEAABEAABEAABEHg0ArryGD6aKDgbBEAABEAABEAABJxPQHyF+vJgOk5meAwdxxIlgQAIgAAIgAAIgIBbE4DH0K3Vh8aDAAiAAAiAAAi4nAC7DA02ZTgFITyGLrcmVAgCIAACIAACIAAC+iQAj6E+9YJWgQAIgAAIgAAI6JiADt6V7BQ68Bg6BSsKBQEQAAEQAAEQAAH3IwCPofvpDC0GARAAARAAARDQkABWJWsIH1WDAAiAAAiAAAiAAAi4hgA8hq7hjFpAAARAAARAAAQMRABzDA2kTIgCAiAAAiAAAiAAAiBgSwAeQ1smSAEBEAABEAABEACBdAngzSfp4sFBEAABEAABEAABEAABdycAj6G7axDtBwEQAAEQAAEQcCkBWZVs1P3+jCqXSw0ElYEACIAACIAACICAEQjAY2gELUIGEAABEAABEAAB1xFgl2EOg04yhMfQdWaEmkAABEAABEAABEBA1wTgMdS1etA4EAABEAABEAABPRKQeYZGDPAYGlGrkAkEQAAEQAAEQAAEskAAHsMsQMMpIAACIAACIAAC2ZeAWpWMOYbZ1wAgOQiAAAiAAAiAAAhkBwKGepS8Y9tWCqpUkar4PUuzZky10d/du3cprHsXdbxh3Zp0ISZG5bl27Ro1a9KYnihSkEYOG2xznlYJ21meqixPZW7vzHTkkeMN7MhTQmfyCMed27dSSBU/qhpQnt6bMc0Greiod48u6njjerXowoUYlSfq4AGqWyNYxTrVgygifL3NuVokPB/oTYffb0s/zmlHI9tUsmmCb9H8FDmuCe2b2pK+n96KmlT1UXkaVS5Je99tST/MaK0+6wc8aXOuFglic1UCKlBAxWdoxnT711CPbp3V8Xq1a6RcQ9LWGdPeVely/o7t27Rovk2dO9jegtneAh9ib3K8kYW97fpqB9WvHUo1qwWqzz27d9mUrUWC0fo4YWg0mXbt3EZ1q1WiWkF+9MH7M2zMRPq4//Tpro43f64uXUru4/79918aOqAfNaodTPWqV6G57023OVeLBCPehxzFUbyGzo6OamtmynHmwDAfN+QAx6McT3CcmJmGZTZvQkKCGtSt27iZDh09QatXrqDo6JNWxSxaMJ88PT3pWPQZGjR0OI0dPUodz5cvH40dP+n/2zsXOJuq9o8/GUMuYQyVGWKGwhDmhqjQ20UYYtxzGbz1VhrUW/8uipIIFXrponJJch2MSry8egAAIABJREFUu7yFSrnNiFxr3GdGN4V6cwnzf551zhn7nDkY45yz917zWz6Pc/baa+/9PN9nrbXXPHvtdejV1/I24ivVw1flXfYsYHvSLmPPd2zP417sGWEhe4SL2PTvQck0L3UpbdyynVLmzqLdHj76aOpkKhcSQt/u+J4eSx5IQ50+ql2nLq1Zt5G+2pBOKanLaFDyo3T27Flf4S7QeeQxwht9G1OHkf+l+CdTqWPTCKoZXtbtXP/XoR7N/+Yg3f7sEkoa/wW92a+x2n/0j9PUefRn1PjpRfSvt7+i9x+/o0A6+PIg8c+gAf0pdfFy2rJtJ82dNZN27XRvQ1Mnf0gh5UJox+4MSh74BA1+/hmlgpSTNpfOdXXRkhU0MPkx5W8zk6u+pXB928T1bd4l6ttWrm/9DfUtNLQCzZ6XSus3b6V3359CD/ftbaYp6tq69XE62iQ+ev6pgTRj3iJau2ErLZw3m/bs3uVWd2ZOn0Jl+T70zZZd9PBjA2j4S4PV/sULU+jMmdO0+ut0WrlmPU2f8kHuoNHtBAHc0PE+FEB8tr2UPweGp5nKXSz1WRqwtGRx3BX9gGszR5Qiq9egiMhIKlasGHXs3IWWLk51u9LSxYvowZ6ODr59h460ZvVnlJOTQ6VKlaImTW9XA0SrJG/2LPGwZ8ll7CluIXuEq0T9IqtXp4gIh486dGIfLVnkhnzZklTq/mAvlfcA+0giNeKjkiVLUtGijimxp06fssT6UXE1KtC+n07QgZ//pL/PnaeUr/dTm/gqbvbkUA6VKRGs8sqWLEY//v6X+r7twG/8/aT6vuvwMbq2WBAVK+rP5qgudcm0aeNGqm5oQ526dKW8dS41tw11SOQ29LmjDUk5KV+8eHGqFhGhziPnMzM52tCF+pbopb4t5frWzVDf1jjrW/0G0VQpLEypXzuqDp08dZIk0mNm8tYn2LmPE5a62bQlbRNVi6xOVas5+rh2iZ1p5bLFbtVmBW937tZT5bVp14G+XLta9XGyJt5f//uf+oP3FNe3YsWCqXSZMmZWOa/+ydsnXPq+arX7kC+ByhRDf4sv9c3vufx5J8phJf50KiJ3RhHJ80vKzs6iylUq5547PLwyZWdluV1LlansuHHLIKNsmbLqMbIVkzd7jlzGnjIWtkcYi03hTv6yHR4eTp42HcnOzi0jPhKbfnP6aPPGDdQo5lZqwo/3xr71du5A0Sz/VSpfkrKO/i/38llH/6JKIaXc1Bkxdyt1uSOSdr/dkeY9+w96asqGPOq2a1SVtu4/SmfOns+zL5AZxvbh8E9lyvJW56pcaENlyjrakJRztS3XsXI+M9MRQ3sXPcK4vnn2CVLfjH2Csb65dE9dkEINGsSoQa+ZyVuf4GmPnfo4YambTT8e4f4r/MIfh5XCwunHI+7tQMqE8f1JkqOPK0O//XZUDRJLcpCifs2qFFe3Bj2S/ASFhJQ3s8p59Y9nn+1Z56x+HzIVqE0u7s+BoSAIYvmW5WeWVSx574o2AQU1zScQ17ARbUj/jlZ/tUHNTzx16pT5Sl1Gg078eHnG2gyq9dg86vjaZ+qRsfFFtlqVy9Gw7rE08P31lzkTdptBYNfOHTTkhedo3IR3zLg8rlmICEi0sUhQEH27+wBt3LqH3pswjufw7itEBOxm6jUqyutvMYOKvweGMslIHiPLn0cNWfLOzid6mPM3i/z66y8FZhDGf5llHs7MPT4rK1NFCIxJlck8rLIkXH/8xHEKDQ0t8DX9eaA3eypdxp4TFrZHWIlNWU7+si1RJk+b5PGdq4z4SGwq7+GjmrVqU6nSpWnnju3+dMFlz33kt78onF8ucaXw0JJ05PcLEUTJ79XiZp5jeEAV2fjDL1Q8OIhCr3NMWQjjiOPMfzfnOYZf0v6f/nCdxrRPY/sQJaQNSVTXmBz18kIbOnHc0YaknKttuY6VsmYmidYYdZLommefIPXN2CcY61tWZiZ175JIkz6YSpH8eNDs5K1P8LTHTn2c8NTNphsrcf+V5WgfYp9ErW+s5N4OpEw2ty1Jjj7uBJUvH0oL5s2iFv+4l4KDg6lCxespvlET2rol3dRq580/nn22Z52z+n3IVKA2ubi/B4YuDMf4y2oWmWfomSZxRpxIhQoVPfflezs2Lp72ZvxAB/bv5wm8Z2jenNnUqk1bt+NbtUmgGdOnqbwF8+dRs+Z3WWKumjcjvdnT2sOe1jayR2yMUT7KoAMHHD6aP5d91DrB3Uet29InMz5SeQvZR3c2a6F8JMe4XjY5dPAg/bBnN1WtWs0buoDlpe39larfWIaqVixNwUFFKLFJBC3dfOGPE1Hk8K9/UvO6lZRO8mLKtTww/PXEKZ5vGKweLQ+dmU7r9xT8DyJfGhsXH08ZhjYkL5PkrXNtc9vQ/BRuQy0cbUjKSXmZhydtUM4T31D+FjQvSRvaZ6hvKRepbzMN9a2Zs74dO3aMOnVIoJdfGUGNmzQ1zwjDlb31CXbu48Q03WxqEBNH+/dm0CFnH5eaMofuu7+NW/2R7Tkzp6u8Janz6fY7m6s+LrzyTbTuizUqX+Yapm3eQDVurul2bKA3vPknb59gn/uqL/mpdQwDIL7UOb/n8ucC1zLK+5tFBoUlWO5hybs+SX41vUw5mavxxrj/0ANtWqq393om9aEonjT+ystDKIYba+uEttS7Tz/6Z59earmakPLlaer0mblnjbolgv44cUINKmVyberSlVS7dtRlruq/3S572jnt6XUJe2S5GrFnmsGe2gZ7FrM9i0y2R0iJTa+PfYs6JNyvfNSjdx81sf/VYUMpOiZWDeR7JvXlN0B7qeVqZH7N5OmfKMjrv/6Kxr4+Wv01fU2RIvTG+AkUWqGC/xyQjzOfO59DT03eQAufv5uKsE7T1/xAuzOP0eBODWjLvqO0LO0wPT99M034VxPq3zqKJ5gTPfLOOnXmh1vWpsgbrqNnEusrkdTu1VVq0GhWEv+MZa4Jre9T/unNvoiqU4eGvcRtKDaO2nAbSurbj/om9VTL0oh/ps+YpdSVcomdOlN0vSjl53FvTaQgfixmZhI9xnB9a++sbz2d9W0417cYZ33r5axvslyN2DPFWd8mvTuR9vENftTI4UokLVy8gipef71pJunWxwlI3WwSe0aMGUfdEtuoNtS1RxLV5PvI6FdfpvrRMXRfqwTq1rMPJf+rj1quphzXuXcnOwaJff75CA3q/xA1a9xAvYzSlV+Kiqp7q2n1zegfne5DpgK1ycX9+VN/9ZiBhOfk7iAD6zkswy7FhQcHOV9+s+lSRWy1z59wzQBxlgdCuqXw3o5OWRe7fpnheOteF3v+NvmFHF9zLFJEt17B14TMP98fJyWeoU9yrYqgg0W33xZPW9LTLNGIImvXyxn5yXK/Y+0SHZ7GF5GnqgFL/owYbmMrogNmCS4EAiAAAiAAAiAAAiBwVQT8OTC8KsVwMAiAAAiAAAiAAAhYlYAlQpd+gBOol0/8oDpOCQIgAAIgAAIgAAIg4EsCiBj6kibOBQIgAAIgAAIgoD8BDhfK2+Q6JkQMdfQqbAIBEAABEAABEACBAhBAxLAA0HAICIAACIAACIBA4SUgsUJdI2u62lV4ayssBwEQAAEQAAEQAIECEkDEsIDgcBgIgAAIgAAIgEDhJYA5hoXX97AcBEAABEAABEAABAoFATxKLhRuhpEgAAIgAAIgAAIgcHkCeJR8eUYoAQIgAAIgAAIgAAJuBPRcrEbfl2pQfUEABEAABEAABEAABK6QACKGVwgMxUEABEAABEAABEBA0/WttV2GBzUWBEAABEAABEAABEDgCgkgYniFwFAcBEAABEAABECgcBNwLHCt5yxDvJVcuOs2rAcBEAABEAABEACBXAKIGKIygAAIgAAIgAAIgMAVEsAcwysEhuIgAAIgAAIgAAIgAAL2IoCIob38BW1BAARAAARAAARMJ3ANyT8dE+YY6uhV2AQCIAACIAACIAACBSCAiGEBoOEQEAABEAABEACBwk0AcwwLt/9hPQiAAAiAAAiAAAhoT8ByEcOcnBxtoJ89r48t4pTIR+Zo4xuXIT9O76WVTX+fPa+VPcFF9ZrtcurMOa38E1REvzlWwUF61bkiGvnISrUN6xhq1ZXBGBAAARAAARAAARAAAW8ELBcx9KYk8kAABEAABEAABEDAMgQ4ZIg5hpbxBhQBARAAARAAARAAARDwBwFEDP1BFecEARAAARAAARDQmgAihlq7F8aBAAiAAAiAAAiAAAggYog6AAIgAAIgAAIgAAJXSAC/fHKFwFAcBEAABEAABEAABEDAXgQQMbSXv6AtCIAACIAACICAyQTUOoZWWljRhzz0WsnTh2BwKhAAARAAARAAARAobAQQMSxsHoe9IAACIAACIAACV00AcwyvGiFOAAIgAAIgAAIgAAIgYGUCiBha2TvQDQRAAARAAARAwJIEsI6hJd0CpUAABEAABEAABEAABHxFABFDX5HEeUAABEAABEAABAoNAcwxLDSuhqEgAAIgAAIgAAIgUDgJIGJYOP0Oq0EABEAABEAABApIAOsYFhAcDgMBEAABEAABEAABELAPAUQM7eMraAoCIAACIAACIGAJAjLDUM+fPsEvn1iigkEJEAABEAABEAABEDCfACKG5vsAGoAACIAACIAACNiJAAcLsY6hnRwGXUEABEAABEAABEAABK6YgFaPkld9uoKib61N9aNuoTfGjMoD4/Tp09S7R1e1v8Udt9HBAwdUmc//u4ruuC2eGsXWV59rV3+e51gzMv7L9sTVj6LoujVp7Ove7enTs5va/4872Z6DDnvSNm2k2xvFKmnaKIYWpy40Q32v17zr1kq04bXWtGl0GxrYunaeMsO7R9OaYS2VbBjVmva9nZhbZmjn+vTVq/creaDhTXmONSNj1Uquc3VrUb3aN3Odey2PClLnej3YVe1vfnvj3Dp39OhRuv/eu+iG8tfRkwMfz3OcWRnShmLqcRuqcwu9eZE2lCRtiPerNuSsc59/torubBJPjePqq8+1a6zRhj5l/9SrU5Pq1KpBY0Z790+P7l3U/juaNMr1j/AfM2qkypfjV3260iyXuF1X+oT4BlEUc+vF+4S+vbqp/Xc3u40OOf3jOsnhw4eo8vVl6T/j3rCEPaKEbnXus1UrqVF0HYqvX4vGvzE6D2fpE/r17q7239uiSa6PxFeVK15HzZvEKvn3wMfyHGtGhm5tyJcMZYahv8WX+ub3XP4cGFZhJVaz7GTZwTIwv0oVpNy5c+e4ISXT/NSltOnb7TRvzizavUsufSF9NHUylSsXQlt3fk/9kwfSkBeeVTtDK1SgOSmptCFtK733wRR6qF/vgqjg02PEnqeeGEDzFi6hDenf0by5s/PYM91pz5bte+ix5EH00gvPKR1q16lLa9ZtoK82pFHKwqX0xIBH6ezZsz7VryAnK8Jx99G9YqnzG2uoyXPLqEPjqlQzrIzbqV74ZAs1H7JCyQervqclaZlq/z31w6he1fLU7MUVdO/Ln9Lj99ei6641dyaE+EgGdfMXLaPNW3fQ3NmzaJdHnZs25UOuc+Vo264fqP+AQfTiYEedu/baa+nFocPo1dfGFASlX45RbWhQMqVIG9rCbWjuRdpQCLehHY42NNRpT2hoBZo9L5XWb95K774/hR7ua402NGhAf0pdvJy2bNtJc2fNpF073fuEqZM/pBDuE3bszqDkgU/Q4OefUWylnPgznf26aMkKGpj8GAkfM5Nc/+knB9DcBUtofdp3lOKtT5g2mcqyPenf7aFHH+c+4UVHn+DS+4Vnn6K7721pphlu19axzj3z7wE0e/5iWrdpG82fN4v27HavczM+kvtQOdq0dTc90n8gvTzk+Vwm1SKq05qv05S8Mf5t0/0k/tGpDZkO1CYK+HNgKCORf7NEsTRm6e/87hc0mzlKFlm9OkVERlKxYsUosVMXWrJ4kdu1li5Ope49eqm8Bzp0pDUcGczJyaH6DaKpUliYyq8dVYdOnTxJ8ledmSlts8OeahFOezp2pmVL3O1ZtnQRdevRU6nZrn2iitKIPSVLlqSiRR2DplOnT/E8CGu8ORUTWZ72//QnHfzlf/T3ufO0YMMhuj+m8kUxy8Bx/vqDar8MIL/e8zOdO59Df505RzsOH6O76lW66LGB2OGoczVy61zHzl1I6pgxLeU6+GBPxyCpvapznykflSpVipo0vZ1kgGiVlNuGXHWO29BSjzq3dEkqdXvQ0Iacdc6zDZ08ZX4b2rRxI1WvfsE/nbp05T7B3T+y7fJPh0T2z+cO/0i+lC9evDhVi4hQ55HzmZlUnxBZnfVx9AkdvPQJy9lf3R7M2yeI3lI3b6pajWrVli7ZGkm3OpfOPoow+Kh9YhdavmSxG+zlSxdT1+4OH7V9IJG+dLYha3jEXQvd2pAvGTvWMbyGJODhT/Glzvk9lz8HhkdYiXSnIn/w5y6W8PwqdqXljmRnUXhlCVI6Unh4OEmeMWVnZ1NlZxkZOJUtU5bkkZ4xpS5I4YFijLohmJmOsK7h4RfsCQuvzPZku6lkLCP2lGF7fnPas3njBmocW4+axjegN/kvT9dA0UybKoWUpKzf/spVIZu/Vwop4VWlyqEl6aaKpemLnT+p/dt5IPgPHgiWKBZE5UsXo9tr30Dh5Ut5PTZQmdlcvypXuTCwDWcfZWd51jkuc5k6Fyh9L3cdaS8uXaVsGLchT3ukzhntMdY51/mlDTWwQBtS/nHrEypTljf/VHG0M9WGyjr6BCnneaycz8yk2rvBHtUnHHHvE6SPc5Ux9gl//vknjX9zND3z/BAzTchzbd3qnPhD/OJK0oaOHHGvN0Y/uuqcq98+dHA/tWgaRwkt76Jv1n2Vh1egM3RrQ4HmZ9frBepZXDUGFM2ywQuohzlPhH795RcvuwOXtWvnDhoy+DlayI+O7J7iGjbix03b+DHGLnr0oT50z30tLRWduhzfDo2q0uJNh+k8R9ckrdn+I8VElKflL9xDR/84TZsyflXRQyRrEVBtiKc06NCGrEX26rQZ9erL6tFy6dKlr+5EFjxalzp3w42V6Nud+6h8aCh9uyWNenXrSOs2bqXryrhPt7GgCwqtStZ4Fud7/P6MGLq0lZ4ohWUQywkvJkzivDiRChUretmdv6xKYeGUlXk4t7D8xS95xhTGj4sznWVkzt3xE8cplBuhpKzMTOrWOZHe+3CqeiRtdpJH21lZF+zJzsrMfdzt0s1YRuw5wfZIp2JMNWvVplJ8M9i1Y7vZJtGR3//iKF/JXD3C+PuR30961as9P0ZOcT5GdhV4c/FONfcwccxqtUzA3h+9VSevp/NLZhjXr8zDjjmQcoEs9pFECIxJlblInfOLUldxUmkvLl3lNBIt9LRH6pzRHmOdkzbUvUsiTfqA2xA/TjM7GdmLLuIfeZJgTA4fOtqZakPHHX2ClDOyUL716E8CbZ9q74Y+TvUJlRxTYFy6SB/nKmPsEzbzI86hPKe6Xu3q9M7Et+jN11+jSe9ODLQJea6nW50Tf4hfXEnaUKVK7nXO6EdXnZN+W55SufrvBtGxaspARsb3eZgFMkO3NhRIdna+lr8HhsEMRwaFM1jm+xNUbFw87c3IoAP799OZM2fUxOzWbRLcLtmqTVv65OOPVN7C+fOoWfMWav7dsWPHqGP7BHp5+Ai6rUlTf6qZ73PHxDrtOeC0Z94cur+1uz33t0qgmR9PV+eUx3d3NnPYc4CPcb1scujQQfphzx41t8jstGX/bxR5w3V0U4VSFBxUhNo3uomWb7nQibr0u7nSdVSuZLCKCrqSzOEIKVVMbUZVKUd1WFZzFNHM5KhzP+TWuXlzZpPUMWNqxXVwxvRpKmuBqnN3WWbOpyc7sWeftCFXneM21MqjzrVq3ZZmzjC0IWedkzbUqQO3oVdGUGOLtKG4+Hi+sV7wj7xM0trDP7Lt8s/8FPZPC4d/JF/Ky1xj6VPkPPENG3oiC+i26hP2ZvCb044+Yb6XPqEl+2vmjLx9wvJVa/kFqL1KHu0/gJ586ll6+BGZ9m1u0q3ORbOP9hl8tCBlNrVs3cYNcstWbWjWJw4fLVqYQnc425A8MXO94HRg/z51nmrVIk11kG5tyOcw/f1KskkhSX8+ShaTPmSRuYVv+twhHieUuRqvj3uLHki4n87zm1Q9e/dRL5IMf3koRcfGqhtCr6S+9FDfXmq5mpDy5WnKR5+os0x6Z6JqhKNGDFciKZUfJ1e8/np/q33R84s9Y94cT4ltW6nOokevJGXPq8PYnpg4HoAkUE+251/8BrUsVxPCb4pOdtqz/ut1NI6XSShaNJiKFCnCXCaoN6/NTvLo95npm2nu080pqMg19MkX+2hP1gl6tv2t9O2B32jFFsdcnPb8GFleTDGm4KLX0NLBd6usP07+TY+8943pj5LFR2+M+w890Kal8lHPpD4UxT565eUhFMM+ap3Qlnr36Uf/7NNLLVcjdW7q9Jm5ZkXdEkF/nDih/pCRlx1Sl66k2ia+GKDq3Ni3qD23IWWPqw1xnYuJiVWDXmlDD0sb4uVqQkK4DU13tiGOPqk2NJLbEIukhYvNb0Njx0+ghNb3KXt6s+5RderQsJfYP7Fx1Ib9k9S3H/VN6qmWpRF7ps+YpXSXcomdOlN0vSg1P3fcWxMpKCgo13dmfBE9Rr/BfUI7R5/woLNPGPHKUGogfQIPCnv27kuP/LO3Wq5G+oQPpzn8Y4a++bmmjnXutdfHU6cHWtP58+eoe88kftmnDo0c/hJJFFD+uH+wV1967KEktVxNOfbR+1MkbkL0zddf0mvDX6bg4KJ0jeq3J6o+w8wk/tGpDZnJ0k7X9ud49HYG8SXLdyznnVDkvfxlFwMUHROb88XX5r75dzHdCpKv2xy4yEfmFASDpY859H5XS+t3pcqd12zeZXBRfz/UuFLCV1f+FL9Rr1OSP/B0S2fOum5XelhWyuRlvXxJsWmjOEpPT7NEpatVt0HO1IVrfGme13M1rlEujXfIdLuAJX9GDL9iKyzhwIDRxIVAAARAAARAAARAwMYE/DkwtDEWqA4CIAACIAACIAACFydgkSWCL65gAffo9ZymgBBwGAiAAAiAAAiAAAiAABEihqgFIAACIAACIAACIHCFBHSdK4eI4RVWBBQHARAAARAAARAAAV0JIGKoq2dhFwiAAAiAAAiAgP8IaBoyRMTQf1UGZwYBEAABEAABEAABWxFAxNBW7oKyIAACIAACIAACZhOQYOE1mq7Ih4ih2bUL1wcBEAABEAABEAABixDAwNAijoAaIAACIAACIAACIGA2ATxKNtsDuD4IgAAIgAAIgIC9CPCzZCxwbS+XQVsQAAEQAAEQAAEQAIErJICI4RUCQ3EQAAEQAAEQAAEQ0HS1GsIcQ9RtEAABEAABEAABELAngZas9h6WDJZnvZjwJOftZNnG8hlLVS9l3LIwMLwcIewHARAAARAAARAAAU8CjjVrZN0a/4nnNd23g3hzIsv9LFEs3ZyfxlJbeCOOpR7LPJbRxp3evmNg6I0K8kAABEAABEAABEDA2gQasnoSKdzHcoZlFks7D5VX8/Zfzrz1/FnZY3+eTcwxzIMEGSAAAiAAAiAAAiBwKQKyvHVAZhlWYC02GzSZxN9FJIWzHDbsy+TvjQzbnl/7ccZyz0zPbQwMPYlgGwRAAARAAARAAASsQeBXVkMeBV9t6uE8T7PLnQgDw8sRwn4QAAEQAAEQAAEQ8CBggXUMs1ilKga15DGx5HmmuzljMIsMCk977vTcxhxDTyLYBgEQAAEQAAEQAAHrE9jEKt7MEsFSjKUryyIPtaN5+z2Wtiw/e+zzuomIoVcsyAQBEAABEAABEAAB7wRcLyJ73xuw3LN8pcdZVrLIG8qTWXawDGOReYkySBzDUpplLoukQywySLxostTAUEAXDdIniFmxsfhLn/T7pgn6GKOpJUFFAjIZWlN6/jfr2mLSdyNZmcC5nBwrqwfdQMCTwDLOEDGmIYYNeYx8RclSA8Mr0hyFQQAEQAAEQAAEQMAsApr+Ha5PeM6sioHrggAIgAAIgAAIgIAmBBAx1MSRMAMEQAAEQAAEQCBwBAK0jmHgDHJeCRHDgCPHBUEABEAABEAABEDAmgQQMbSmX6AVCIAACIAACICAhQlYYB1Dv9BBxNAvWHFSEAABEAABEAABELAfAUQM7eczaAwCIAACIAACIGAyAU1fSiZEDE2uWLg8CIAACIAACIAACFiFACKGVvEE9AABEAABEAABELAHAYv89Ik/YCFi6A+qOCcIgAAIgAAIgAAI2JAAIoY2dBpUBgEQAAEQAAEQMJcA1jE0lz+uDgIgAAIgAAIgAAIg4GcCiBj6GTBODwIgAAIgAAIgoBcBNcVQ09eSMcdQr7oKa0AABEAABEAABECgwAQQMSwwOhwIAiAAAiAAAiBQWAloGjDEOoaFtULDbhAAARAAARAAARDwJICIoScRbIMACIAACIAACIDA5QhoGjLEHMPLOR77QQAEQAAEQAAEQKCQEEDEsJA4GmaCAAiAAAiAAAj4jgDWMfQdS5wJBEAABEAABEAABEDAggQQMbSgU6ASCIAACIAACICAtQlgHUNr+0dp9+nKFVSvTk2qU6sGjRn9Wh6NT58+TT26d1H772jSiA4eOJBbZsyokSpfjl/16co8x5qRcU+T2rR1wYu0PXUoPdXnnjwq3FQphJa9m0wbZz9HK98fSOHXl8stU+XGEFr8dn/akvICpacMppsqlc9zvBkZuvkI9li7DcE/1vaP9EG6+ei/n66g+PpRFFO3Jo19fVSeblbuQ317dlP7777zNjp00OGjtE0b6Y5GsUpubxRDS1IX5jnWjAzd/GMGQ7td058vn0xmGD+zbA8ElHPnztGgAf0pdfFy2rJtJ82dNZN27dzpdumpkz+kkHIhtGN3BiUPfILV/ja2AAAeNklEQVQGP/+M2i/l5s6eRelbd9CiJStoYPJjJOczMxUpcg2Ne7YztXv8bYpOHE6dWsZSrcgb3VQa+UR7mrF0IzXsMpJGTFpOw5Lb5u7/4JVeNHbaZ+rYO3qMoV9+/8NMc9S1dfMR7LF2G4J/rO0fXfuEp58YQHMXLqH16d9RytzZtHuX+31o+tTJVJbvQ+nb99CjyYPopReeU/1j7Tp1afW6DfTlhjSat3ApPTHgUTp79qyp/bZubcjXMNWvn/hZfK1zfs7nz4HhVFagZX6U8EWZTRs3UvXqNSgiMpKKFStGnbp0pSWLU91OLdsP9uyt8jokdqQ1n39GOTk5qpyUL168OFWLiFDnkfOZmeLrVqO9h3+lA1lH6e+z52juynRq07yem0q1IivR2o17VN7aTd/z/lvVdxlAFg0qQp9v2K22/3fyDJ089bf6bmbSzUewx9ptCP6xtn+kL9LNR2mbN1Jk9ep8H3Hchzp07EzLlixy63aXL11E3Xr0VHnt2ifS2jWfq/tQyZIlqWhRx+yu06dP8c+tmb8Wim7+MfP+Z6dr+3Ng+AWD+C1QMLKzs6hy5Sq5lwsPr0xZWVlul1dlqjjKSAMsU7YsHT16VJXzPFbKmpnCri9LmT/9nqtCFn8Pr1jWTaXvvs+idnc1UHnt7qpPZUqXoPJlS9HNN11Px/44SbNe/yd9M/MZGjHoAZIIpNlJNx/BHmu3IfjH2v6R/kg3Hx3Jzqbw8Av3oTC+D0meMWUbyqj7UJmy9BvfhyRt3riBboutR03jG9Cb49/OHSia1Xfr5h+fc/R3uNCk27Y/B4b59cHD0h5Efvn1l/weg3JM4LmxC+iO2Bpq8CefMng8d+48dyZFqGl0dXqW99/Oj5EjKlegnm0bgxkIgAAIgICFCcQ1bETfpG2jz75cz/MTX6NTp05ZWFuopisBKwwMJzHcOJGKFSoWmHNYWDhlZh7OPT4rK5P/cgt3O58qc9hRRuZunDh+nEJDQ1U5z2OlrJkp++fjVPmGkFwVwvl71i/H3VQ6wttdn/qAbus2ioZOWKz2Hf/zJA8Qj9G27zPVY2gZKC5avZUa1LrwV6xZdunmI9hj7TYE/1jbP9IP6eajSmFh/ATqwn0om+9DkmdMYYYy6j504jiV5/uQMdWsVZtKlS5Nu3YEZIr+RW8JuvnnooYWYIcjWCgrGfr3XwFUu+pDrDAwvGoj5ARx8fGUkfEDHdi/n86cOaNeJmnd5sLLGFJGtmdMn6auNz9lHjVrcZeaxyH5Ul7eFpPj5TzxDRv6RK+CnmTzjoNU46aKVDUslIKLBlGn+2Jo6ZptbqcLLVcqdx7K033vo2mp69V+ObbsdSWoQkhptd08vibt3vdjQVXx2XG6+Qj2WLsNwT/W9o90LLr5KCY2nvZmZPCKF4770Px5c+j+1glufWjLVgk08+PpKi91QQrd2ayF6sflGNfLJocOHaQf9uyhm6pW81n/W5AT6eafgjAojMdos46hzNUYO34CJbS+T7392jupL0XVqUPDXhpCMbFx1CahLSX17Ud9k3qqZWlCQsrT9BmzlM+lXGKnzhRdL0rN6Rj31kQKCgoytT5IpO+JUXPUkjNBPD9QBn27eHD34qOtKX3nIVq69ju6M+5m9SYyz1umr9IzaNDIOUrn8+dz6Lk3F6qlbKTD2bLrEE2ev85Ue+TiuvkI9li7DcE/1vaPrn3C6DfHU2LbVuo+9GCvJKodVYdGDBtKDWLiqFWbBOrJ96ZH+vVWy9WEhITQhx99ovrmb75eR+PfGM39ZDDPCS9Cr4+bQKEVKpjab+vWhnwKk0OGFng/yKcmuU7mz6mNM/kizVmkZv/EMpTlw0tZERMTm7Nug0w31COFxD+uhyFOK37fNEEre2AMCIAACHgSOPW3uUuVeepztdvXBpsb5Lha/Y3HN20UR+npaf4ct+Rb3br1o3MWfOr/gMvNN5RMY6Vkul3Akj8jht0CZgUuBAIgAAIgAAIgAAIBJGCJEaof7NVmjqEf2OCUIAACIAACIAACIFCoCPgzYlioQMJYEAABEAABEACBQkRA05AhIoaFqA7DVBAAARAAARAAARC4FAFEDC9FB/tAAARAAARAAARAIA8Bx/qFebI1yEDEUAMnwgQQAAEQAAEQAAEQ8AUBRAx9QRHnAAEQAAEQAAEQKFQEdF3HEBHDQlWNYSwIgAAIgAAIgAAIXJwAIoYXZ4M9IAACIAACIAACIJCHgOO3kvNka5GBiKEWboQRIAACIAACIAACIHD1BDAwvHqGOAMIgAAIgAAIgAAIaEEAj5K1cCOMAAEQAAEQAAEQCCgBLHAdUNy4GAiAAAiAAAiAAAiAQIAJIGIYYOC4HAiAAAiAAAiAgP0JyBLXOibMMdTRq7AJBEAABEAABEAABApAABHDAkDDISAAAiAAAiAAAoWbABa4Ltz+h/UgAAIgAAIgAAIgoD0BRAy1dzEMBAEQAAEQAAEQ8DUBPWcYEmGOoa9rCs4HAiAAAiAAAiAAAjYlgIihTR0HtUEABEAABEAABEwiwOFCzDE0iT0uCwIgAAIgAAIgAAIgEBgClooYbtl1iEIaJgfG8gBc5fdNEwJwFVwCBEDALgT+PnveLqrmS8/govrNRipaRNeZY/lyKQpdEQE964p+rfqKnIrCIAACIAACIAACIAACLgKWihjCLSAAAiAAAiAAAiBgdQISK8QcQ6t7CfqBAAiAAAiAAAiAAAhcFQFEDK8KHw4GARAAARAAARAojAT0nGGIdQwLY12GzSAAAiAAAiAAAiDglQAihl6xIBMEQAAEQAAEQAAELk4AcwwvzgZ7QAAEQAAEQAAEQAAENCCAiKEGToQJIAACIAACIAACgSVwDek5yxDrGAa2HuFqIAACIAACIAACIGBZAogYWtY1UAwEQAAEQAAEQMCyBPQMGBIihpatcVAMBEAABEAABEAABAJLABHDwPLG1UAABEAABEAABDQgoGnAEBFDDeomTAABEAABEAABEAABnxBAxNAnGHESEAABEAABEACBwkJA1jDEOoaFxduwEwRAAARAAARAAAQKKQFEDAup42E2CIAACIAACIBAwQlgHcOCs8ORIAACIAACIAACIAACNiCAiKENnAQVQQAEQAAEQAAELEZA09eSsY6hxeoZ1AEBEAABEAABEAABswggYmgWeVwXBEAABEAABEDAtgQ0DRhiHUPb1kgoDgIgAAIgAAIgAAI+JqDVo+R7mtSmrfNfoO2pQ+ippHvyoLqpUggte/dx2jj7WVo5aQCFX18ut8yfm8bT+pnPKJk79uE8x5qR8enKFVSvTk2qU6sGjRn9Wh4VTp8+TT26d1H772jSiA4eOJBbZsyokSpfjl/16co8x5qVoZtNsMfadU43/6z6dAXF1KtN9evcQm+OGZWnGUufkNSjq9rf4o7b6OBBh38+/2wV3dkknhrH1Vefa9d8nudYszJ09FH0reyjqFvojYv4qLf4iPcrHzn77c//u4ruuC2eGsXWV59rV1vDR7r5x5f13LWWoT8/falvfs/l74FhS1ZkD0sGy7P5Vaog5YoUuYbGPdOJ2iW/Q9GJr1KnlrFUK+JGt1ONHNSeZizZSA27vEYj3l9Bw5ITcvefPP03Ne42SkmnJyYVRAWfHnPu3DkaNKA/pS5eTlu27aS5s2bSrp073a4xdfKHFFIuhHbszqDkgU/Q4OefUful3NzZsyh96w5atGQFDUx+jOR8ZifdbII91q5zOvrn34OSKSV1KW3asp3mzZ1Fu3e59wkfTZ1M5UJCaOuO76l/8kAaOtjR7YaGVqDZ81Jp/eat9O77U+jhvr3N7g7U9bX00cBkmi8++pZ9NOciPuJ+e+tOh4+GvOD0UYUKNCcllTakbaX3PphCD/Uz30e6+ccSld4GSvhzYBjE9k9kuZ8liqWb89MvWOLrVqW9mb/Sgayj9PfZczR3ZRq1aX6r27VqRd5Iazd9r/Lks00z9/1+UayAJ920cSNVr16DIiIjqVixYtSpS1dasjjV7Wyy/WBPR+fRIbEjrfn8M8rJyVHlpHzx4sWpWkSEOo+cz+ykm02wx9p1Tjf/bN60kSKrV6eICEefkNipCy1dssitWS9dkkrdHuyl8h7owP7hyKD0CfUbRFOlsDCVXzuqDp08dZIkumh20tZHzn5bfLRksYePuH/u3sPgI44MevPRqZPm+0g3//i2vssqhv7/51ud83c2fw4MG7IKEincx3KGZRZLu/ypdeWlwiqWo8wff889MOvnY26PimXHd99nUbu76qsy8lmmdAkqX7ak2r62WFH66uOnae20JymheT2VZ2bKzs6iypWr5KoQHl6ZsrKy3FRSZao4yhQtWpTKlC1LR48eVeU8j5WyZifdbII91q5zuvnniEefEBYeTtkefcKR7Ozctq/6hDJl6TfuE4wpdUEKNWgQo/5wNDvp6KNwt347nMRvxpTt4aOy7CPptz19VN8CPtLNP2bXd7tc359vJYczhMMGEJn8vZEXMDKhT03qyzl70stu32U9N3YBjX22M/VIaETr0vdS1k+/86OMHHWBmq2HUvYvx6laeCiteC+Ztmdk036OQCKBAAiAgC4Edu3cQUNeeI4W8hQTJGsSUD4aDB9Z0zsXtJI3kvFbyf7zkkzoixO5pmiJAl8l+5djVPnGkNzj5cUSiRoa05FfT1DXpz6g27qPpqETF6tdx/90DEZlUChJHkV/sTmDGtSs7HZsoDfCwsIpM/PCuDorK5PCOUJgTKrMYUeZs2fP0onjxyk0NFSV8zxWypqddLMJ9li7zunmn0oefYJECyVqaEzyuNjV9lWfcOI4lec+QVJWZiZ175JIkz6YSpGR1c3uDtT1dfRRllu/ncWP8D37bXcfHWcfSb/t8lG3zon03ofsI542YHbSzT9m87TL9f35KFni5xeehRLJSMtvzzM37zhENapUpKphoRRcNIg63RdLS9d+5+aH0HKleITvWHno6b730rTU9Wp/uetKULFgR/BUytzWIIJ27fvRVB/GxcdTRsYPdGD/fjpz5ox6maR1m7ZuOsn2jOnTVN78lHnUrMVdyj7Jl/Iyh0iOl/PEN5Qn++Ym3WyCPdauc7r5JzYunvZlZNCBA44+IWXubGrV+sILdNK6W7VuSzNnfKQa+sL57J9mLVSfcOzYMerUIYFefmUENW7S1NyOwHB1HX20V3zk7LfFR63bePiI++dPPjb4qPkFH3Vszz4aPoJus4iPdPOPZSq+xRXx56PkTWz7zSwRLDIg7MrS3V88zp07T0+MmkuLJz5GQfyG8rRF69Xg7sVHWlH6zkO09IvtdGfszepNZJ6LTV+lZ9Cg1+YqdeTt5f8M7krneUcR7kRfn7KKdu83d2Ao84PGjp9ACa3vU2/u9U7qS1F16tCwl4ZQTGwctUloS0l9+1HfpJ5qWZqQkPI0fYZM4+Q3fbhcYqfOFF0viuQ8496aSEFB8i6QuUk3m2CPteucjv4ZM/Ytap9wv+oTevbuo14kGT5sKMXExFIrHnD04n7i4b691HI10idMmf6JavST3p1I+/Zm0KiRw5VIWrh4BVW8/npTOwUdffT6uLfoAfbReaOPXh5K0bGx6o928dFD4iNeriakPPvoI6eP3nH6aAT7iEVSKj/yN9NHuvnH1Mpuo4v7e+HuVsxiHIuMSiazvHopNteUqJhTvFaXSxWx1b7fN/7HVvpCWRAAAf8S+Pvsef9eIMBnDy7qz4dOATbGebmzHGTQKRUN0sdHTRvFUXp6mr/HLflyf4Po2JzV6zbkq+zVFAopWTSNj5fpdgFL/owYihHLnBIwg3AhEAABEAABEAABEACBghHw98CwYFrhKBAAARAAARAAARCwMAFZxVDHpE+MWUfvwCYQAAEQAAEQAAEQCCABRAwDCBuXAgEQAAEQAAEQ0IAABwuxjqEGfoQJIAACIAACIAACIAACFyeAiOHF2WAPCIAACIAACIAACOQhoH75JE+uHhmYY6iHH2EFCIAACIAACIAACFw1AUQMrxohTgACIAACIAACIFDoCGgaMkTEsNDVZBgMAiAAAiAAAiAAAt4JIGLonQtyQQAEQAAEQAAEQOCiBLCO4UXRYAcIgAAIgAAIgAAIgIAOBPAoWQcvwgYQAAEQAAEQAAEQ8AEBPEr2AUScAgRAAARAAARAoHARwALXhcvfsBYEQAAEQAAEQAAECh0BRAwLncthMAiAAAiAAAiAwNUS0HS1GsIcw6utGTgeBEAABEAABEAABDQhgIihJo6EGSAAAiAAAiAAAgEkoGnIEBHDANYhXAoEQAAEQAAEQAAErEwAA0Mrewe6gQAIgAAIgAAIWJKALHDt73/5MLwll9nDksHyrJfyxTlvtnP/Bv6s5qWMWxYGhpcjhP0gAAIgAAIgAAIgYD0CQazSRJb7WaJYujk/jZr2443fWWqwjGUZZdzp7TsGht6oIA8EQAAEQAAEQAAELkJAphfKOob+lotc3pXdkL9IpHAfyxmWWSztPI6R7WnOvHn8+Q+WS86OtNTLJzknf/n11JYJBz2M8sdmBT7pr/44sfGcJYIn+PsSrvMHxJ5AGcPXgT0BhF2AS+nmH0Ggm02wpwAVO4CHwD8Fg121YIf5/qj09LSVJYKvET/6O13LF9hsuMgk/i4iKZzlsGFfJn9vZNj2LHOWM46zhLL4fQzkoYflN42QLa9sPhSEPfmAZGIR+MdE+Pm8NHyUT1AmFYN/TAKfz8vq5p98mm16sY6swQcGLXry9wkeWm3n7cqGvL38/ZIDWjxKNt2vUAAEQAAEQAAEQAAErphAFh9RxXCUDAAlz5iMZeQpcVmWox5l3DYxMLwUHewDARAAARAAARAAAWsS2MRq3cwSwVKMpSvLIg9VZbu3M08ijJ+z5HiUcduUN1oKa0rTzHDYY22Hwj/W9o9oBx9Z20fwD/xjbQKB1+48X/IHlhksySwfs6SwDGO5jkWWsfmO5UGWkSwNWB5hkbeUkUAABEAABEAABEAABEAABEAABEAABEAABEAABEAABEAABEAABEAABEAABEAABEAABEDAnwQuuUCqPy+Mc1+WQKnLlrBXgRtZXdQ3e/kM2oKAbQjUZE1vYwlm0eXFG13skEokP9kTxyK/7ahDqsNGNGORxUR1SLezEbJOlivpcLNOYGMG6uAcpw3yKweyjtn1mth0H9vxDctNmtjTmO2QNiSf8hap3ZO8ESt9tqxwotO9yO5+gf75JNCBy+1m+YzlI5YBLGXyeawVi91iUEqHBtmG7dnGspplJovRPivyv5xO8tuVYs9ClqUsEvWwa5JOvzTLDpadLPJWmyvZecmre9mIb1nuMdhj56/yR4j0cbrY4/LPAbZpvJ0d49S9LX9KnyA/TzaPRQZVdk4PsPJbWeQt2HEsj7HoFq22s3+g+2UISIRwNktTZ7lE/hzD8iqLHQeHMoj6i+UTpz3yYefBYRPWfxdLtNOet/lzssE2u31tzgp/zyK/YylpAcvdzu92/vg/Vv7fLPKH1RN2NoR1lzr3E4vLR7Loq/zcVkkb2/Uk6/6UU/8w/pQBovw8lthmtyTtRX4DVqLu0n9/ynKn3Yww6CtPDVay1HXmSf/WiUUiu/KTZ3ZLYs9yliin4n35U9bUe5FFlklBsjEBO/+1f6XYZQDo+gtNbtRLWKTD6c5ip0di8hfZ4yyDWM6wyLpFks6x2HlwOIr13+K0ZSh/lmex6yNlGXD8i2Uji0QK5eYsPnuPRRYYtVN9Y3Vzk/zOpqyyLxEPGVC9ySJrY4k9dutLjrLOf7NUYpGbnER232GZymJXH4l/XEkiUnKzlno3kSXEsM8OX6Uv68UiUWrp82Q9NhkkSrJj+xHflGCpxSL3ouYsYp9E2l5gsVukTeyRpwiuJyEy0D3AUoFFAhdIIGALAvLXs6wAfodTW+l4ZFAoAyu7dTQSDZBGKY1QbgCuwaHTNNt9iC9ckVv5Lj/rI4PEik5L7DxHbzDbIB2/pCSWWSwuu5zZtvmozpo+69RWIocStZZBh11TfVZ8H0smy0MsMriVwZRMZZA/TOyWbmWFZQAldayPU/lI/nyXRebq2TG5/uBoycr/yCI22jXJHxxpLOtZJLIm6S6WqSxSF+2WZEqJ3HtkzuSrzu/yB/GHdjME+hZeAhKul7+eJ7EYH0l8ztuyGrhdkwyaZI6Ha3AYw9/lr1K7pqKsuAx6ZS6oJFmxXSI58te2DmkZGyE+smOSP0imsMggSlbbH8KymEVuBnZN8ihM+gVjWsEbdu0T5GWa/SzDDAa9z997uJtoyy2x6TkWO0aoXcAlcivTmIxRNem/Zf6h3ZJMUZD+WaKF8vTAleRpnB2naBlMwNfCREAaZX8WmRvxMEtvFnlUcYPNIUjkUG7YMvFcbtgScbN7msoGyGNK+QvbrlECz0h0otMeO7+IIjfnQywyAJHUgkUeL+uSXD6ya58gf1jJI0qJhPZzymb+lGiv3ZP45isWeapg5yQvpkl/LS/XyIAwnaWajQ1yRXXFBKl7X7PY7dG4jfFDdV8QKMYnkZuZPG6ZyuJ64cEX5zbzHPIygN0ftQg/GUyJj/ayyADkZjOh+ujaxfk8cpOWP0Lq+uicZp1GBoGxhosbbwpm6eSL60q968uyk8U1l80X5zXrHBKVHsHyBotd/7Dyxm4OZ1bztsNGeeVY1wEsa1nkhRQ7Pkb2htvVfnSqb97sRJ7GBOSvTl1uahIJXcVSTyN/JbEtOtygxSXBLK1YamrkH89oqN1NE3uas9h5GobdfXAp/XWrb2LrdSw6PXKVt/prXMqJ2AcCIBBYAjKHUqek441AJ//AFhAAARAAARAAARAAARAAARAAARAAARAAARAAARAAARAAARAAARAAARAAARAAARAAARAAARAAARAAARAAARAAARAAARAAARAAARAAARAAARAAARAAARAAgcJI4Bwb/S3Ldpa5LCWvAkJzPlZ+AUGSLOLr+ik9Z5bbh6zr9pi3HZfJe4n3P+WlzMXyjUWn8ob8RFl+UzUuKFyQQAAEQEBrArqs46e1k2AcCASIwEm+jvwUnCzCfYZFfgvVmGQJoYL0GfIb5a95nMu4WdCB4SVOiV0gAAIgAAIFIVCQTr4g18ExIAAC9iLwJasri9VWY9nD8hGLRMzkl0/kp7y+YZGf8pLIovy2taSWLPKzjJLfwZknH0ksE5zb8lNzC1i2OqUJf8qgUX6yTaKV8juykp5m2cSyjeVlZ558DGb5nkV+Gi0/C4bL7zrLeeR68pu0xijo3bwtPxcn53P9dq0sfC86uK5t59+BZjOQQAAEQAAEQAAEQKBgBP50Hia/t5vK8ihLNZbzLI2d+yrw5xcspZzbz/DnEBZZYP0wi/yEoUQW5afLXI+Sk/i7a2A4m78PYpEkg7CyLNVYjI9pZeA5icUVoZTz3MkiP8X3HYsM7uQXIzJYnmLxTC8Z8kMNO4fz92Tn9lT+XMEifxyLzpksYoP8hvoLLJLkpwxl4BjBUo3FqKMqgAQCIAACuhGQGwASCIAACAiBEiwStZMkEcMPWcJYDrKsd2SrAWIUyzrntvyutUQPa7HsZ/nBmf8xf8ogyzPdxRm9nJkyp/E4i/ykozHJwFBkizNTIpIyeJOfEJNo41/OfHlEfbkkj8VlQCiPq+U88tu0riSDVxn0is77WMQGua78tGRHZyEZuMq1JaqIBAIgAALaE8DAUHsXw0AQyDcB1xxDzwP+Z8iQKJ78Lnc3j0IyN9FXSa4xkuU9jxO6Io1Xcp2pXPgBFnmUnMTS3HBwjuG7fJVtubZEFY0DSNlXTf5DAgEQAAHdCWCOoe4ehn0g4FsCEjlsylLDeVp5pHwLi8wtrMYicwUleQ4cndn0GX+RR9SSXI+S/+DvEg10JRmU9WVxzV0M5+/Xs8gjbBnkSWRTyiewXC5JuSMswSwPehTuxNvSB4rOkSwyl1KuLfpJeUlim+uxuTMLHyAAAiCgLwFEDPX1LSwDAX8Q+IVPmsQyk0Xm4EmSOXnyqFUeHS9lkUe98ijaONiTcpIGssj8wX4s8ihZBmHyKFoeTcscvuUs8uJJbWc+f9CfLD1Y5KUWmaMo0b+fWeQFkculF7nABhbRWz6NOh3i7Y0sMl/xEZZTLB+wVGORa0n0UI6TwSgSCIAACIAACIAACIAACIAACIAACIAACIAACIAACIAACIAACIAACIAACIAACIAACIAACIAACIAACIAACIAACIAACIAACIAACIAACIAACIAACIAACIAACIAACIAACIAACIAACIAACIAACIAACIAACIAACIAACIAACIAACIAACICAgcD/A05N9eJmCZKuAAAAAElFTkSuQmCC)"
      ]
    },
    {
      "cell_type": "code",
      "metadata": {
        "id": "5MDQqjiXAA1Z"
      },
      "source": [
        "# TODO write a function to calculate the confusion values\n"
      ],
      "execution_count": null,
      "outputs": []
    },
    {
      "cell_type": "code",
      "metadata": {
        "id": "KQySw9eX3GgT"
      },
      "source": [
        "# TODO normalize and plot the confusion matrix\n"
      ],
      "execution_count": null,
      "outputs": []
    },
    {
      "cell_type": "markdown",
      "metadata": {
        "id": "KpRlatE06V7i"
      },
      "source": [
        "Which digit is often confused for which digit?"
      ]
    },
    {
      "cell_type": "markdown",
      "metadata": {
        "id": "Qr-54ftByys1"
      },
      "source": [
        "**TODO your answer here**\n"
      ]
    },
    {
      "cell_type": "code",
      "metadata": {
        "id": "mqIEODPUyys5"
      },
      "source": [
        ""
      ],
      "execution_count": null,
      "outputs": []
    }
  ]
}